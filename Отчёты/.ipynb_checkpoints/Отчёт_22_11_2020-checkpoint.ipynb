{
 "cells": [
  {
   "cell_type": "markdown",
   "metadata": {},
   "source": [
    "# Отчёт_22_11_2020"
   ]
  },
  {
   "cell_type": "markdown",
   "metadata": {},
   "source": [
    "## Изменение главной директории (выполнять только один раз!)"
   ]
  },
  {
   "cell_type": "code",
   "execution_count": 1,
   "metadata": {},
   "outputs": [],
   "source": [
    "import sys\n",
    "import os\n",
    "os.chdir('..//') \n",
    "sys.path.append(os.path.abspath('pycode'))\n",
    "#sys.path.append(os.path.abspath('tests'))"
   ]
  },
  {
   "cell_type": "markdown",
   "metadata": {},
   "source": [
    "## Список файлов в директории"
   ]
  },
  {
   "cell_type": "code",
   "execution_count": 2,
   "metadata": {},
   "outputs": [
    {
     "name": "stdout",
     "output_type": "stream",
     "text": [
      "['tests_info.dat', 'test_1_10_2.dat', 'test_1_10_3.dat', 'test_1_10_4.dat', 'test_1_10_5.dat', 'test_1_10_6.dat', 'test_1_10_8.dat', 'test_1_15_2.dat', 'test_1_15_3.dat', 'test_1_15_4.dat', 'test_1_15_5.dat', 'test_1_15_6.dat', 'test_1_15_8.dat', 'test_1_20_2.dat', 'test_1_20_3.dat', 'test_1_20_4.dat', 'test_1_20_5.dat', 'test_1_20_6.dat', 'test_1_20_8.dat', 'test_1_25_2.dat', 'test_1_25_3.dat', 'test_1_25_4.dat', 'test_1_25_5.dat', 'test_1_25_6.dat', 'test_1_30_2.dat', 'test_1_30_3.dat', 'test_1_30_4.dat', 'test_1_30_5.dat', 'test_1_30_6.dat', 'test_1_30_8.dat', 'test_1_40_2.dat', 'test_1_40_4.dat', 'test_1_40_8.dat', 'test_1_50_2.dat', 'test_1_50_4.dat', 'test_1_50_8.dat', 'test_1_80_2.dat', 'test_1_80_4.dat', 'test_1_80_8.dat', 'test_2_10_2.dat', 'test_2_10_3.dat', 'test_2_10_4.dat', 'test_2_10_5.dat', 'test_2_10_6.dat', 'test_2_10_8.dat', 'test_2_15_2.dat', 'test_2_15_3.dat', 'test_2_15_4.dat', 'test_2_15_5.dat', 'test_2_15_6.dat', 'test_2_15_8.dat', 'test_2_20_2.dat', 'test_2_20_3.dat', 'test_2_20_4.dat', 'test_2_20_5.dat', 'test_2_20_6.dat', 'test_2_20_8.dat', 'test_2_25_2.dat', 'test_2_25_3.dat', 'test_2_25_4.dat', 'test_2_25_5.dat', 'test_2_25_6.dat', 'test_2_30_2.dat', 'test_2_30_3.dat', 'test_2_30_4.dat', 'test_2_30_5.dat', 'test_2_30_6.dat', 'test_2_30_8.dat', 'test_2_40_2.dat', 'test_2_40_4.dat', 'test_2_40_8.dat', 'test_2_50_2.dat', 'test_2_50_4.dat', 'test_2_50_8.dat', 'test_2_80_2.dat', 'test_2_80_4.dat', 'test_2_80_8.dat']\n"
     ]
    }
   ],
   "source": [
    "print(os.listdir(\"tests/\"))"
   ]
  },
  {
   "cell_type": "markdown",
   "metadata": {},
   "source": [
    "## Параметры для чтения файлов и расчётов:"
   ]
  },
  {
   "cell_type": "code",
   "execution_count": 3,
   "metadata": {},
   "outputs": [],
   "source": [
    "with open(\"tests/tests_info.dat\") as f:\n",
    "    listAmntSubds = [int(x) for x in f.readline().split()]\n",
    "    listSplitCoefs = [int(x) for x in f.readline().split()]\n",
    "    listCoefsConvergence = [float(x) for x in f.readline().split()]"
   ]
  },
  {
   "cell_type": "markdown",
   "metadata": {},
   "source": [
    "## Подключение необходимых библиотек"
   ]
  },
  {
   "cell_type": "code",
   "execution_count": 4,
   "metadata": {},
   "outputs": [],
   "source": [
    "import numpy as np\n",
    "import pandas as pd\n",
    "from programDisplacements import mainProgram as mp\n",
    "from programDisplacements import SchwarzAdditiveProgram as sap\n",
    "from programDisplacements import SchwarzMultiplicativeProgram as smp\n",
    "import matplotlib.pyplot as plt\n",
    "from tqdm import tqdm"
   ]
  },
  {
   "cell_type": "markdown",
   "metadata": {},
   "source": [
    "### Предоставленные задачи:"
   ]
  },
  {
   "cell_type": "markdown",
   "metadata": {},
   "source": [
    "- закрепление с трёх сторон;\n",
    "- закрепление с двух сторон;\n",
    "<div>\n",
    "<img src=\"img/tasks_Rodin.jpg\" width=\"250\"/>\n",
    "</div>"
   ]
  },
  {
   "cell_type": "markdown",
   "metadata": {},
   "source": [
    "## Первая задача:"
   ]
  },
  {
   "cell_type": "code",
   "execution_count": 5,
   "metadata": {},
   "outputs": [],
   "source": [
    "taskNum = 1\n",
    "coefConvergence = 1e-3"
   ]
  },
  {
   "cell_type": "markdown",
   "metadata": {},
   "source": [
    "### Получаем данные:"
   ]
  },
  {
   "cell_type": "code",
   "execution_count": 6,
   "metadata": {},
   "outputs": [
    {
     "name": "stdout",
     "output_type": "stream",
     "text": [
      "Additive CritConvergence = 0.00098734825286197942426336\r"
     ]
    }
   ],
   "source": [
    "uList_smp = []\n",
    "uList_sap = []\n",
    "itList_smp = []\n",
    "itList_sap = []\n",
    "for x in listAmntSubds:\n",
    "    tmp_1, tmp_2 = [], []\n",
    "    for y in listSplitCoefs:\n",
    "        *arg, it_1 = smp(f\"test_{taskNum}_{y}_{x}.dat\", coefConvergence)\n",
    "        *arg, it_2 = sap(f\"test_{taskNum}_{y}_{x}.dat\", coefConvergence)\n",
    "        tmp_1.append(it_1)\n",
    "        tmp_2.append(it_2)\n",
    "    itList_smp.append(tmp_1)\n",
    "    itList_sap.append(tmp_2)"
   ]
  },
  {
   "cell_type": "markdown",
   "metadata": {},
   "source": [
    "### Мультипликативный метод Шварца:"
   ]
  },
  {
   "cell_type": "markdown",
   "metadata": {},
   "source": [
    "##### Построение таблиц:\n",
    "Таблица ошибок для перемещений:"
   ]
  },
  {
   "cell_type": "code",
   "execution_count": 7,
   "metadata": {},
   "outputs": [
    {
     "data": {
      "text/html": [
       "<style  type=\"text/css\" >\n",
       "</style><table id=\"T_e7319b09_2e5b_11eb_84a7_50465d740ddc\" ><thead>    <tr>        <th class=\"blank level0\" ></th>        <th class=\"col_heading level0 col0\" >400 точек</th>        <th class=\"col_heading level0 col1\" >900 точек</th>        <th class=\"col_heading level0 col2\" >1600 точек</th>        <th class=\"col_heading level0 col3\" >2500 точек</th>    </tr></thead><tbody>\n",
       "                <tr>\n",
       "                        <th id=\"T_e7319b09_2e5b_11eb_84a7_50465d740ddclevel0_row0\" class=\"row_heading level0 row0\" >2 подобласти</th>\n",
       "                        <td id=\"T_e7319b09_2e5b_11eb_84a7_50465d740ddcrow0_col0\" class=\"data row0 col0\" >4</td>\n",
       "                        <td id=\"T_e7319b09_2e5b_11eb_84a7_50465d740ddcrow0_col1\" class=\"data row0 col1\" >4</td>\n",
       "                        <td id=\"T_e7319b09_2e5b_11eb_84a7_50465d740ddcrow0_col2\" class=\"data row0 col2\" >4</td>\n",
       "                        <td id=\"T_e7319b09_2e5b_11eb_84a7_50465d740ddcrow0_col3\" class=\"data row0 col3\" >4</td>\n",
       "            </tr>\n",
       "            <tr>\n",
       "                        <th id=\"T_e7319b09_2e5b_11eb_84a7_50465d740ddclevel0_row1\" class=\"row_heading level0 row1\" >4 подобласти</th>\n",
       "                        <td id=\"T_e7319b09_2e5b_11eb_84a7_50465d740ddcrow1_col0\" class=\"data row1 col0\" >7</td>\n",
       "                        <td id=\"T_e7319b09_2e5b_11eb_84a7_50465d740ddcrow1_col1\" class=\"data row1 col1\" >7</td>\n",
       "                        <td id=\"T_e7319b09_2e5b_11eb_84a7_50465d740ddcrow1_col2\" class=\"data row1 col2\" >7</td>\n",
       "                        <td id=\"T_e7319b09_2e5b_11eb_84a7_50465d740ddcrow1_col3\" class=\"data row1 col3\" >7</td>\n",
       "            </tr>\n",
       "            <tr>\n",
       "                        <th id=\"T_e7319b09_2e5b_11eb_84a7_50465d740ddclevel0_row2\" class=\"row_heading level0 row2\" >8 подобластей</th>\n",
       "                        <td id=\"T_e7319b09_2e5b_11eb_84a7_50465d740ddcrow2_col0\" class=\"data row2 col0\" >22</td>\n",
       "                        <td id=\"T_e7319b09_2e5b_11eb_84a7_50465d740ddcrow2_col1\" class=\"data row2 col1\" >21</td>\n",
       "                        <td id=\"T_e7319b09_2e5b_11eb_84a7_50465d740ddcrow2_col2\" class=\"data row2 col2\" >18</td>\n",
       "                        <td id=\"T_e7319b09_2e5b_11eb_84a7_50465d740ddcrow2_col3\" class=\"data row2 col3\" >19</td>\n",
       "            </tr>\n",
       "    </tbody></table>"
      ],
      "text/plain": [
       "<pandas.io.formats.style.Styler at 0x21588e2d910>"
      ]
     },
     "execution_count": 7,
     "metadata": {},
     "output_type": "execute_result"
    }
   ],
   "source": [
    "df = pd.DataFrame(itList_smp, columns = [f\"{x**2} точек\" for x in listSplitCoefs], index = [f\"{x} подобласти\" if x<5 else f\"{x} подобластей\" for x in listAmntSubds])\n",
    "df.style"
   ]
  },
  {
   "cell_type": "markdown",
   "metadata": {},
   "source": [
    "### Аддитивный метод Шварца:"
   ]
  },
  {
   "cell_type": "markdown",
   "metadata": {},
   "source": [
    "##### Построение таблиц:\n",
    "Таблица ошибок для перемещений:"
   ]
  },
  {
   "cell_type": "code",
   "execution_count": 8,
   "metadata": {},
   "outputs": [
    {
     "data": {
      "text/html": [
       "<style  type=\"text/css\" >\n",
       "</style><table id=\"T_e733bdc7_2e5b_11eb_9341_50465d740ddc\" ><thead>    <tr>        <th class=\"blank level0\" ></th>        <th class=\"col_heading level0 col0\" >400 точек</th>        <th class=\"col_heading level0 col1\" >900 точек</th>        <th class=\"col_heading level0 col2\" >1600 точек</th>        <th class=\"col_heading level0 col3\" >2500 точек</th>    </tr></thead><tbody>\n",
       "                <tr>\n",
       "                        <th id=\"T_e733bdc7_2e5b_11eb_9341_50465d740ddclevel0_row0\" class=\"row_heading level0 row0\" >2 подобласти</th>\n",
       "                        <td id=\"T_e733bdc7_2e5b_11eb_9341_50465d740ddcrow0_col0\" class=\"data row0 col0\" >12</td>\n",
       "                        <td id=\"T_e733bdc7_2e5b_11eb_9341_50465d740ddcrow0_col1\" class=\"data row0 col1\" >12</td>\n",
       "                        <td id=\"T_e733bdc7_2e5b_11eb_9341_50465d740ddcrow0_col2\" class=\"data row0 col2\" >12</td>\n",
       "                        <td id=\"T_e733bdc7_2e5b_11eb_9341_50465d740ddcrow0_col3\" class=\"data row0 col3\" >12</td>\n",
       "            </tr>\n",
       "            <tr>\n",
       "                        <th id=\"T_e733bdc7_2e5b_11eb_9341_50465d740ddclevel0_row1\" class=\"row_heading level0 row1\" >4 подобласти</th>\n",
       "                        <td id=\"T_e733bdc7_2e5b_11eb_9341_50465d740ddcrow1_col0\" class=\"data row1 col0\" >20</td>\n",
       "                        <td id=\"T_e733bdc7_2e5b_11eb_9341_50465d740ddcrow1_col1\" class=\"data row1 col1\" >21</td>\n",
       "                        <td id=\"T_e733bdc7_2e5b_11eb_9341_50465d740ddcrow1_col2\" class=\"data row1 col2\" >21</td>\n",
       "                        <td id=\"T_e733bdc7_2e5b_11eb_9341_50465d740ddcrow1_col3\" class=\"data row1 col3\" >21</td>\n",
       "            </tr>\n",
       "            <tr>\n",
       "                        <th id=\"T_e733bdc7_2e5b_11eb_9341_50465d740ddclevel0_row2\" class=\"row_heading level0 row2\" >8 подобластей</th>\n",
       "                        <td id=\"T_e733bdc7_2e5b_11eb_9341_50465d740ddcrow2_col0\" class=\"data row2 col0\" >66</td>\n",
       "                        <td id=\"T_e733bdc7_2e5b_11eb_9341_50465d740ddcrow2_col1\" class=\"data row2 col1\" >61</td>\n",
       "                        <td id=\"T_e733bdc7_2e5b_11eb_9341_50465d740ddcrow2_col2\" class=\"data row2 col2\" >54</td>\n",
       "                        <td id=\"T_e733bdc7_2e5b_11eb_9341_50465d740ddcrow2_col3\" class=\"data row2 col3\" >56</td>\n",
       "            </tr>\n",
       "    </tbody></table>"
      ],
      "text/plain": [
       "<pandas.io.formats.style.Styler at 0x2158825bc10>"
      ]
     },
     "execution_count": 8,
     "metadata": {},
     "output_type": "execute_result"
    }
   ],
   "source": [
    "df = pd.DataFrame(itList_sap, columns = [f\"{x**2} точек\" for x in listSplitCoefs], index = [f\"{x} подобласти\" if x<5 else f\"{x} подобластей\" for x in listAmntSubds])\n",
    "df.style"
   ]
  },
  {
   "cell_type": "code",
   "execution_count": null,
   "metadata": {},
   "outputs": [],
   "source": []
  }
 ],
 "metadata": {
  "kernelspec": {
   "display_name": "Python 3",
   "language": "python",
   "name": "python3"
  },
  "language_info": {
   "codemirror_mode": {
    "name": "ipython",
    "version": 3
   },
   "file_extension": ".py",
   "mimetype": "text/x-python",
   "name": "python",
   "nbconvert_exporter": "python",
   "pygments_lexer": "ipython3",
   "version": "3.8.3"
  }
 },
 "nbformat": 4,
 "nbformat_minor": 4
}
