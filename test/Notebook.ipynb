{
 "cells": [
  {
   "cell_type": "markdown",
   "metadata": {
    "id": "9fSLDCZzkzCB"
   },
   "source": [
    "Рассмотрим случай области $\\Omega$, состоящей из двух подобластей $\\Omega_1$ и $\\Omega_2$. \n",
    "\n",
    "<div>\n",
    "<img src=\"img/2_subdomains.png\" width=\"350\"/>\n",
    "</div>"
   ]
  },
  {
   "cell_type": "markdown",
   "metadata": {
    "id": "FyUGTsBkkzCD"
   },
   "source": [
    "## Первая задача\n",
    "\n",
    "Выбирем $u^0$ = 0, $\\delta\\Omega_{N, 1} = \\delta\\Omega_N \\cap \\delta\\Omega_1$. На первой подобласти $\\Omega_1$ решаем задачу:\n",
    "\\begin{equation}\n",
    "Lu_1^{n+1}=f_1(x), x \\in \\Omega_1 \\\\\n",
    "\\sigma(u_1^{n+1})\\cdot n = p(x), x \\in \\delta\\Omega_{N, 1} \\\\\n",
    "u_1(x)\\cdot n = 0, x \\in \\delta\\Omega_{D, 1} \\\\\n",
    "u_1^{n+1}(x_1) = u_1^{n}(x_1), x_1 \\in \\delta\\Omega_1 \\\\\n",
    "u_1^{n+1}(x_2) = u_1^{n}(x_2), x_2 \\in \\delta\\Omega_1 / (\\delta\\Omega_1 \\cup \\delta\\Omega_D) \\\\\n",
    "\\end{equation}\n",
    "Для данной задачи решение на первой подобласти будет такого типа:\n",
    "<div>\n",
    "<img src=\"img/01.png\" width=\"350\"/>\n",
    "</div>\n",
    "Как видите, из-за закрепления почти всех элементов на правой границе по координате $x_2$ ($y$), внутри области элементы смещаются по координате $x_1$, что негативно влияет на всё дальнейшее решение.\n"
   ]
  },
  {
   "cell_type": "markdown",
   "metadata": {
    "id": "ANh0cAz8kzCD"
   },
   "source": [
    "## Вторая задача\n",
    "Решим для первой подобласти иную задачу:\n",
    "\\begin{equation}\n",
    "Lu_1^{n+1}=f_1(x), x \\in \\Omega_1 \\\\\n",
    "\\sigma(u_1^{n+1})\\cdot n = p(x), x \\in \\delta\\Omega_{N, 1} \\\\\n",
    "u_1(x)\\cdot n = 0, x \\in \\delta\\Omega_{D, 1} \\\\\n",
    "u_1^{n+1}(x) = u_1^{n}(x), x \\in \\delta\\Omega_1 \\\\\n",
    "\\end{equation}\n",
    "Для данной задачи решение на первой подобласти будет такого типа:\n",
    "<div>\n",
    "<img src=\"img/02.png\" width=\"350\"/>\n",
    "</div>\n",
    "Как видите, из-за закрепления всех элементов на правой границе по координатам $x$ ($x$ и $y$), внутри области элементы смещаются по координате $x_1$, что негативно влияет на всё дальнейшее решение."
   ]
  },
  {
   "cell_type": "markdown",
   "metadata": {
    "id": "WobFslslkzCE"
   },
   "source": [
    "## Третья задача\n",
    "Решим для первой подобласти ещё иную задачу:\n",
    "\\begin{equation}\n",
    "Lu_1^{n+1}=f_1(x), x \\in \\Omega_1 \\\\\n",
    "\\sigma(u_1^{n+1})\\cdot n = p(x), x \\in \\delta\\Omega_{N, 1} \\\\\n",
    "u_1(x)\\cdot n = 0, x \\in \\delta\\Omega_{D, 1} \\\\\n",
    "u_1^{n+1}(x_1) = u_1^{n}(x_1), x_1 \\in \\delta\\Omega_1 \\\\\n",
    "\\end{equation}\n",
    "Для данной задачи решение на первой подобласти будет такого типа:\n",
    "<div>\n",
    "<img src=\"img/03.png\" width=\"350\"/>\n",
    "</div>\n",
    "Как видите, из-за закрепления всех элементов на правой границе по координате $x_1$ ($x$), внутри области элементы смещаются как надо по координате  $x_1$, что, конечно, хорошо, но немного противоречит всей сути метода Шварца."
   ]
  },
  {
   "cell_type": "markdown",
   "metadata": {
    "id": "RmnXDRtbkzCF"
   },
   "source": [
    "## Четвёртая задача\n",
    "И рассмотрим последнюю задачу:\n",
    "\\begin{equation}\n",
    "Lu_1^{n+1}=f_1(x), x \\in \\Omega_1 \\\\\n",
    "\\sigma(u_1^{n+1})\\cdot n = p(x), x \\in \\delta\\Omega_{N, 1} \\\\\n",
    "u_1(x)\\cdot n = 0, x \\in \\delta\\Omega_{D, 1} \\\\\n",
    "u_1^{n+1}(x) = u_1^{n}(x), x \\in \\delta\\Omega_1 / (\\delta\\Omega_1 \\cup \\delta\\Omega_D) \\\\\n",
    "\\end{equation}\n",
    "Для данной задачи решение на первой подобласти будет такого типа:\n",
    "<div>\n",
    "<img src=\"img/04.png\" width=\"350\"/>\n",
    "</div>\n",
    "Как видите, из-за закрепления почти всех элементов на правой границе по координатам $x$ ($x$ и $y$), а узел на пересечении границы подобласти и границы, на которой заданы силовые условия, уходит вбок. Также внутри области элементы смещаются по координате $x_1$, что негативно влияет на всё дальнейшее решение."
   ]
  }
 ],
 "metadata": {
  "colab": {
   "name": "Notebook.ipynb",
   "provenance": [],
   "toc_visible": true
  },
  "kernelspec": {
   "display_name": "Python 3",
   "language": "python",
   "name": "python3"
  },
  "language_info": {
   "codemirror_mode": {
    "name": "ipython",
    "version": 3
   },
   "file_extension": ".py",
   "mimetype": "text/x-python",
   "name": "python",
   "nbconvert_exporter": "python",
   "pygments_lexer": "ipython3",
   "version": "3.8.3"
  }
 },
 "nbformat": 4,
 "nbformat_minor": 1
}
