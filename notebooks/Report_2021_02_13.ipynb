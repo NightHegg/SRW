{
 "cells": [
  {
   "cell_type": "markdown",
   "metadata": {},
   "source": [
    "# Отчёт_13_02_2021"
   ]
  },
  {
   "cell_type": "markdown",
   "metadata": {},
   "source": [
    "## Изменение главной директории (выполнять только один раз!)"
   ]
  },
  {
   "cell_type": "code",
   "execution_count": 1,
   "metadata": {},
   "outputs": [
    {
     "name": "stdout",
     "output_type": "stream",
     "text": [
      "C:\\Users\\NightHegg\\Desktop\\projects\\SRW\n"
     ]
    }
   ],
   "source": [
    "import sys\n",
    "import os\n",
    "os.chdir('..//')\n",
    "print(os.getcwd())"
   ]
  },
  {
   "cell_type": "markdown",
   "metadata": {},
   "source": [
    "## Подключение необходимых библиотек"
   ]
  },
  {
   "cell_type": "code",
   "execution_count": 2,
   "metadata": {},
   "outputs": [],
   "source": [
    "import numpy as np\n",
    "import pandas as pd\n",
    "import matplotlib.pyplot as plt\n",
    "import scipy as sp\n",
    "\n",
    "from scr.class_basic_method import basic_method\n",
    "from scr.class_schwarz_multiplicative import schwarz_multiplicative\n",
    "from scr.class_schwarz_additive import schwarz_additive\n",
    "from scr.class_schwarz_two_level_additive import schwarz_two_level_additive"
   ]
  },
  {
   "cell_type": "markdown",
   "metadata": {},
   "source": [
    "## Функция для получения результатов"
   ]
  },
  {
   "cell_type": "code",
   "execution_count": 3,
   "metadata": {},
   "outputs": [],
   "source": [
    "def calculate_iters(cur_task, cur_method, list_edge_size, list_subds):\n",
    "    dict_result = {}\n",
    "    dict_result_sigma = {}\n",
    "    for cur_edge_size in list_edge_size:\n",
    "        dict_iters_temp = {}\n",
    "        dict_sigma_temp = {}\n",
    "        for cur_amnt_subds in list_subds:\n",
    "            obj = cur_method(cur_task, cur_edge_size, cur_amnt_subds, coef_convergence)\n",
    "            obj.get_solution()\n",
    "            \n",
    "            array_amnt_subds = np.prod(np.array(cur_amnt_subds))\n",
    "            styled_amnt_subds = f\"{array_amnt_subds} области\" if array_amnt_subds < 5 else f\"{array_amnt_subds} областей\"\n",
    "            \n",
    "            dict_iters_temp[styled_amnt_subds] = obj.amnt_iterations\n",
    "            dict_sigma_temp[styled_amnt_subds] = obj.get_special_sigma()\n",
    "            \n",
    "        dict_result[f\"h = {cur_edge_size:.0e}\"] = dict_iters_temp\n",
    "        dict_result_sigma[f\"h = {cur_edge_size:.0e}\"] = dict_sigma_temp\n",
    "    return dict_result, dict_result_sigma\n",
    "\n",
    "\n",
    "def calculate_conv(cur_task, cur_method, cur_mesh, cur_subds, list_coef):\n",
    "    dict_result = {}\n",
    "    dict_result_temp = {}\n",
    "    for cur_coef in list_coef:\n",
    "        obj = cur_method(cur_task, cur_mesh, cur_subds, cur_coef)\n",
    "        obj.get_solution()\n",
    "        dict_result_temp[f\"{cur_coef:.0e}\"] = obj.amnt_iterations\n",
    "    dict_result[\"Количество итераций\"] = dict_result_temp\n",
    "    return dict_result"
   ]
  },
  {
   "cell_type": "markdown",
   "metadata": {},
   "source": [
    "### Предоставленные задачи:"
   ]
  },
  {
   "cell_type": "markdown",
   "metadata": {},
   "source": [
    "- закрепление с трёх сторон;\n",
    "- закрепление с двух сторон;\n",
    "<div>\n",
    "<img src=\"img/tasks_Rodin.jpg\" width=\"250\"/>\n",
    "</div>"
   ]
  },
  {
   "cell_type": "markdown",
   "metadata": {},
   "source": [
    "Три сетки: \n",
    "- h = 5e-4 (475 точек);\n",
    "- h = 3e-4 (1907 точек);\n",
    "- h = 1e-4 (7491 точек);"
   ]
  },
  {
   "cell_type": "markdown",
   "metadata": {},
   "source": [
    "## Первая задача:"
   ]
  },
  {
   "cell_type": "code",
   "execution_count": 4,
   "metadata": {},
   "outputs": [],
   "source": [
    "cur_task = 1\n",
    "coef_convergence = 1e-5\n",
    "\n",
    "list_subds = [[2, 1], [4, 1], [8, 1]]\n",
    "list_edge_size = [5e-4, 3e-4, 1e-4]"
   ]
  },
  {
   "cell_type": "markdown",
   "metadata": {},
   "source": [
    "### Мультипликативный метод Шварца:"
   ]
  },
  {
   "cell_type": "code",
   "execution_count": 5,
   "metadata": {},
   "outputs": [
    {
     "name": "stdout",
     "output_type": "stream",
     "text": [
      "9.940e-06\r"
     ]
    }
   ],
   "source": [
    "dict_iters_sm, dict_sigma_sm = calculate_iters(cur_task, schwarz_multiplicative, list_edge_size, list_subds)"
   ]
  },
  {
   "cell_type": "markdown",
   "metadata": {},
   "source": [
    "Таблица количества итераций:"
   ]
  },
  {
   "cell_type": "code",
   "execution_count": 6,
   "metadata": {},
   "outputs": [
    {
     "data": {
      "text/html": [
       "<div>\n",
       "<style scoped>\n",
       "    .dataframe tbody tr th:only-of-type {\n",
       "        vertical-align: middle;\n",
       "    }\n",
       "\n",
       "    .dataframe tbody tr th {\n",
       "        vertical-align: top;\n",
       "    }\n",
       "\n",
       "    .dataframe thead th {\n",
       "        text-align: right;\n",
       "    }\n",
       "</style>\n",
       "<table border=\"1\" class=\"dataframe\">\n",
       "  <thead>\n",
       "    <tr style=\"text-align: right;\">\n",
       "      <th></th>\n",
       "      <th>h = 5e-04</th>\n",
       "      <th>h = 3e-04</th>\n",
       "      <th>h = 1e-04</th>\n",
       "    </tr>\n",
       "  </thead>\n",
       "  <tbody>\n",
       "    <tr>\n",
       "      <th>2 области</th>\n",
       "      <td>13</td>\n",
       "      <td>13</td>\n",
       "      <td>13</td>\n",
       "    </tr>\n",
       "    <tr>\n",
       "      <th>4 области</th>\n",
       "      <td>37</td>\n",
       "      <td>36</td>\n",
       "      <td>37</td>\n",
       "    </tr>\n",
       "    <tr>\n",
       "      <th>8 областей</th>\n",
       "      <td>133</td>\n",
       "      <td>112</td>\n",
       "      <td>112</td>\n",
       "    </tr>\n",
       "  </tbody>\n",
       "</table>\n",
       "</div>"
      ],
      "text/plain": [
       "            h = 5e-04  h = 3e-04  h = 1e-04\n",
       "2 области          13         13         13\n",
       "4 области          37         36         37\n",
       "8 областей        133        112        112"
      ]
     },
     "execution_count": 6,
     "metadata": {},
     "output_type": "execute_result"
    }
   ],
   "source": [
    "pd.DataFrame.from_dict(dict_iters_sm)"
   ]
  },
  {
   "cell_type": "markdown",
   "metadata": {},
   "source": [
    "Таблица разницы для осевого напряжения:"
   ]
  },
  {
   "cell_type": "code",
   "execution_count": 7,
   "metadata": {},
   "outputs": [
    {
     "data": {
      "text/html": [
       "<div>\n",
       "<style scoped>\n",
       "    .dataframe tbody tr th:only-of-type {\n",
       "        vertical-align: middle;\n",
       "    }\n",
       "\n",
       "    .dataframe tbody tr th {\n",
       "        vertical-align: top;\n",
       "    }\n",
       "\n",
       "    .dataframe thead th {\n",
       "        text-align: right;\n",
       "    }\n",
       "</style>\n",
       "<table border=\"1\" class=\"dataframe\">\n",
       "  <thead>\n",
       "    <tr style=\"text-align: right;\">\n",
       "      <th></th>\n",
       "      <th>h = 5e-04</th>\n",
       "      <th>h = 3e-04</th>\n",
       "      <th>h = 1e-04</th>\n",
       "    </tr>\n",
       "  </thead>\n",
       "  <tbody>\n",
       "    <tr>\n",
       "      <th>2 области</th>\n",
       "      <td>min = 1.40e-06, max = 5.75e-07</td>\n",
       "      <td>min = 8.63e-07, max = 3.99e-07</td>\n",
       "      <td>min = 6.84e-07, max = 3.29e-07</td>\n",
       "    </tr>\n",
       "    <tr>\n",
       "      <th>4 области</th>\n",
       "      <td>min = 8.45e-06, max = 3.97e-06</td>\n",
       "      <td>min = 5.98e-06, max = 3.19e-06</td>\n",
       "      <td>min = 3.64e-06, max = 2.03e-06</td>\n",
       "    </tr>\n",
       "    <tr>\n",
       "      <th>8 областей</th>\n",
       "      <td>min = 8.64e-05, max = 8.33e-05</td>\n",
       "      <td>min = 1.58e-05, max = 8.03e-06</td>\n",
       "      <td>min = 1.01e-05, max = 4.94e-06</td>\n",
       "    </tr>\n",
       "  </tbody>\n",
       "</table>\n",
       "</div>"
      ],
      "text/plain": [
       "                                 h = 5e-04                       h = 3e-04  \\\n",
       "2 области   min = 1.40e-06, max = 5.75e-07  min = 8.63e-07, max = 3.99e-07   \n",
       "4 области   min = 8.45e-06, max = 3.97e-06  min = 5.98e-06, max = 3.19e-06   \n",
       "8 областей  min = 8.64e-05, max = 8.33e-05  min = 1.58e-05, max = 8.03e-06   \n",
       "\n",
       "                                 h = 1e-04  \n",
       "2 области   min = 6.84e-07, max = 3.29e-07  \n",
       "4 области   min = 3.64e-06, max = 2.03e-06  \n",
       "8 областей  min = 1.01e-05, max = 4.94e-06  "
      ]
     },
     "execution_count": 7,
     "metadata": {},
     "output_type": "execute_result"
    }
   ],
   "source": [
    "pd.DataFrame.from_dict(dict_sigma_sm)"
   ]
  },
  {
   "cell_type": "markdown",
   "metadata": {},
   "source": [
    "### Аддитивный метод Шварца:"
   ]
  },
  {
   "cell_type": "code",
   "execution_count": 8,
   "metadata": {},
   "outputs": [
    {
     "name": "stdout",
     "output_type": "stream",
     "text": [
      "9.582e-06\r"
     ]
    }
   ],
   "source": [
    "dict_iters_sa, dict_sigma_sa = calculate_iters(cur_task, schwarz_additive, list_edge_size, list_subds)"
   ]
  },
  {
   "cell_type": "markdown",
   "metadata": {},
   "source": [
    "Таблица количества итераций:"
   ]
  },
  {
   "cell_type": "code",
   "execution_count": 9,
   "metadata": {},
   "outputs": [
    {
     "data": {
      "text/html": [
       "<div>\n",
       "<style scoped>\n",
       "    .dataframe tbody tr th:only-of-type {\n",
       "        vertical-align: middle;\n",
       "    }\n",
       "\n",
       "    .dataframe tbody tr th {\n",
       "        vertical-align: top;\n",
       "    }\n",
       "\n",
       "    .dataframe thead th {\n",
       "        text-align: right;\n",
       "    }\n",
       "</style>\n",
       "<table border=\"1\" class=\"dataframe\">\n",
       "  <thead>\n",
       "    <tr style=\"text-align: right;\">\n",
       "      <th></th>\n",
       "      <th>h = 5e-04</th>\n",
       "      <th>h = 3e-04</th>\n",
       "      <th>h = 1e-04</th>\n",
       "    </tr>\n",
       "  </thead>\n",
       "  <tbody>\n",
       "    <tr>\n",
       "      <th>2 области</th>\n",
       "      <td>24</td>\n",
       "      <td>22</td>\n",
       "      <td>22</td>\n",
       "    </tr>\n",
       "    <tr>\n",
       "      <th>4 области</th>\n",
       "      <td>60</td>\n",
       "      <td>49</td>\n",
       "      <td>46</td>\n",
       "    </tr>\n",
       "    <tr>\n",
       "      <th>8 областей</th>\n",
       "      <td>340</td>\n",
       "      <td>167</td>\n",
       "      <td>136</td>\n",
       "    </tr>\n",
       "  </tbody>\n",
       "</table>\n",
       "</div>"
      ],
      "text/plain": [
       "            h = 5e-04  h = 3e-04  h = 1e-04\n",
       "2 области          24         22         22\n",
       "4 области          60         49         46\n",
       "8 областей        340        167        136"
      ]
     },
     "execution_count": 9,
     "metadata": {},
     "output_type": "execute_result"
    }
   ],
   "source": [
    "pd.DataFrame.from_dict(dict_iters_sa)"
   ]
  },
  {
   "cell_type": "markdown",
   "metadata": {},
   "source": [
    "Таблица разницы для осевого напряжения:"
   ]
  },
  {
   "cell_type": "code",
   "execution_count": 10,
   "metadata": {},
   "outputs": [
    {
     "data": {
      "text/html": [
       "<div>\n",
       "<style scoped>\n",
       "    .dataframe tbody tr th:only-of-type {\n",
       "        vertical-align: middle;\n",
       "    }\n",
       "\n",
       "    .dataframe tbody tr th {\n",
       "        vertical-align: top;\n",
       "    }\n",
       "\n",
       "    .dataframe thead th {\n",
       "        text-align: right;\n",
       "    }\n",
       "</style>\n",
       "<table border=\"1\" class=\"dataframe\">\n",
       "  <thead>\n",
       "    <tr style=\"text-align: right;\">\n",
       "      <th></th>\n",
       "      <th>h = 5e-04</th>\n",
       "      <th>h = 3e-04</th>\n",
       "      <th>h = 1e-04</th>\n",
       "    </tr>\n",
       "  </thead>\n",
       "  <tbody>\n",
       "    <tr>\n",
       "      <th>2 области</th>\n",
       "      <td>min = 1.47e-05, max = 2.36e-05</td>\n",
       "      <td>min = 1.80e-05, max = 2.56e-05</td>\n",
       "      <td>min = 1.29e-05, max = 1.76e-05</td>\n",
       "    </tr>\n",
       "    <tr>\n",
       "      <th>4 области</th>\n",
       "      <td>min = 3.55e-05, max = 8.51e-05</td>\n",
       "      <td>min = 1.96e-05, max = 3.77e-05</td>\n",
       "      <td>min = 1.44e-05, max = 2.38e-05</td>\n",
       "    </tr>\n",
       "    <tr>\n",
       "      <th>8 областей</th>\n",
       "      <td>min = 2.57e-04, max = 6.77e-04</td>\n",
       "      <td>min = 5.83e-05, max = 2.19e-04</td>\n",
       "      <td>min = 2.83e-05, max = 8.31e-05</td>\n",
       "    </tr>\n",
       "  </tbody>\n",
       "</table>\n",
       "</div>"
      ],
      "text/plain": [
       "                                 h = 5e-04                       h = 3e-04  \\\n",
       "2 области   min = 1.47e-05, max = 2.36e-05  min = 1.80e-05, max = 2.56e-05   \n",
       "4 области   min = 3.55e-05, max = 8.51e-05  min = 1.96e-05, max = 3.77e-05   \n",
       "8 областей  min = 2.57e-04, max = 6.77e-04  min = 5.83e-05, max = 2.19e-04   \n",
       "\n",
       "                                 h = 1e-04  \n",
       "2 области   min = 1.29e-05, max = 1.76e-05  \n",
       "4 области   min = 1.44e-05, max = 2.38e-05  \n",
       "8 областей  min = 2.83e-05, max = 8.31e-05  "
      ]
     },
     "execution_count": 10,
     "metadata": {},
     "output_type": "execute_result"
    }
   ],
   "source": [
    "pd.DataFrame.from_dict(dict_sigma_sa)"
   ]
  },
  {
   "cell_type": "markdown",
   "metadata": {},
   "source": [
    "### Двухуровневый аддитивный метод Шварца:"
   ]
  },
  {
   "cell_type": "code",
   "execution_count": 11,
   "metadata": {},
   "outputs": [
    {
     "name": "stdout",
     "output_type": "stream",
     "text": [
      "9.661e-06\r"
     ]
    }
   ],
   "source": [
    "dict_iters_tsa, dict_sigma_tsa = calculate_iters(cur_task, schwarz_two_level_additive, list_edge_size, list_subds)"
   ]
  },
  {
   "cell_type": "markdown",
   "metadata": {},
   "source": [
    "Таблица количества итераций:"
   ]
  },
  {
   "cell_type": "code",
   "execution_count": 12,
   "metadata": {},
   "outputs": [
    {
     "data": {
      "text/html": [
       "<div>\n",
       "<style scoped>\n",
       "    .dataframe tbody tr th:only-of-type {\n",
       "        vertical-align: middle;\n",
       "    }\n",
       "\n",
       "    .dataframe tbody tr th {\n",
       "        vertical-align: top;\n",
       "    }\n",
       "\n",
       "    .dataframe thead th {\n",
       "        text-align: right;\n",
       "    }\n",
       "</style>\n",
       "<table border=\"1\" class=\"dataframe\">\n",
       "  <thead>\n",
       "    <tr style=\"text-align: right;\">\n",
       "      <th></th>\n",
       "      <th>h = 5e-04</th>\n",
       "      <th>h = 3e-04</th>\n",
       "      <th>h = 1e-04</th>\n",
       "    </tr>\n",
       "  </thead>\n",
       "  <tbody>\n",
       "    <tr>\n",
       "      <th>2 области</th>\n",
       "      <td>13</td>\n",
       "      <td>13</td>\n",
       "      <td>13</td>\n",
       "    </tr>\n",
       "    <tr>\n",
       "      <th>4 области</th>\n",
       "      <td>19</td>\n",
       "      <td>20</td>\n",
       "      <td>21</td>\n",
       "    </tr>\n",
       "    <tr>\n",
       "      <th>8 областей</th>\n",
       "      <td>36</td>\n",
       "      <td>28</td>\n",
       "      <td>31</td>\n",
       "    </tr>\n",
       "  </tbody>\n",
       "</table>\n",
       "</div>"
      ],
      "text/plain": [
       "            h = 5e-04  h = 3e-04  h = 1e-04\n",
       "2 области          13         13         13\n",
       "4 области          19         20         21\n",
       "8 областей         36         28         31"
      ]
     },
     "execution_count": 12,
     "metadata": {},
     "output_type": "execute_result"
    }
   ],
   "source": [
    "pd.DataFrame.from_dict(dict_iters_tsa)"
   ]
  },
  {
   "cell_type": "markdown",
   "metadata": {},
   "source": [
    "Таблица разницы для осевого напряжения:"
   ]
  },
  {
   "cell_type": "code",
   "execution_count": 13,
   "metadata": {},
   "outputs": [
    {
     "data": {
      "text/html": [
       "<div>\n",
       "<style scoped>\n",
       "    .dataframe tbody tr th:only-of-type {\n",
       "        vertical-align: middle;\n",
       "    }\n",
       "\n",
       "    .dataframe tbody tr th {\n",
       "        vertical-align: top;\n",
       "    }\n",
       "\n",
       "    .dataframe thead th {\n",
       "        text-align: right;\n",
       "    }\n",
       "</style>\n",
       "<table border=\"1\" class=\"dataframe\">\n",
       "  <thead>\n",
       "    <tr style=\"text-align: right;\">\n",
       "      <th></th>\n",
       "      <th>h = 5e-04</th>\n",
       "      <th>h = 3e-04</th>\n",
       "      <th>h = 1e-04</th>\n",
       "    </tr>\n",
       "  </thead>\n",
       "  <tbody>\n",
       "    <tr>\n",
       "      <th>2 области</th>\n",
       "      <td>min = 5.46e-05, max = 6.61e-05</td>\n",
       "      <td>min = 5.41e-05, max = 5.87e-05</td>\n",
       "      <td>min = 6.14e-05, max = 6.10e-05</td>\n",
       "    </tr>\n",
       "    <tr>\n",
       "      <th>4 области</th>\n",
       "      <td>min = 6.17e-05, max = 7.98e-05</td>\n",
       "      <td>min = 1.91e-05, max = 1.94e-05</td>\n",
       "      <td>min = 1.05e-05, max = 1.12e-05</td>\n",
       "    </tr>\n",
       "    <tr>\n",
       "      <th>8 областей</th>\n",
       "      <td>min = 2.59e-04, max = 3.21e-04</td>\n",
       "      <td>min = 8.22e-05, max = 8.95e-05</td>\n",
       "      <td>min = 5.67e-05, max = 5.96e-05</td>\n",
       "    </tr>\n",
       "  </tbody>\n",
       "</table>\n",
       "</div>"
      ],
      "text/plain": [
       "                                 h = 5e-04                       h = 3e-04  \\\n",
       "2 области   min = 5.46e-05, max = 6.61e-05  min = 5.41e-05, max = 5.87e-05   \n",
       "4 области   min = 6.17e-05, max = 7.98e-05  min = 1.91e-05, max = 1.94e-05   \n",
       "8 областей  min = 2.59e-04, max = 3.21e-04  min = 8.22e-05, max = 8.95e-05   \n",
       "\n",
       "                                 h = 1e-04  \n",
       "2 области   min = 6.14e-05, max = 6.10e-05  \n",
       "4 области   min = 1.05e-05, max = 1.12e-05  \n",
       "8 областей  min = 5.67e-05, max = 5.96e-05  "
      ]
     },
     "execution_count": 13,
     "metadata": {},
     "output_type": "execute_result"
    }
   ],
   "source": [
    "pd.DataFrame.from_dict(dict_sigma_tsa)"
   ]
  },
  {
   "cell_type": "markdown",
   "metadata": {},
   "source": [
    "## Вторая задача:"
   ]
  },
  {
   "cell_type": "code",
   "execution_count": 14,
   "metadata": {},
   "outputs": [],
   "source": [
    "cur_task = 2\n",
    "coef_convergence = 1e-5\n",
    "\n",
    "list_subds = [[2, 1], [4, 1], [8, 1]]\n",
    "list_edge_size = [5e-4, 3e-4, 1e-4]"
   ]
  },
  {
   "cell_type": "markdown",
   "metadata": {},
   "source": [
    "### Мультипликативный метод Шварца:"
   ]
  },
  {
   "cell_type": "code",
   "execution_count": null,
   "metadata": {},
   "outputs": [
    {
     "name": "stdout",
     "output_type": "stream",
     "text": [
      "1.456e-05\r"
     ]
    }
   ],
   "source": [
    "dict_iters_sm, dict_sigma_sm = calculate_iters(cur_task, schwarz_multiplicative, list_edge_size, list_subds)"
   ]
  },
  {
   "cell_type": "markdown",
   "metadata": {},
   "source": [
    "Таблица количества итераций:"
   ]
  },
  {
   "cell_type": "code",
   "execution_count": null,
   "metadata": {},
   "outputs": [],
   "source": [
    "pd.DataFrame.from_dict(dict_iters_sm)"
   ]
  },
  {
   "cell_type": "markdown",
   "metadata": {},
   "source": [
    "Таблица разницы для осевого напряжения:"
   ]
  },
  {
   "cell_type": "code",
   "execution_count": null,
   "metadata": {},
   "outputs": [],
   "source": [
    "pd.DataFrame.from_dict(dict_sigma_sm)"
   ]
  },
  {
   "cell_type": "markdown",
   "metadata": {},
   "source": [
    "### Аддитивный метод Шварца:"
   ]
  },
  {
   "cell_type": "code",
   "execution_count": null,
   "metadata": {},
   "outputs": [],
   "source": [
    "dict_iters_sa, dict_sigma_sa = calculate_iters(cur_task, schwarz_additive, list_edge_size, list_subds)"
   ]
  },
  {
   "cell_type": "markdown",
   "metadata": {},
   "source": [
    "Таблица количества итераций:"
   ]
  },
  {
   "cell_type": "code",
   "execution_count": null,
   "metadata": {},
   "outputs": [],
   "source": [
    "pd.DataFrame.from_dict(dict_iters_sa)"
   ]
  },
  {
   "cell_type": "markdown",
   "metadata": {},
   "source": [
    "Таблица разницы для осевого напряжения:"
   ]
  },
  {
   "cell_type": "code",
   "execution_count": null,
   "metadata": {},
   "outputs": [],
   "source": [
    "pd.DataFrame.from_dict(dict_sigma_sa)"
   ]
  },
  {
   "cell_type": "markdown",
   "metadata": {},
   "source": [
    "### Двухуровневый аддитивный метод Шварца:"
   ]
  },
  {
   "cell_type": "code",
   "execution_count": null,
   "metadata": {},
   "outputs": [],
   "source": [
    "dict_iters_tsa, dict_sigma_tsa = calculate_iters(cur_task, schwarz_two_level_additive, list_edge_size, list_subds)"
   ]
  },
  {
   "cell_type": "markdown",
   "metadata": {},
   "source": [
    "Таблица количества итераций:"
   ]
  },
  {
   "cell_type": "code",
   "execution_count": null,
   "metadata": {},
   "outputs": [],
   "source": [
    "pd.DataFrame.from_dict(dict_iters_tsa)"
   ]
  },
  {
   "cell_type": "markdown",
   "metadata": {},
   "source": [
    "Таблица разницы для осевого напряжения:"
   ]
  },
  {
   "cell_type": "code",
   "execution_count": null,
   "metadata": {},
   "outputs": [],
   "source": [
    "pd.DataFrame.from_dict(dict_sigma_tsa)"
   ]
  },
  {
   "cell_type": "code",
   "execution_count": null,
   "metadata": {},
   "outputs": [],
   "source": []
  }
 ],
 "metadata": {
  "kernelspec": {
   "display_name": "Python 3",
   "language": "python",
   "name": "python3"
  },
  "language_info": {
   "codemirror_mode": {
    "name": "ipython",
    "version": 3
   },
   "file_extension": ".py",
   "mimetype": "text/x-python",
   "name": "python",
   "nbconvert_exporter": "python",
   "pygments_lexer": "ipython3",
   "version": "3.8.3"
  },
  "latex_envs": {
   "LaTeX_envs_menu_present": true,
   "autoclose": false,
   "autocomplete": true,
   "bibliofile": "biblio.bib",
   "cite_by": "apalike",
   "current_citInitial": 1,
   "eqLabelWithNumbers": true,
   "eqNumInitial": 1,
   "hotkeys": {
    "equation": "Ctrl-E",
    "itemize": "Ctrl-I"
   },
   "labels_anchors": false,
   "latex_user_defs": false,
   "report_style_numbering": false,
   "user_envs_cfg": false
  },
  "toc": {
   "base_numbering": 1,
   "nav_menu": {
    "height": "487px",
    "width": "400px"
   },
   "number_sections": true,
   "sideBar": true,
   "skip_h1_title": false,
   "title_cell": "Table of Contents",
   "title_sidebar": "Contents",
   "toc_cell": false,
   "toc_position": {},
   "toc_section_display": true,
   "toc_window_display": false
  }
 },
 "nbformat": 4,
 "nbformat_minor": 4
}
