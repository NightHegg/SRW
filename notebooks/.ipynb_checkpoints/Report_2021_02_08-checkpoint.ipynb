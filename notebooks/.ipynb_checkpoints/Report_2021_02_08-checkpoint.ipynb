{
 "cells": [
  {
   "cell_type": "markdown",
   "metadata": {},
   "source": [
    "# Отчёт_08_02_2021"
   ]
  },
  {
   "cell_type": "markdown",
   "metadata": {},
   "source": [
    "## Изменение главной директории (выполнять только один раз!)"
   ]
  },
  {
   "cell_type": "code",
   "execution_count": 1,
   "metadata": {},
   "outputs": [
    {
     "name": "stdout",
     "output_type": "stream",
     "text": [
      "C:\\Users\\NightHegg\\Desktop\\projects\\SRW\n"
     ]
    }
   ],
   "source": [
    "import sys\n",
    "import os\n",
    "os.chdir('..//')\n",
    "print(os.getcwd())"
   ]
  },
  {
   "cell_type": "markdown",
   "metadata": {},
   "source": [
    "## Подключение необходимых библиотек"
   ]
  },
  {
   "cell_type": "code",
   "execution_count": 2,
   "metadata": {},
   "outputs": [],
   "source": [
    "import numpy as np\n",
    "import pandas as pd\n",
    "import matplotlib.pyplot as plt\n",
    "import scipy as sp\n",
    "\n",
    "from scr.class_basic_method import basic_method\n",
    "from scr.class_schwarz_multiplicative import schwarz_multiplicative\n",
    "from scr.class_schwarz_additive import schwarz_additive\n",
    "from scr.class_schwarz_two_level_additive import schwarz_two_level_additive"
   ]
  },
  {
   "cell_type": "markdown",
   "metadata": {},
   "source": [
    "## Функция для получения результатов"
   ]
  },
  {
   "cell_type": "code",
   "execution_count": 3,
   "metadata": {},
   "outputs": [],
   "source": [
    "def calculate_iters(cur_task, cur_method, list_mesh, list_subds):\n",
    "    dict_result = {}\n",
    "    dict_result_sigma = {}\n",
    "    for cur_mesh in list_mesh:\n",
    "        dict_iters_temp = {}\n",
    "        dict_sigma_temp = {}\n",
    "        for cur_amnt_subds in list_subds:\n",
    "            obj = cur_method(cur_task, cur_mesh, cur_amnt_subds, coef_convergence)\n",
    "            obj.get_solution()\n",
    "            \n",
    "            array_amnt_subds = np.prod(np.array(cur_amnt_subds))\n",
    "            styled_amnt_subds = f\"{array_amnt_subds} области\" if array_amnt_subds < 5 else f\"{array_amnt_subds} областей\"\n",
    "            \n",
    "            dict_iters_temp[styled_amnt_subds] = obj.amnt_iterations\n",
    "            dict_sigma_temp[styled_amnt_subds] = obj.get_special_sigma()\n",
    "            \n",
    "        dict_result[f\"{cur_mesh**2} точек\"] = dict_iters_temp\n",
    "        dict_result_sigma[f\"{cur_mesh**2} точек\"] = dict_sigma_temp\n",
    "    return dict_result, dict_result_sigma\n",
    "\n",
    "\n",
    "def calculate_conv(cur_task, cur_method, cur_mesh, cur_subds, list_coef):\n",
    "    dict_result = {}\n",
    "    dict_result_temp = {}\n",
    "    for cur_coef in list_coef:\n",
    "        obj = cur_method(cur_task, cur_mesh, cur_subds, cur_coef)\n",
    "        obj.get_solution()\n",
    "        dict_result_temp[f\"{cur_coef:.0e}\"] = obj.amnt_iterations\n",
    "    dict_result[\"Количество итераций\"] = dict_result_temp\n",
    "    return dict_result"
   ]
  },
  {
   "cell_type": "markdown",
   "metadata": {},
   "source": [
    "### Предоставленные задачи:"
   ]
  },
  {
   "cell_type": "markdown",
   "metadata": {},
   "source": [
    "- закрепление с трёх сторон;\n",
    "- закрепление с двух сторон;\n",
    "<div>\n",
    "<img src=\"img/tasks_Rodin.jpg\" width=\"250\"/>\n",
    "</div>"
   ]
  },
  {
   "cell_type": "markdown",
   "metadata": {},
   "source": [
    "## Первая задача:"
   ]
  },
  {
   "cell_type": "code",
   "execution_count": 4,
   "metadata": {},
   "outputs": [],
   "source": [
    "cur_task = 1\n",
    "coef_convergence = 1e-4\n",
    "\n",
    "list_subds = [[2, 1], [4, 1], [8, 1]]\n",
    "list_mesh = [20, 25, 30]\n",
    "\n",
    "test_mesh = 25\n",
    "test_subds = [4, 1]\n",
    "list_coef = [1e-3, 1e-4, 1e-5]"
   ]
  },
  {
   "cell_type": "markdown",
   "metadata": {},
   "source": [
    "### Мультипликативный метод Шварца:"
   ]
  },
  {
   "cell_type": "code",
   "execution_count": 5,
   "metadata": {},
   "outputs": [],
   "source": [
    "dict_iters_sm, dict_sigma_sm = calculate_iters(cur_task, schwarz_multiplicative, list_mesh, list_subds)"
   ]
  },
  {
   "cell_type": "markdown",
   "metadata": {},
   "source": [
    "Таблица количества итераций:"
   ]
  },
  {
   "cell_type": "code",
   "execution_count": 6,
   "metadata": {},
   "outputs": [
    {
     "data": {
      "text/html": [
       "<div>\n",
       "<style scoped>\n",
       "    .dataframe tbody tr th:only-of-type {\n",
       "        vertical-align: middle;\n",
       "    }\n",
       "\n",
       "    .dataframe tbody tr th {\n",
       "        vertical-align: top;\n",
       "    }\n",
       "\n",
       "    .dataframe thead th {\n",
       "        text-align: right;\n",
       "    }\n",
       "</style>\n",
       "<table border=\"1\" class=\"dataframe\">\n",
       "  <thead>\n",
       "    <tr style=\"text-align: right;\">\n",
       "      <th></th>\n",
       "      <th>400 точек</th>\n",
       "      <th>625 точек</th>\n",
       "      <th>900 точек</th>\n",
       "    </tr>\n",
       "  </thead>\n",
       "  <tbody>\n",
       "    <tr>\n",
       "      <th>2 области</th>\n",
       "      <td>9</td>\n",
       "      <td>9</td>\n",
       "      <td>8</td>\n",
       "    </tr>\n",
       "    <tr>\n",
       "      <th>4 области</th>\n",
       "      <td>25</td>\n",
       "      <td>25</td>\n",
       "      <td>26</td>\n",
       "    </tr>\n",
       "    <tr>\n",
       "      <th>8 областей</th>\n",
       "      <td>113</td>\n",
       "      <td>83</td>\n",
       "      <td>106</td>\n",
       "    </tr>\n",
       "  </tbody>\n",
       "</table>\n",
       "</div>"
      ],
      "text/plain": [
       "            400 точек  625 точек  900 точек\n",
       "2 области           9          9          8\n",
       "4 области          25         25         26\n",
       "8 областей        113         83        106"
      ]
     },
     "execution_count": 6,
     "metadata": {},
     "output_type": "execute_result"
    }
   ],
   "source": [
    "pd.DataFrame.from_dict(dict_iters_sm)"
   ]
  },
  {
   "cell_type": "markdown",
   "metadata": {},
   "source": [
    "Таблица разницы для осевого напряжения:"
   ]
  },
  {
   "cell_type": "code",
   "execution_count": 7,
   "metadata": {},
   "outputs": [
    {
     "data": {
      "text/html": [
       "<div>\n",
       "<style scoped>\n",
       "    .dataframe tbody tr th:only-of-type {\n",
       "        vertical-align: middle;\n",
       "    }\n",
       "\n",
       "    .dataframe tbody tr th {\n",
       "        vertical-align: top;\n",
       "    }\n",
       "\n",
       "    .dataframe thead th {\n",
       "        text-align: right;\n",
       "    }\n",
       "</style>\n",
       "<table border=\"1\" class=\"dataframe\">\n",
       "  <thead>\n",
       "    <tr style=\"text-align: right;\">\n",
       "      <th></th>\n",
       "      <th>400 точек</th>\n",
       "      <th>625 точек</th>\n",
       "      <th>900 точек</th>\n",
       "    </tr>\n",
       "  </thead>\n",
       "  <tbody>\n",
       "    <tr>\n",
       "      <th>2 области</th>\n",
       "      <td>min = 9.19e+02, max = 2.11e+02</td>\n",
       "      <td>min = 1.09e+03, max = 3.14e+02</td>\n",
       "      <td>min = 9.96e+02, max = 2.11e+02</td>\n",
       "    </tr>\n",
       "    <tr>\n",
       "      <th>4 области</th>\n",
       "      <td>min = 7.37e+02, max = 1.97e+02</td>\n",
       "      <td>min = 6.70e+02, max = 1.37e+02</td>\n",
       "      <td>min = 7.17e+02, max = 2.10e+02</td>\n",
       "    </tr>\n",
       "    <tr>\n",
       "      <th>8 областей</th>\n",
       "      <td>min = 5.61e+02, max = 2.77e+02</td>\n",
       "      <td>min = 6.12e+02, max = 1.65e+02</td>\n",
       "      <td>min = 8.75e+02, max = 3.50e+02</td>\n",
       "    </tr>\n",
       "  </tbody>\n",
       "</table>\n",
       "</div>"
      ],
      "text/plain": [
       "                                 400 точек                       625 точек  \\\n",
       "2 области   min = 9.19e+02, max = 2.11e+02  min = 1.09e+03, max = 3.14e+02   \n",
       "4 области   min = 7.37e+02, max = 1.97e+02  min = 6.70e+02, max = 1.37e+02   \n",
       "8 областей  min = 5.61e+02, max = 2.77e+02  min = 6.12e+02, max = 1.65e+02   \n",
       "\n",
       "                                 900 точек  \n",
       "2 области   min = 9.96e+02, max = 2.11e+02  \n",
       "4 области   min = 7.17e+02, max = 2.10e+02  \n",
       "8 областей  min = 8.75e+02, max = 3.50e+02  "
      ]
     },
     "execution_count": 7,
     "metadata": {},
     "output_type": "execute_result"
    }
   ],
   "source": [
    "pd.DataFrame.from_dict(dict_sigma_sm)"
   ]
  },
  {
   "cell_type": "markdown",
   "metadata": {},
   "source": [
    "#### Дополнительные задачи:"
   ]
  },
  {
   "cell_type": "code",
   "execution_count": 8,
   "metadata": {},
   "outputs": [],
   "source": [
    "dict_conv_sm = calculate_conv(cur_task, schwarz_multiplicative, test_mesh, test_subds, list_coef)"
   ]
  },
  {
   "cell_type": "markdown",
   "metadata": {},
   "source": [
    "Таблица зависимости количества итераций от критерия сходимости (625 точек, 4 подобласти):"
   ]
  },
  {
   "cell_type": "code",
   "execution_count": 9,
   "metadata": {},
   "outputs": [
    {
     "data": {
      "text/html": [
       "<div>\n",
       "<style scoped>\n",
       "    .dataframe tbody tr th:only-of-type {\n",
       "        vertical-align: middle;\n",
       "    }\n",
       "\n",
       "    .dataframe tbody tr th {\n",
       "        vertical-align: top;\n",
       "    }\n",
       "\n",
       "    .dataframe thead th {\n",
       "        text-align: right;\n",
       "    }\n",
       "</style>\n",
       "<table border=\"1\" class=\"dataframe\">\n",
       "  <thead>\n",
       "    <tr style=\"text-align: right;\">\n",
       "      <th></th>\n",
       "      <th>Количество итераций</th>\n",
       "    </tr>\n",
       "  </thead>\n",
       "  <tbody>\n",
       "    <tr>\n",
       "      <th>1e-03</th>\n",
       "      <td>17</td>\n",
       "    </tr>\n",
       "    <tr>\n",
       "      <th>1e-04</th>\n",
       "      <td>25</td>\n",
       "    </tr>\n",
       "    <tr>\n",
       "      <th>1e-05</th>\n",
       "      <td>32</td>\n",
       "    </tr>\n",
       "  </tbody>\n",
       "</table>\n",
       "</div>"
      ],
      "text/plain": [
       "       Количество итераций\n",
       "1e-03                   17\n",
       "1e-04                   25\n",
       "1e-05                   32"
      ]
     },
     "execution_count": 9,
     "metadata": {},
     "output_type": "execute_result"
    }
   ],
   "source": [
    "pd.DataFrame(dict_conv_sm)"
   ]
  },
  {
   "cell_type": "markdown",
   "metadata": {},
   "source": [
    "### Аддитивный метод Шварца:"
   ]
  },
  {
   "cell_type": "code",
   "execution_count": 10,
   "metadata": {},
   "outputs": [],
   "source": [
    "dict_iters_sa, dict_sigma_sa = calculate_iters(cur_task, schwarz_additive, list_mesh, list_subds)"
   ]
  },
  {
   "cell_type": "markdown",
   "metadata": {},
   "source": [
    "Таблица количества итераций:"
   ]
  },
  {
   "cell_type": "code",
   "execution_count": 11,
   "metadata": {},
   "outputs": [
    {
     "data": {
      "text/html": [
       "<div>\n",
       "<style scoped>\n",
       "    .dataframe tbody tr th:only-of-type {\n",
       "        vertical-align: middle;\n",
       "    }\n",
       "\n",
       "    .dataframe tbody tr th {\n",
       "        vertical-align: top;\n",
       "    }\n",
       "\n",
       "    .dataframe thead th {\n",
       "        text-align: right;\n",
       "    }\n",
       "</style>\n",
       "<table border=\"1\" class=\"dataframe\">\n",
       "  <thead>\n",
       "    <tr style=\"text-align: right;\">\n",
       "      <th></th>\n",
       "      <th>400 точек</th>\n",
       "      <th>625 точек</th>\n",
       "      <th>900 точек</th>\n",
       "    </tr>\n",
       "  </thead>\n",
       "  <tbody>\n",
       "    <tr>\n",
       "      <th>2 области</th>\n",
       "      <td>19</td>\n",
       "      <td>19</td>\n",
       "      <td>17</td>\n",
       "    </tr>\n",
       "    <tr>\n",
       "      <th>4 области</th>\n",
       "      <td>38</td>\n",
       "      <td>36</td>\n",
       "      <td>41</td>\n",
       "    </tr>\n",
       "    <tr>\n",
       "      <th>8 областей</th>\n",
       "      <td>161</td>\n",
       "      <td>107</td>\n",
       "      <td>159</td>\n",
       "    </tr>\n",
       "  </tbody>\n",
       "</table>\n",
       "</div>"
      ],
      "text/plain": [
       "            400 точек  625 точек  900 точек\n",
       "2 области          19         19         17\n",
       "4 области          38         36         41\n",
       "8 областей        161        107        159"
      ]
     },
     "execution_count": 11,
     "metadata": {},
     "output_type": "execute_result"
    }
   ],
   "source": [
    "pd.DataFrame.from_dict(dict_iters_sa)"
   ]
  },
  {
   "cell_type": "markdown",
   "metadata": {},
   "source": [
    "Таблица разницы для осевого напряжения:"
   ]
  },
  {
   "cell_type": "code",
   "execution_count": 12,
   "metadata": {},
   "outputs": [
    {
     "data": {
      "text/html": [
       "<div>\n",
       "<style scoped>\n",
       "    .dataframe tbody tr th:only-of-type {\n",
       "        vertical-align: middle;\n",
       "    }\n",
       "\n",
       "    .dataframe tbody tr th {\n",
       "        vertical-align: top;\n",
       "    }\n",
       "\n",
       "    .dataframe thead th {\n",
       "        text-align: right;\n",
       "    }\n",
       "</style>\n",
       "<table border=\"1\" class=\"dataframe\">\n",
       "  <thead>\n",
       "    <tr style=\"text-align: right;\">\n",
       "      <th></th>\n",
       "      <th>400 точек</th>\n",
       "      <th>625 точек</th>\n",
       "      <th>900 точек</th>\n",
       "    </tr>\n",
       "  </thead>\n",
       "  <tbody>\n",
       "    <tr>\n",
       "      <th>2 области</th>\n",
       "      <td>min = 1.27e+03, max = 2.02e+03</td>\n",
       "      <td>min = 3.26e+02, max = 2.26e+03</td>\n",
       "      <td>min = 4.15e+02, max = 2.21e+03</td>\n",
       "    </tr>\n",
       "    <tr>\n",
       "      <th>4 области</th>\n",
       "      <td>min = 6.18e+02, max = 9.29e+02</td>\n",
       "      <td>min = 3.66e+02, max = 1.01e+03</td>\n",
       "      <td>min = 7.12e+02, max = 1.07e+03</td>\n",
       "    </tr>\n",
       "    <tr>\n",
       "      <th>8 областей</th>\n",
       "      <td>min = 5.86e+02, max = 1.39e+03</td>\n",
       "      <td>min = 5.91e+02, max = 1.09e+03</td>\n",
       "      <td>min = 7.08e+02, max = 1.46e+03</td>\n",
       "    </tr>\n",
       "  </tbody>\n",
       "</table>\n",
       "</div>"
      ],
      "text/plain": [
       "                                 400 точек                       625 точек  \\\n",
       "2 области   min = 1.27e+03, max = 2.02e+03  min = 3.26e+02, max = 2.26e+03   \n",
       "4 области   min = 6.18e+02, max = 9.29e+02  min = 3.66e+02, max = 1.01e+03   \n",
       "8 областей  min = 5.86e+02, max = 1.39e+03  min = 5.91e+02, max = 1.09e+03   \n",
       "\n",
       "                                 900 точек  \n",
       "2 области   min = 4.15e+02, max = 2.21e+03  \n",
       "4 области   min = 7.12e+02, max = 1.07e+03  \n",
       "8 областей  min = 7.08e+02, max = 1.46e+03  "
      ]
     },
     "execution_count": 12,
     "metadata": {},
     "output_type": "execute_result"
    }
   ],
   "source": [
    "pd.DataFrame.from_dict(dict_sigma_sa)"
   ]
  },
  {
   "cell_type": "markdown",
   "metadata": {},
   "source": [
    "#### Дополнительные задачи:"
   ]
  },
  {
   "cell_type": "code",
   "execution_count": 13,
   "metadata": {},
   "outputs": [],
   "source": [
    "dict_conv_sa = calculate_conv(cur_task, schwarz_additive, test_mesh, test_subds, list_coef)"
   ]
  },
  {
   "cell_type": "markdown",
   "metadata": {},
   "source": [
    "Таблица зависимости количества итераций от критерия сходимости (625 точек, 4 подобласти):"
   ]
  },
  {
   "cell_type": "code",
   "execution_count": 14,
   "metadata": {},
   "outputs": [
    {
     "data": {
      "text/html": [
       "<div>\n",
       "<style scoped>\n",
       "    .dataframe tbody tr th:only-of-type {\n",
       "        vertical-align: middle;\n",
       "    }\n",
       "\n",
       "    .dataframe tbody tr th {\n",
       "        vertical-align: top;\n",
       "    }\n",
       "\n",
       "    .dataframe thead th {\n",
       "        text-align: right;\n",
       "    }\n",
       "</style>\n",
       "<table border=\"1\" class=\"dataframe\">\n",
       "  <thead>\n",
       "    <tr style=\"text-align: right;\">\n",
       "      <th></th>\n",
       "      <th>Количество итераций</th>\n",
       "    </tr>\n",
       "  </thead>\n",
       "  <tbody>\n",
       "    <tr>\n",
       "      <th>1e-03</th>\n",
       "      <td>26</td>\n",
       "    </tr>\n",
       "    <tr>\n",
       "      <th>1e-04</th>\n",
       "      <td>36</td>\n",
       "    </tr>\n",
       "    <tr>\n",
       "      <th>1e-05</th>\n",
       "      <td>46</td>\n",
       "    </tr>\n",
       "  </tbody>\n",
       "</table>\n",
       "</div>"
      ],
      "text/plain": [
       "       Количество итераций\n",
       "1e-03                   26\n",
       "1e-04                   36\n",
       "1e-05                   46"
      ]
     },
     "execution_count": 14,
     "metadata": {},
     "output_type": "execute_result"
    }
   ],
   "source": [
    "pd.DataFrame(dict_conv_sa)"
   ]
  },
  {
   "cell_type": "markdown",
   "metadata": {},
   "source": [
    "### Двухуровневый аддитивный метод Шварца:"
   ]
  },
  {
   "cell_type": "code",
   "execution_count": 15,
   "metadata": {},
   "outputs": [],
   "source": [
    "dict_iters_tsa, dict_sigma_tsa = calculate_iters(cur_task, schwarz_two_level_additive, list_mesh, list_subds)"
   ]
  },
  {
   "cell_type": "markdown",
   "metadata": {},
   "source": [
    "Таблица количества итераций:"
   ]
  },
  {
   "cell_type": "code",
   "execution_count": 16,
   "metadata": {},
   "outputs": [
    {
     "data": {
      "text/html": [
       "<div>\n",
       "<style scoped>\n",
       "    .dataframe tbody tr th:only-of-type {\n",
       "        vertical-align: middle;\n",
       "    }\n",
       "\n",
       "    .dataframe tbody tr th {\n",
       "        vertical-align: top;\n",
       "    }\n",
       "\n",
       "    .dataframe thead th {\n",
       "        text-align: right;\n",
       "    }\n",
       "</style>\n",
       "<table border=\"1\" class=\"dataframe\">\n",
       "  <thead>\n",
       "    <tr style=\"text-align: right;\">\n",
       "      <th></th>\n",
       "      <th>400 точек</th>\n",
       "      <th>625 точек</th>\n",
       "      <th>900 точек</th>\n",
       "    </tr>\n",
       "  </thead>\n",
       "  <tbody>\n",
       "    <tr>\n",
       "      <th>2 области</th>\n",
       "      <td>18</td>\n",
       "      <td>18</td>\n",
       "      <td>16</td>\n",
       "    </tr>\n",
       "    <tr>\n",
       "      <th>4 области</th>\n",
       "      <td>37</td>\n",
       "      <td>36</td>\n",
       "      <td>41</td>\n",
       "    </tr>\n",
       "    <tr>\n",
       "      <th>8 областей</th>\n",
       "      <td>170</td>\n",
       "      <td>106</td>\n",
       "      <td>200</td>\n",
       "    </tr>\n",
       "  </tbody>\n",
       "</table>\n",
       "</div>"
      ],
      "text/plain": [
       "            400 точек  625 точек  900 точек\n",
       "2 области          18         18         16\n",
       "4 области          37         36         41\n",
       "8 областей        170        106        200"
      ]
     },
     "execution_count": 16,
     "metadata": {},
     "output_type": "execute_result"
    }
   ],
   "source": [
    "pd.DataFrame.from_dict(dict_iters_tsa)"
   ]
  },
  {
   "cell_type": "markdown",
   "metadata": {},
   "source": [
    "Таблица разницы для осевого напряжения:"
   ]
  },
  {
   "cell_type": "code",
   "execution_count": 17,
   "metadata": {},
   "outputs": [
    {
     "data": {
      "text/html": [
       "<div>\n",
       "<style scoped>\n",
       "    .dataframe tbody tr th:only-of-type {\n",
       "        vertical-align: middle;\n",
       "    }\n",
       "\n",
       "    .dataframe tbody tr th {\n",
       "        vertical-align: top;\n",
       "    }\n",
       "\n",
       "    .dataframe thead th {\n",
       "        text-align: right;\n",
       "    }\n",
       "</style>\n",
       "<table border=\"1\" class=\"dataframe\">\n",
       "  <thead>\n",
       "    <tr style=\"text-align: right;\">\n",
       "      <th></th>\n",
       "      <th>400 точек</th>\n",
       "      <th>625 точек</th>\n",
       "      <th>900 точек</th>\n",
       "    </tr>\n",
       "  </thead>\n",
       "  <tbody>\n",
       "    <tr>\n",
       "      <th>2 области</th>\n",
       "      <td>min = 1.16e+03, max = 2.01e+03</td>\n",
       "      <td>min = 5.48e+02, max = 2.64e+03</td>\n",
       "      <td>min = 4.97e+02, max = 2.62e+03</td>\n",
       "    </tr>\n",
       "    <tr>\n",
       "      <th>4 области</th>\n",
       "      <td>min = 6.82e+02, max = 1.02e+03</td>\n",
       "      <td>min = 3.48e+02, max = 9.37e+02</td>\n",
       "      <td>min = 6.65e+02, max = 9.96e+02</td>\n",
       "    </tr>\n",
       "    <tr>\n",
       "      <th>8 областей</th>\n",
       "      <td>min = 7.48e+02, max = 7.39e+02</td>\n",
       "      <td>min = 6.11e+02, max = 1.13e+03</td>\n",
       "      <td>min = 1.06e+03, max = 1.14e+03</td>\n",
       "    </tr>\n",
       "  </tbody>\n",
       "</table>\n",
       "</div>"
      ],
      "text/plain": [
       "                                 400 точек                       625 точек  \\\n",
       "2 области   min = 1.16e+03, max = 2.01e+03  min = 5.48e+02, max = 2.64e+03   \n",
       "4 области   min = 6.82e+02, max = 1.02e+03  min = 3.48e+02, max = 9.37e+02   \n",
       "8 областей  min = 7.48e+02, max = 7.39e+02  min = 6.11e+02, max = 1.13e+03   \n",
       "\n",
       "                                 900 точек  \n",
       "2 области   min = 4.97e+02, max = 2.62e+03  \n",
       "4 области   min = 6.65e+02, max = 9.96e+02  \n",
       "8 областей  min = 1.06e+03, max = 1.14e+03  "
      ]
     },
     "execution_count": 17,
     "metadata": {},
     "output_type": "execute_result"
    }
   ],
   "source": [
    "pd.DataFrame.from_dict(dict_sigma_tsa)"
   ]
  },
  {
   "cell_type": "markdown",
   "metadata": {},
   "source": [
    "#### Дополнительные задачи:"
   ]
  },
  {
   "cell_type": "code",
   "execution_count": 18,
   "metadata": {},
   "outputs": [],
   "source": [
    "dict_conv_tsa = calculate_conv(cur_task, schwarz_two_level_additive, test_mesh, test_subds, list_coef)"
   ]
  },
  {
   "cell_type": "markdown",
   "metadata": {},
   "source": [
    "Таблица зависимости количества итераций от критерия сходимости (625 точек, 4 подобласти):"
   ]
  },
  {
   "cell_type": "code",
   "execution_count": 19,
   "metadata": {},
   "outputs": [
    {
     "data": {
      "text/html": [
       "<div>\n",
       "<style scoped>\n",
       "    .dataframe tbody tr th:only-of-type {\n",
       "        vertical-align: middle;\n",
       "    }\n",
       "\n",
       "    .dataframe tbody tr th {\n",
       "        vertical-align: top;\n",
       "    }\n",
       "\n",
       "    .dataframe thead th {\n",
       "        text-align: right;\n",
       "    }\n",
       "</style>\n",
       "<table border=\"1\" class=\"dataframe\">\n",
       "  <thead>\n",
       "    <tr style=\"text-align: right;\">\n",
       "      <th></th>\n",
       "      <th>Количество итераций</th>\n",
       "    </tr>\n",
       "  </thead>\n",
       "  <tbody>\n",
       "    <tr>\n",
       "      <th>1e-03</th>\n",
       "      <td>26</td>\n",
       "    </tr>\n",
       "    <tr>\n",
       "      <th>1e-04</th>\n",
       "      <td>36</td>\n",
       "    </tr>\n",
       "    <tr>\n",
       "      <th>1e-05</th>\n",
       "      <td>46</td>\n",
       "    </tr>\n",
       "  </tbody>\n",
       "</table>\n",
       "</div>"
      ],
      "text/plain": [
       "       Количество итераций\n",
       "1e-03                   26\n",
       "1e-04                   36\n",
       "1e-05                   46"
      ]
     },
     "execution_count": 19,
     "metadata": {},
     "output_type": "execute_result"
    }
   ],
   "source": [
    "pd.DataFrame(dict_conv_tsa)"
   ]
  },
  {
   "cell_type": "code",
   "execution_count": null,
   "metadata": {},
   "outputs": [],
   "source": []
  }
 ],
 "metadata": {
  "kernelspec": {
   "display_name": "Python 3",
   "language": "python",
   "name": "python3"
  },
  "language_info": {
   "codemirror_mode": {
    "name": "ipython",
    "version": 3
   },
   "file_extension": ".py",
   "mimetype": "text/x-python",
   "name": "python",
   "nbconvert_exporter": "python",
   "pygments_lexer": "ipython3",
   "version": "3.8.3"
  },
  "toc": {
   "base_numbering": 1,
   "nav_menu": {
    "height": "487px",
    "width": "400px"
   },
   "number_sections": true,
   "sideBar": true,
   "skip_h1_title": false,
   "title_cell": "Table of Contents",
   "title_sidebar": "Contents",
   "toc_cell": false,
   "toc_position": {},
   "toc_section_display": true,
   "toc_window_display": false
  }
 },
 "nbformat": 4,
 "nbformat_minor": 4
}
