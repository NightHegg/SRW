{
 "cells": [
  {
   "cell_type": "markdown",
   "metadata": {},
   "source": [
    "# Отчёт_2021_02_24 (Задача №2)"
   ]
  },
  {
   "cell_type": "markdown",
   "metadata": {},
   "source": [
    "## Изменение главной директории (выполнять только один раз!)"
   ]
  },
  {
   "cell_type": "code",
   "execution_count": 1,
   "metadata": {},
   "outputs": [
    {
     "name": "stdout",
     "output_type": "stream",
     "text": [
      "C:\\Users\\NightHegg\\Desktop\\projects\\SRW\n"
     ]
    }
   ],
   "source": [
    "import sys\n",
    "import os\n",
    "os.chdir('..//')\n",
    "print(os.getcwd())"
   ]
  },
  {
   "cell_type": "markdown",
   "metadata": {},
   "source": [
    "## Подключение необходимых библиотек"
   ]
  },
  {
   "cell_type": "code",
   "execution_count": 2,
   "metadata": {},
   "outputs": [],
   "source": [
    "import numpy as np\n",
    "import pandas as pd\n",
    "import matplotlib.pyplot as plt\n",
    "import scipy as sp\n",
    "\n",
    "from scr.class_basic_method import basic_method\n",
    "from scr.class_schwarz_multiplicative import schwarz_multiplicative\n",
    "from scr.class_schwarz_additive import schwarz_additive\n",
    "from scr.class_schwarz_two_level_additive import schwarz_two_level_additive"
   ]
  },
  {
   "cell_type": "markdown",
   "metadata": {},
   "source": [
    "## Функция для получения результатов"
   ]
  },
  {
   "cell_type": "code",
   "execution_count": 3,
   "metadata": {},
   "outputs": [],
   "source": [
    "def calculate_iters(cur_task, cur_method, list_edge_size, list_subds):\n",
    "    dict_result = {}\n",
    "    dict_result_sigma = {}\n",
    "    for cur_edge_size in list_edge_size:\n",
    "        dict_iters_temp = {}\n",
    "        dict_sigma_temp = {}\n",
    "        for cur_amnt_subds in list_subds:\n",
    "            obj = cur_method(cur_task, cur_edge_size, cur_amnt_subds, coef_convergence)\n",
    "            obj.get_solution()\n",
    "            \n",
    "            array_amnt_subds = np.prod(np.array(cur_amnt_subds))\n",
    "            styled_amnt_subds = f\"{array_amnt_subds} области\" if array_amnt_subds < 5 else f\"{array_amnt_subds} областей\"\n",
    "            \n",
    "            dict_iters_temp[styled_amnt_subds] = obj.amnt_iterations\n",
    "            dict_sigma_temp[styled_amnt_subds] = obj.get_special_sigma()\n",
    "            \n",
    "        dict_result[f\"h = {cur_edge_size:.0e}\"] = dict_iters_temp\n",
    "        dict_result_sigma[f\"h = {cur_edge_size:.0e}\"] = dict_sigma_temp\n",
    "    return dict_result, dict_result_sigma\n",
    "\n",
    "\n",
    "def calculate_conv(cur_task, cur_method, cur_mesh, cur_subds, list_coef):\n",
    "    dict_result = {}\n",
    "    dict_result_temp = {}\n",
    "    for cur_coef in list_coef:\n",
    "        obj = cur_method(cur_task, cur_mesh, cur_subds, cur_coef)\n",
    "        obj.get_solution()\n",
    "        dict_result_temp[f\"{cur_coef:.0e}\"] = obj.amnt_iterations\n",
    "    dict_result[\"Количество итераций\"] = dict_result_temp\n",
    "    return dict_result"
   ]
  },
  {
   "cell_type": "markdown",
   "metadata": {},
   "source": [
    "### Предоставленные задачи:"
   ]
  },
  {
   "cell_type": "markdown",
   "metadata": {},
   "source": [
    "- закрепление с трёх сторон;\n",
    "- закрепление с двух сторон;\n",
    "<div>\n",
    "<img src=\"img/tasks_Rodin.jpg\" width=\"250\"/>\n",
    "</div>"
   ]
  },
  {
   "cell_type": "markdown",
   "metadata": {},
   "source": [
    "Три сетки: \n",
    "- h = 5e-4 (475 точек);\n",
    "- h = 3e-4 (1907 точек);\n",
    "- h = 1e-4 (7491 точек);"
   ]
  },
  {
   "cell_type": "markdown",
   "metadata": {},
   "source": [
    "## Вторая задача:"
   ]
  },
  {
   "cell_type": "code",
   "execution_count": 4,
   "metadata": {},
   "outputs": [],
   "source": [
    "cur_task = 2\n",
    "coef_convergence = 1e-5\n",
    "\n",
    "list_subds = [[2, 1], [4, 1], [8, 1]]\n",
    "list_edge_size = [5e-4, 3e-4, 1e-4]"
   ]
  },
  {
   "cell_type": "markdown",
   "metadata": {},
   "source": [
    "### Мультипликативный метод Шварца:"
   ]
  },
  {
   "cell_type": "code",
   "execution_count": 5,
   "metadata": {},
   "outputs": [
    {
     "name": "stdout",
     "output_type": "stream",
     "text": [
      "9.857e-06\r"
     ]
    }
   ],
   "source": [
    "dict_iters_sm, dict_sigma_sm = calculate_iters(cur_task, schwarz_multiplicative, list_edge_size, list_subds)"
   ]
  },
  {
   "cell_type": "markdown",
   "metadata": {},
   "source": [
    "Таблица количества итераций:"
   ]
  },
  {
   "cell_type": "code",
   "execution_count": 6,
   "metadata": {},
   "outputs": [
    {
     "data": {
      "text/html": [
       "<div>\n",
       "<style scoped>\n",
       "    .dataframe tbody tr th:only-of-type {\n",
       "        vertical-align: middle;\n",
       "    }\n",
       "\n",
       "    .dataframe tbody tr th {\n",
       "        vertical-align: top;\n",
       "    }\n",
       "\n",
       "    .dataframe thead th {\n",
       "        text-align: right;\n",
       "    }\n",
       "</style>\n",
       "<table border=\"1\" class=\"dataframe\">\n",
       "  <thead>\n",
       "    <tr style=\"text-align: right;\">\n",
       "      <th></th>\n",
       "      <th>h = 5e-04</th>\n",
       "      <th>h = 3e-04</th>\n",
       "      <th>h = 1e-04</th>\n",
       "    </tr>\n",
       "  </thead>\n",
       "  <tbody>\n",
       "    <tr>\n",
       "      <th>2 области</th>\n",
       "      <td>24</td>\n",
       "      <td>23</td>\n",
       "      <td>23</td>\n",
       "    </tr>\n",
       "    <tr>\n",
       "      <th>4 области</th>\n",
       "      <td>105</td>\n",
       "      <td>100</td>\n",
       "      <td>98</td>\n",
       "    </tr>\n",
       "    <tr>\n",
       "      <th>8 областей</th>\n",
       "      <td>451</td>\n",
       "      <td>381</td>\n",
       "      <td>372</td>\n",
       "    </tr>\n",
       "  </tbody>\n",
       "</table>\n",
       "</div>"
      ],
      "text/plain": [
       "            h = 5e-04  h = 3e-04  h = 1e-04\n",
       "2 области          24         23         23\n",
       "4 области         105        100         98\n",
       "8 областей        451        381        372"
      ]
     },
     "execution_count": 6,
     "metadata": {},
     "output_type": "execute_result"
    }
   ],
   "source": [
    "pd.DataFrame.from_dict(dict_iters_sm)"
   ]
  },
  {
   "cell_type": "markdown",
   "metadata": {},
   "source": [
    "Таблица разницы для осевого напряжения:"
   ]
  },
  {
   "cell_type": "code",
   "execution_count": 7,
   "metadata": {},
   "outputs": [
    {
     "data": {
      "text/html": [
       "<div>\n",
       "<style scoped>\n",
       "    .dataframe tbody tr th:only-of-type {\n",
       "        vertical-align: middle;\n",
       "    }\n",
       "\n",
       "    .dataframe tbody tr th {\n",
       "        vertical-align: top;\n",
       "    }\n",
       "\n",
       "    .dataframe thead th {\n",
       "        text-align: right;\n",
       "    }\n",
       "</style>\n",
       "<table border=\"1\" class=\"dataframe\">\n",
       "  <thead>\n",
       "    <tr style=\"text-align: right;\">\n",
       "      <th></th>\n",
       "      <th>h = 5e-04</th>\n",
       "      <th>h = 3e-04</th>\n",
       "      <th>h = 1e-04</th>\n",
       "    </tr>\n",
       "  </thead>\n",
       "  <tbody>\n",
       "    <tr>\n",
       "      <th>2 области</th>\n",
       "      <td>min = 4.88e-06, max = 1.32e-05</td>\n",
       "      <td>min = 5.45e-06, max = 1.27e-05</td>\n",
       "      <td>min = 4.92e-06, max = 1.01e-05</td>\n",
       "    </tr>\n",
       "    <tr>\n",
       "      <th>4 области</th>\n",
       "      <td>min = 1.83e-05, max = 3.76e-05</td>\n",
       "      <td>min = 1.70e-05, max = 3.52e-05</td>\n",
       "      <td>min = 1.74e-05, max = 3.53e-05</td>\n",
       "    </tr>\n",
       "    <tr>\n",
       "      <th>8 областей</th>\n",
       "      <td>min = 7.16e-05, max = 1.87e-04</td>\n",
       "      <td>min = 3.85e-05, max = 9.52e-05</td>\n",
       "      <td>min = 3.89e-05, max = 8.27e-05</td>\n",
       "    </tr>\n",
       "  </tbody>\n",
       "</table>\n",
       "</div>"
      ],
      "text/plain": [
       "                                 h = 5e-04                       h = 3e-04  \\\n",
       "2 области   min = 4.88e-06, max = 1.32e-05  min = 5.45e-06, max = 1.27e-05   \n",
       "4 области   min = 1.83e-05, max = 3.76e-05  min = 1.70e-05, max = 3.52e-05   \n",
       "8 областей  min = 7.16e-05, max = 1.87e-04  min = 3.85e-05, max = 9.52e-05   \n",
       "\n",
       "                                 h = 1e-04  \n",
       "2 области   min = 4.92e-06, max = 1.01e-05  \n",
       "4 области   min = 1.74e-05, max = 3.53e-05  \n",
       "8 областей  min = 3.89e-05, max = 8.27e-05  "
      ]
     },
     "execution_count": 7,
     "metadata": {},
     "output_type": "execute_result"
    }
   ],
   "source": [
    "pd.DataFrame.from_dict(dict_sigma_sm)"
   ]
  },
  {
   "cell_type": "markdown",
   "metadata": {},
   "source": [
    "### Аддитивный метод Шварца:"
   ]
  },
  {
   "cell_type": "code",
   "execution_count": null,
   "metadata": {},
   "outputs": [
    {
     "name": "stdout",
     "output_type": "stream",
     "text": [
      "5.317e-04\r"
     ]
    }
   ],
   "source": [
    "dict_iters_sa, dict_sigma_sa = calculate_iters(cur_task, schwarz_additive, list_edge_size, list_subds)"
   ]
  },
  {
   "cell_type": "markdown",
   "metadata": {},
   "source": [
    "Таблица количества итераций:"
   ]
  },
  {
   "cell_type": "code",
   "execution_count": null,
   "metadata": {},
   "outputs": [],
   "source": [
    "pd.DataFrame.from_dict(dict_iters_sa)"
   ]
  },
  {
   "cell_type": "markdown",
   "metadata": {},
   "source": [
    "Таблица разницы для осевого напряжения:"
   ]
  },
  {
   "cell_type": "code",
   "execution_count": null,
   "metadata": {},
   "outputs": [],
   "source": [
    "pd.DataFrame.from_dict(dict_sigma_sa)"
   ]
  },
  {
   "cell_type": "markdown",
   "metadata": {},
   "source": [
    "### Двухуровневый аддитивный метод Шварца:"
   ]
  },
  {
   "cell_type": "code",
   "execution_count": null,
   "metadata": {},
   "outputs": [],
   "source": [
    "dict_iters_tsa, dict_sigma_tsa = calculate_iters(cur_task, schwarz_two_level_additive, list_edge_size, list_subds)"
   ]
  },
  {
   "cell_type": "markdown",
   "metadata": {},
   "source": [
    "Таблица количества итераций:"
   ]
  },
  {
   "cell_type": "code",
   "execution_count": null,
   "metadata": {},
   "outputs": [],
   "source": [
    "pd.DataFrame.from_dict(dict_iters_tsa)"
   ]
  },
  {
   "cell_type": "markdown",
   "metadata": {},
   "source": [
    "Таблица разницы для осевого напряжения:"
   ]
  },
  {
   "cell_type": "code",
   "execution_count": null,
   "metadata": {},
   "outputs": [],
   "source": [
    "pd.DataFrame.from_dict(dict_sigma_tsa)"
   ]
  },
  {
   "cell_type": "code",
   "execution_count": null,
   "metadata": {},
   "outputs": [],
   "source": []
  }
 ],
 "metadata": {
  "kernelspec": {
   "display_name": "Python 3",
   "language": "python",
   "name": "python3"
  },
  "language_info": {
   "codemirror_mode": {
    "name": "ipython",
    "version": 3
   },
   "file_extension": ".py",
   "mimetype": "text/x-python",
   "name": "python",
   "nbconvert_exporter": "python",
   "pygments_lexer": "ipython3",
   "version": "3.8.3"
  },
  "latex_envs": {
   "LaTeX_envs_menu_present": true,
   "autoclose": false,
   "autocomplete": true,
   "bibliofile": "biblio.bib",
   "cite_by": "apalike",
   "current_citInitial": 1,
   "eqLabelWithNumbers": true,
   "eqNumInitial": 1,
   "hotkeys": {
    "equation": "Ctrl-E",
    "itemize": "Ctrl-I"
   },
   "labels_anchors": false,
   "latex_user_defs": false,
   "report_style_numbering": false,
   "user_envs_cfg": false
  },
  "toc": {
   "base_numbering": 1,
   "nav_menu": {
    "height": "487px",
    "width": "400px"
   },
   "number_sections": true,
   "sideBar": true,
   "skip_h1_title": false,
   "title_cell": "Table of Contents",
   "title_sidebar": "Contents",
   "toc_cell": false,
   "toc_position": {},
   "toc_section_display": true,
   "toc_window_display": false
  }
 },
 "nbformat": 4,
 "nbformat_minor": 4
}
