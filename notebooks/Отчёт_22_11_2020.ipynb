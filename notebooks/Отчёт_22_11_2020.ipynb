{
 "cells": [
  {
   "cell_type": "markdown",
   "metadata": {},
   "source": [
    "# Отчёт_22_11_2020"
   ]
  },
  {
   "cell_type": "markdown",
   "metadata": {},
   "source": [
    "## Изменение главной директории (выполнять только один раз!)"
   ]
  },
  {
   "cell_type": "code",
   "execution_count": 1,
   "metadata": {},
   "outputs": [],
   "source": [
    "import sys\n",
    "import os\n",
    "os.chdir('..//') \n",
    "sys.path.append(os.path.abspath('pycode'))\n",
    "#sys.path.append(os.path.abspath('tests'))"
   ]
  },
  {
   "cell_type": "markdown",
   "metadata": {},
   "source": [
    "## Список файлов в директории"
   ]
  },
  {
   "cell_type": "code",
   "execution_count": 2,
   "metadata": {},
   "outputs": [
    {
     "name": "stdout",
     "output_type": "stream",
     "text": [
      "['tests_info.dat', 'test_1_10_2.dat', 'test_1_10_4.dat', 'test_1_10_8.dat', 'test_1_15_2.dat', 'test_1_15_4.dat', 'test_1_15_8.dat', 'test_1_20_2.dat', 'test_1_20_4.dat', 'test_1_20_8.dat', 'test_1_25_2.dat', 'test_1_25_4.dat', 'test_1_25_8.dat', 'test_1_2_2.dat', 'test_1_2_4.dat', 'test_1_2_8.dat', 'test_1_30_2.dat', 'test_1_30_4.dat', 'test_1_30_8.dat', 'test_1_3_2.dat', 'test_1_3_4.dat', 'test_1_3_8.dat', 'test_1_40_2.dat', 'test_1_40_4.dat', 'test_1_40_8.dat', 'test_1_50_2.dat', 'test_1_50_4.dat', 'test_1_50_8.dat', 'test_1_5_2.dat', 'test_1_5_4.dat', 'test_1_5_8.dat', 'test_2_10_2.dat', 'test_2_10_4.dat', 'test_2_10_8.dat', 'test_2_15_2.dat', 'test_2_15_4.dat', 'test_2_15_8.dat', 'test_2_20_2.dat', 'test_2_20_4.dat', 'test_2_20_8.dat', 'test_2_25_2.dat', 'test_2_25_4.dat', 'test_2_25_8.dat', 'test_2_2_2.dat', 'test_2_2_4.dat', 'test_2_2_8.dat', 'test_2_30_2.dat', 'test_2_30_4.dat', 'test_2_30_8.dat', 'test_2_3_2.dat', 'test_2_3_4.dat', 'test_2_3_8.dat', 'test_2_40_2.dat', 'test_2_40_4.dat', 'test_2_40_8.dat', 'test_2_50_2.dat', 'test_2_50_4.dat', 'test_2_50_8.dat', 'test_2_5_2.dat', 'test_2_5_4.dat', 'test_2_5_8.dat']\n"
     ]
    }
   ],
   "source": [
    "print(os.listdir(\"tests/\"))"
   ]
  },
  {
   "cell_type": "markdown",
   "metadata": {},
   "source": [
    "## Параметры для чтения файлов и расчётов:"
   ]
  },
  {
   "cell_type": "code",
   "execution_count": 3,
   "metadata": {},
   "outputs": [],
   "source": [
    "with open(\"tests/tests_info.dat\") as f:\n",
    "    listAmntSubds = [int(x) for x in f.readline().split()]\n",
    "    listSplitCoefs = [int(x) for x in f.readline().split()]\n",
    "    listCoefsConvergence = [float(x) for x in f.readline().split()]\n",
    "listSplitCoefsPandas = [f\"{x**2} точек\" for x in listSplitCoefs]\n",
    "listAmntSubdsPandas = [f\"{x} подобласти\" if x<5 else f\"{x} подобластей\" for x in listAmntSubds]"
   ]
  },
  {
   "cell_type": "markdown",
   "metadata": {},
   "source": [
    "## Подключение необходимых библиотек"
   ]
  },
  {
   "cell_type": "code",
   "execution_count": 4,
   "metadata": {},
   "outputs": [],
   "source": [
    "import numpy as np\n",
    "import pandas as pd\n",
    "from programDisplacements import mainProgram as mp\n",
    "from programDisplacements import SchwarzAdditiveProgram as sap\n",
    "from programDisplacements import SchwarzMultiplicativeProgram as smp\n",
    "import matplotlib.pyplot as plt\n",
    "from tqdm import tqdm"
   ]
  },
  {
   "cell_type": "markdown",
   "metadata": {},
   "source": [
    "### Предоставленные задачи:"
   ]
  },
  {
   "cell_type": "markdown",
   "metadata": {},
   "source": [
    "- закрепление с трёх сторон;\n",
    "- закрепление с двух сторон;\n",
    "<div>\n",
    "<img src=\"img/tasks_Rodin.jpg\" width=\"250\"/>\n",
    "</div>"
   ]
  },
  {
   "cell_type": "markdown",
   "metadata": {},
   "source": [
    "## Первая задача:"
   ]
  },
  {
   "cell_type": "code",
   "execution_count": 5,
   "metadata": {},
   "outputs": [],
   "source": [
    "taskNum = 1\n",
    "coefConvergence = 1e-4"
   ]
  },
  {
   "cell_type": "markdown",
   "metadata": {},
   "source": [
    "### Получаем данные:"
   ]
  },
  {
   "cell_type": "code",
   "execution_count": 6,
   "metadata": {},
   "outputs": [],
   "source": [
    "uList_smp = []\n",
    "uList_sap = []\n",
    "itList_smp = []\n",
    "itList_sap = []\n",
    "minmaxSigma_smp = []\n",
    "minmaxSigma_sap = []\n",
    "\n",
    "for x in listAmntSubds:\n",
    "    tmp_1, tmp_2, tmp_3, tmp_4 = [], [], [], []\n",
    "    for y in listSplitCoefs:\n",
    "        u, Eps, Sigma_1, *arg, it_1 = smp(f\"test_{taskNum}_{y}_{x}.dat\", coefConvergence)\n",
    "        u, Eps, Sigma_2, *arg, it_2 = sap(f\"test_{taskNum}_{y}_{x}.dat\", coefConvergence)\n",
    "        tmp_1.append(it_1)\n",
    "        tmp_2.append(it_2)\n",
    "        tmp_3.append(f\"(min={min(Sigma_1[1]):.3g},max={max(Sigma_1[1]):.3g})\")\n",
    "        tmp_4.append(f\"(min={min(Sigma_2[1]):.3g},max={max(Sigma_2[1]):.3g})\")\n",
    "    itList_smp.append(tmp_1)\n",
    "    itList_sap.append(tmp_2)\n",
    "    minmaxSigma_smp.append(tmp_3)\n",
    "    minmaxSigma_sap.append(tmp_4)"
   ]
  },
  {
   "cell_type": "markdown",
   "metadata": {},
   "source": [
    "### Мультипликативный метод Шварца:"
   ]
  },
  {
   "cell_type": "markdown",
   "metadata": {},
   "source": [
    "##### Построение таблиц:\n",
    "Таблица ошибок для перемещений:"
   ]
  },
  {
   "cell_type": "code",
   "execution_count": 7,
   "metadata": {},
   "outputs": [
    {
     "data": {
      "text/html": [
       "<style  type=\"text/css\" >\n",
       "</style><table id=\"T_b0b8f553_2fff_11eb_b299_50465d740ddc\" ><thead>    <tr>        <th class=\"blank level0\" ></th>        <th class=\"col_heading level0 col0\" >400 точек</th>        <th class=\"col_heading level0 col1\" >625 точек</th>        <th class=\"col_heading level0 col2\" >900 точек</th>    </tr></thead><tbody>\n",
       "                <tr>\n",
       "                        <th id=\"T_b0b8f553_2fff_11eb_b299_50465d740ddclevel0_row0\" class=\"row_heading level0 row0\" >2 подобласти</th>\n",
       "                        <td id=\"T_b0b8f553_2fff_11eb_b299_50465d740ddcrow0_col0\" class=\"data row0 col0\" >8</td>\n",
       "                        <td id=\"T_b0b8f553_2fff_11eb_b299_50465d740ddcrow0_col1\" class=\"data row0 col1\" >9</td>\n",
       "                        <td id=\"T_b0b8f553_2fff_11eb_b299_50465d740ddcrow0_col2\" class=\"data row0 col2\" >8</td>\n",
       "            </tr>\n",
       "            <tr>\n",
       "                        <th id=\"T_b0b8f553_2fff_11eb_b299_50465d740ddclevel0_row1\" class=\"row_heading level0 row1\" >4 подобласти</th>\n",
       "                        <td id=\"T_b0b8f553_2fff_11eb_b299_50465d740ddcrow1_col0\" class=\"data row1 col0\" >19</td>\n",
       "                        <td id=\"T_b0b8f553_2fff_11eb_b299_50465d740ddcrow1_col1\" class=\"data row1 col1\" >19</td>\n",
       "                        <td id=\"T_b0b8f553_2fff_11eb_b299_50465d740ddcrow1_col2\" class=\"data row1 col2\" >20</td>\n",
       "            </tr>\n",
       "            <tr>\n",
       "                        <th id=\"T_b0b8f553_2fff_11eb_b299_50465d740ddclevel0_row2\" class=\"row_heading level0 row2\" >8 подобластей</th>\n",
       "                        <td id=\"T_b0b8f553_2fff_11eb_b299_50465d740ddcrow2_col0\" class=\"data row2 col0\" >48</td>\n",
       "                        <td id=\"T_b0b8f553_2fff_11eb_b299_50465d740ddcrow2_col1\" class=\"data row2 col1\" >44</td>\n",
       "                        <td id=\"T_b0b8f553_2fff_11eb_b299_50465d740ddcrow2_col2\" class=\"data row2 col2\" >47</td>\n",
       "            </tr>\n",
       "    </tbody></table>"
      ],
      "text/plain": [
       "<pandas.io.formats.style.Styler at 0x21e920a89d0>"
      ]
     },
     "execution_count": 7,
     "metadata": {},
     "output_type": "execute_result"
    }
   ],
   "source": [
    "df = pd.DataFrame(itList_smp, columns = listSplitCoefsPandas, index = listAmntSubdsPandas)\n",
    "df.style"
   ]
  },
  {
   "cell_type": "markdown",
   "metadata": {},
   "source": [
    "Таблица минимальных и максимальных напряжений:"
   ]
  },
  {
   "cell_type": "code",
   "execution_count": 8,
   "metadata": {},
   "outputs": [
    {
     "data": {
      "text/html": [
       "<style  type=\"text/css\" >\n",
       "</style><table id=\"T_b0bc7775_2fff_11eb_9fa9_50465d740ddc\" ><thead>    <tr>        <th class=\"blank level0\" ></th>        <th class=\"col_heading level0 col0\" >400 точек</th>        <th class=\"col_heading level0 col1\" >625 точек</th>        <th class=\"col_heading level0 col2\" >900 точек</th>    </tr></thead><tbody>\n",
       "                <tr>\n",
       "                        <th id=\"T_b0bc7775_2fff_11eb_9fa9_50465d740ddclevel0_row0\" class=\"row_heading level0 row0\" >2 подобласти</th>\n",
       "                        <td id=\"T_b0bc7775_2fff_11eb_9fa9_50465d740ddcrow0_col0\" class=\"data row0 col0\" >(min=-2e+07,max=-2e+07)</td>\n",
       "                        <td id=\"T_b0bc7775_2fff_11eb_9fa9_50465d740ddcrow0_col1\" class=\"data row0 col1\" >(min=-2e+07,max=-2e+07)</td>\n",
       "                        <td id=\"T_b0bc7775_2fff_11eb_9fa9_50465d740ddcrow0_col2\" class=\"data row0 col2\" >(min=-2e+07,max=-2e+07)</td>\n",
       "            </tr>\n",
       "            <tr>\n",
       "                        <th id=\"T_b0bc7775_2fff_11eb_9fa9_50465d740ddclevel0_row1\" class=\"row_heading level0 row1\" >4 подобласти</th>\n",
       "                        <td id=\"T_b0bc7775_2fff_11eb_9fa9_50465d740ddcrow1_col0\" class=\"data row1 col0\" >(min=-2e+07,max=-2e+07)</td>\n",
       "                        <td id=\"T_b0bc7775_2fff_11eb_9fa9_50465d740ddcrow1_col1\" class=\"data row1 col1\" >(min=-2e+07,max=-2e+07)</td>\n",
       "                        <td id=\"T_b0bc7775_2fff_11eb_9fa9_50465d740ddcrow1_col2\" class=\"data row1 col2\" >(min=-2e+07,max=-2e+07)</td>\n",
       "            </tr>\n",
       "            <tr>\n",
       "                        <th id=\"T_b0bc7775_2fff_11eb_9fa9_50465d740ddclevel0_row2\" class=\"row_heading level0 row2\" >8 подобластей</th>\n",
       "                        <td id=\"T_b0bc7775_2fff_11eb_9fa9_50465d740ddcrow2_col0\" class=\"data row2 col0\" >(min=-2e+07,max=-2e+07)</td>\n",
       "                        <td id=\"T_b0bc7775_2fff_11eb_9fa9_50465d740ddcrow2_col1\" class=\"data row2 col1\" >(min=-2e+07,max=-2e+07)</td>\n",
       "                        <td id=\"T_b0bc7775_2fff_11eb_9fa9_50465d740ddcrow2_col2\" class=\"data row2 col2\" >(min=-2e+07,max=-2e+07)</td>\n",
       "            </tr>\n",
       "    </tbody></table>"
      ],
      "text/plain": [
       "<pandas.io.formats.style.Styler at 0x21e95fc5520>"
      ]
     },
     "execution_count": 8,
     "metadata": {},
     "output_type": "execute_result"
    }
   ],
   "source": [
    "df = pd.DataFrame(minmaxSigma_smp, columns = listSplitCoefsPandas, index = listAmntSubdsPandas)\n",
    "df.style"
   ]
  },
  {
   "cell_type": "markdown",
   "metadata": {},
   "source": [
    "### Аддитивный метод Шварца:"
   ]
  },
  {
   "cell_type": "markdown",
   "metadata": {},
   "source": [
    "##### Построение таблиц:\n",
    "Таблица ошибок для перемещений:"
   ]
  },
  {
   "cell_type": "code",
   "execution_count": 9,
   "metadata": {},
   "outputs": [
    {
     "data": {
      "text/html": [
       "<style  type=\"text/css\" >\n",
       "</style><table id=\"T_b0bee83d_2fff_11eb_a61a_50465d740ddc\" ><thead>    <tr>        <th class=\"blank level0\" ></th>        <th class=\"col_heading level0 col0\" >400 точек</th>        <th class=\"col_heading level0 col1\" >625 точек</th>        <th class=\"col_heading level0 col2\" >900 точек</th>    </tr></thead><tbody>\n",
       "                <tr>\n",
       "                        <th id=\"T_b0bee83d_2fff_11eb_a61a_50465d740ddclevel0_row0\" class=\"row_heading level0 row0\" >2 подобласти</th>\n",
       "                        <td id=\"T_b0bee83d_2fff_11eb_a61a_50465d740ddcrow0_col0\" class=\"data row0 col0\" >17</td>\n",
       "                        <td id=\"T_b0bee83d_2fff_11eb_a61a_50465d740ddcrow0_col1\" class=\"data row0 col1\" >17</td>\n",
       "                        <td id=\"T_b0bee83d_2fff_11eb_a61a_50465d740ddcrow0_col2\" class=\"data row0 col2\" >16</td>\n",
       "            </tr>\n",
       "            <tr>\n",
       "                        <th id=\"T_b0bee83d_2fff_11eb_a61a_50465d740ddclevel0_row1\" class=\"row_heading level0 row1\" >4 подобласти</th>\n",
       "                        <td id=\"T_b0bee83d_2fff_11eb_a61a_50465d740ddcrow1_col0\" class=\"data row1 col0\" >29</td>\n",
       "                        <td id=\"T_b0bee83d_2fff_11eb_a61a_50465d740ddcrow1_col1\" class=\"data row1 col1\" >28</td>\n",
       "                        <td id=\"T_b0bee83d_2fff_11eb_a61a_50465d740ddcrow1_col2\" class=\"data row1 col2\" >30</td>\n",
       "            </tr>\n",
       "            <tr>\n",
       "                        <th id=\"T_b0bee83d_2fff_11eb_a61a_50465d740ddclevel0_row2\" class=\"row_heading level0 row2\" >8 подобластей</th>\n",
       "                        <td id=\"T_b0bee83d_2fff_11eb_a61a_50465d740ddcrow2_col0\" class=\"data row2 col0\" >103</td>\n",
       "                        <td id=\"T_b0bee83d_2fff_11eb_a61a_50465d740ddcrow2_col1\" class=\"data row2 col1\" >71</td>\n",
       "                        <td id=\"T_b0bee83d_2fff_11eb_a61a_50465d740ddcrow2_col2\" class=\"data row2 col2\" >99</td>\n",
       "            </tr>\n",
       "    </tbody></table>"
      ],
      "text/plain": [
       "<pandas.io.formats.style.Styler at 0x21e95f98c70>"
      ]
     },
     "execution_count": 9,
     "metadata": {},
     "output_type": "execute_result"
    }
   ],
   "source": [
    "df = pd.DataFrame(itList_sap, columns = listSplitCoefsPandas, index = listAmntSubdsPandas)\n",
    "df.style"
   ]
  },
  {
   "cell_type": "markdown",
   "metadata": {},
   "source": [
    "Таблица минимальных и максимальных напряжений (для $\\sigma_{yy}$):"
   ]
  },
  {
   "cell_type": "code",
   "execution_count": 10,
   "metadata": {},
   "outputs": [
    {
     "data": {
      "text/html": [
       "<style  type=\"text/css\" >\n",
       "</style><table id=\"T_b0c15908_2fff_11eb_8be0_50465d740ddc\" ><thead>    <tr>        <th class=\"blank level0\" ></th>        <th class=\"col_heading level0 col0\" >400 точек</th>        <th class=\"col_heading level0 col1\" >625 точек</th>        <th class=\"col_heading level0 col2\" >900 точек</th>    </tr></thead><tbody>\n",
       "                <tr>\n",
       "                        <th id=\"T_b0c15908_2fff_11eb_8be0_50465d740ddclevel0_row0\" class=\"row_heading level0 row0\" >2 подобласти</th>\n",
       "                        <td id=\"T_b0c15908_2fff_11eb_8be0_50465d740ddcrow0_col0\" class=\"data row0 col0\" >(min=-2e+07,max=-2e+07)</td>\n",
       "                        <td id=\"T_b0c15908_2fff_11eb_8be0_50465d740ddcrow0_col1\" class=\"data row0 col1\" >(min=-2e+07,max=-2e+07)</td>\n",
       "                        <td id=\"T_b0c15908_2fff_11eb_8be0_50465d740ddcrow0_col2\" class=\"data row0 col2\" >(min=-2e+07,max=-2e+07)</td>\n",
       "            </tr>\n",
       "            <tr>\n",
       "                        <th id=\"T_b0c15908_2fff_11eb_8be0_50465d740ddclevel0_row1\" class=\"row_heading level0 row1\" >4 подобласти</th>\n",
       "                        <td id=\"T_b0c15908_2fff_11eb_8be0_50465d740ddcrow1_col0\" class=\"data row1 col0\" >(min=-2e+07,max=-2e+07)</td>\n",
       "                        <td id=\"T_b0c15908_2fff_11eb_8be0_50465d740ddcrow1_col1\" class=\"data row1 col1\" >(min=-2e+07,max=-2e+07)</td>\n",
       "                        <td id=\"T_b0c15908_2fff_11eb_8be0_50465d740ddcrow1_col2\" class=\"data row1 col2\" >(min=-2e+07,max=-2e+07)</td>\n",
       "            </tr>\n",
       "            <tr>\n",
       "                        <th id=\"T_b0c15908_2fff_11eb_8be0_50465d740ddclevel0_row2\" class=\"row_heading level0 row2\" >8 подобластей</th>\n",
       "                        <td id=\"T_b0c15908_2fff_11eb_8be0_50465d740ddcrow2_col0\" class=\"data row2 col0\" >(min=-2e+07,max=-2e+07)</td>\n",
       "                        <td id=\"T_b0c15908_2fff_11eb_8be0_50465d740ddcrow2_col1\" class=\"data row2 col1\" >(min=-2e+07,max=-2e+07)</td>\n",
       "                        <td id=\"T_b0c15908_2fff_11eb_8be0_50465d740ddcrow2_col2\" class=\"data row2 col2\" >(min=-2e+07,max=-2e+07)</td>\n",
       "            </tr>\n",
       "    </tbody></table>"
      ],
      "text/plain": [
       "<pandas.io.formats.style.Styler at 0x21e95f98520>"
      ]
     },
     "execution_count": 10,
     "metadata": {},
     "output_type": "execute_result"
    }
   ],
   "source": [
    "df = pd.DataFrame(minmaxSigma_sap, columns = listSplitCoefsPandas, index = listAmntSubdsPandas)\n",
    "df.style"
   ]
  },
  {
   "cell_type": "markdown",
   "metadata": {},
   "source": [
    "## Вторая задача:"
   ]
  },
  {
   "cell_type": "code",
   "execution_count": 11,
   "metadata": {},
   "outputs": [],
   "source": [
    "taskNum = 2\n",
    "coefConvergence = 1e-4"
   ]
  },
  {
   "cell_type": "markdown",
   "metadata": {},
   "source": [
    "### Получаем данные:"
   ]
  },
  {
   "cell_type": "code",
   "execution_count": 12,
   "metadata": {},
   "outputs": [],
   "source": [
    "uList_smp = []\n",
    "uList_sap = []\n",
    "itList_smp = []\n",
    "itList_sap = []\n",
    "minmaxSigma_smp = []\n",
    "minmaxSigma_sap = []\n",
    "\n",
    "for x in listAmntSubds:\n",
    "    tmp_1, tmp_2, tmp_3, tmp_4 = [], [], [], []\n",
    "    for y in listSplitCoefs:\n",
    "        u, Eps, Sigma_1, *arg, it_1 = smp(f\"test_{taskNum}_{y}_{x}.dat\", coefConvergence)\n",
    "        u, Eps, Sigma_2, *arg, it_2 = sap(f\"test_{taskNum}_{y}_{x}.dat\", coefConvergence)\n",
    "        tmp_1.append(it_1)\n",
    "        tmp_2.append(it_2)\n",
    "        tmp_3.append(f\"(min={min(Sigma_1[1]):.3g},max={max(Sigma_1[1]):.3g})\")\n",
    "        tmp_4.append(f\"(min={min(Sigma_2[1]):.3g},max={max(Sigma_2[1]):.3g})\")\n",
    "    itList_smp.append(tmp_1)\n",
    "    itList_sap.append(tmp_2)\n",
    "    minmaxSigma_smp.append(tmp_3)\n",
    "    minmaxSigma_sap.append(tmp_4)"
   ]
  },
  {
   "cell_type": "markdown",
   "metadata": {},
   "source": [
    "### Мультипликативный метод Шварца:"
   ]
  },
  {
   "cell_type": "markdown",
   "metadata": {},
   "source": [
    "##### Построение таблиц:\n",
    "Таблица ошибок для перемещений:"
   ]
  },
  {
   "cell_type": "code",
   "execution_count": 13,
   "metadata": {},
   "outputs": [
    {
     "data": {
      "text/html": [
       "<style  type=\"text/css\" >\n",
       "</style><table id=\"T_d7e04e2a_300a_11eb_9c93_50465d740ddc\" ><thead>    <tr>        <th class=\"blank level0\" ></th>        <th class=\"col_heading level0 col0\" >400 точек</th>        <th class=\"col_heading level0 col1\" >625 точек</th>        <th class=\"col_heading level0 col2\" >900 точек</th>    </tr></thead><tbody>\n",
       "                <tr>\n",
       "                        <th id=\"T_d7e04e2a_300a_11eb_9c93_50465d740ddclevel0_row0\" class=\"row_heading level0 row0\" >2 подобласти</th>\n",
       "                        <td id=\"T_d7e04e2a_300a_11eb_9c93_50465d740ddcrow0_col0\" class=\"data row0 col0\" >17</td>\n",
       "                        <td id=\"T_d7e04e2a_300a_11eb_9c93_50465d740ddcrow0_col1\" class=\"data row0 col1\" >18</td>\n",
       "                        <td id=\"T_d7e04e2a_300a_11eb_9c93_50465d740ddcrow0_col2\" class=\"data row0 col2\" >16</td>\n",
       "            </tr>\n",
       "            <tr>\n",
       "                        <th id=\"T_d7e04e2a_300a_11eb_9c93_50465d740ddclevel0_row1\" class=\"row_heading level0 row1\" >4 подобласти</th>\n",
       "                        <td id=\"T_d7e04e2a_300a_11eb_9c93_50465d740ddcrow1_col0\" class=\"data row1 col0\" >60</td>\n",
       "                        <td id=\"T_d7e04e2a_300a_11eb_9c93_50465d740ddcrow1_col1\" class=\"data row1 col1\" >58</td>\n",
       "                        <td id=\"T_d7e04e2a_300a_11eb_9c93_50465d740ddcrow1_col2\" class=\"data row1 col2\" >62</td>\n",
       "            </tr>\n",
       "            <tr>\n",
       "                        <th id=\"T_d7e04e2a_300a_11eb_9c93_50465d740ddclevel0_row2\" class=\"row_heading level0 row2\" >8 подобластей</th>\n",
       "                        <td id=\"T_d7e04e2a_300a_11eb_9c93_50465d740ddcrow2_col0\" class=\"data row2 col0\" >242</td>\n",
       "                        <td id=\"T_d7e04e2a_300a_11eb_9c93_50465d740ddcrow2_col1\" class=\"data row2 col1\" >192</td>\n",
       "                        <td id=\"T_d7e04e2a_300a_11eb_9c93_50465d740ddcrow2_col2\" class=\"data row2 col2\" >222</td>\n",
       "            </tr>\n",
       "    </tbody></table>"
      ],
      "text/plain": [
       "<pandas.io.formats.style.Styler at 0x21e954b9b50>"
      ]
     },
     "execution_count": 13,
     "metadata": {},
     "output_type": "execute_result"
    }
   ],
   "source": [
    "df = pd.DataFrame(itList_smp, columns = listSplitCoefsPandas, index = listAmntSubdsPandas)\n",
    "df.style"
   ]
  },
  {
   "cell_type": "markdown",
   "metadata": {},
   "source": [
    "Таблица минимальных и максимальных напряжений:"
   ]
  },
  {
   "cell_type": "code",
   "execution_count": 14,
   "metadata": {},
   "outputs": [
    {
     "data": {
      "text/html": [
       "<style  type=\"text/css\" >\n",
       "</style><table id=\"T_d7e2e5fe_300a_11eb_a628_50465d740ddc\" ><thead>    <tr>        <th class=\"blank level0\" ></th>        <th class=\"col_heading level0 col0\" >400 точек</th>        <th class=\"col_heading level0 col1\" >625 точек</th>        <th class=\"col_heading level0 col2\" >900 точек</th>    </tr></thead><tbody>\n",
       "                <tr>\n",
       "                        <th id=\"T_d7e2e5fe_300a_11eb_a628_50465d740ddclevel0_row0\" class=\"row_heading level0 row0\" >2 подобласти</th>\n",
       "                        <td id=\"T_d7e2e5fe_300a_11eb_a628_50465d740ddcrow0_col0\" class=\"data row0 col0\" >(min=-2e+07,max=-2e+07)</td>\n",
       "                        <td id=\"T_d7e2e5fe_300a_11eb_a628_50465d740ddcrow0_col1\" class=\"data row0 col1\" >(min=-2e+07,max=-2e+07)</td>\n",
       "                        <td id=\"T_d7e2e5fe_300a_11eb_a628_50465d740ddcrow0_col2\" class=\"data row0 col2\" >(min=-2e+07,max=-2e+07)</td>\n",
       "            </tr>\n",
       "            <tr>\n",
       "                        <th id=\"T_d7e2e5fe_300a_11eb_a628_50465d740ddclevel0_row1\" class=\"row_heading level0 row1\" >4 подобласти</th>\n",
       "                        <td id=\"T_d7e2e5fe_300a_11eb_a628_50465d740ddcrow1_col0\" class=\"data row1 col0\" >(min=-2e+07,max=-2e+07)</td>\n",
       "                        <td id=\"T_d7e2e5fe_300a_11eb_a628_50465d740ddcrow1_col1\" class=\"data row1 col1\" >(min=-2e+07,max=-2e+07)</td>\n",
       "                        <td id=\"T_d7e2e5fe_300a_11eb_a628_50465d740ddcrow1_col2\" class=\"data row1 col2\" >(min=-2e+07,max=-2e+07)</td>\n",
       "            </tr>\n",
       "            <tr>\n",
       "                        <th id=\"T_d7e2e5fe_300a_11eb_a628_50465d740ddclevel0_row2\" class=\"row_heading level0 row2\" >8 подобластей</th>\n",
       "                        <td id=\"T_d7e2e5fe_300a_11eb_a628_50465d740ddcrow2_col0\" class=\"data row2 col0\" >(min=-2e+07,max=-1.99e+07)</td>\n",
       "                        <td id=\"T_d7e2e5fe_300a_11eb_a628_50465d740ddcrow2_col1\" class=\"data row2 col1\" >(min=-2e+07,max=-2e+07)</td>\n",
       "                        <td id=\"T_d7e2e5fe_300a_11eb_a628_50465d740ddcrow2_col2\" class=\"data row2 col2\" >(min=-2e+07,max=-2e+07)</td>\n",
       "            </tr>\n",
       "    </tbody></table>"
      ],
      "text/plain": [
       "<pandas.io.formats.style.Styler at 0x21e95fc70a0>"
      ]
     },
     "execution_count": 14,
     "metadata": {},
     "output_type": "execute_result"
    }
   ],
   "source": [
    "df = pd.DataFrame(minmaxSigma_smp, columns = listSplitCoefsPandas, index = listAmntSubdsPandas)\n",
    "df.style"
   ]
  },
  {
   "cell_type": "markdown",
   "metadata": {},
   "source": [
    "### Аддитивный метод Шварца:"
   ]
  },
  {
   "cell_type": "markdown",
   "metadata": {},
   "source": [
    "##### Построение таблиц:\n",
    "Таблица ошибок для перемещений:"
   ]
  },
  {
   "cell_type": "code",
   "execution_count": 15,
   "metadata": {},
   "outputs": [
    {
     "data": {
      "text/html": [
       "<style  type=\"text/css\" >\n",
       "</style><table id=\"T_d7e556c7_300a_11eb_b76a_50465d740ddc\" ><thead>    <tr>        <th class=\"blank level0\" ></th>        <th class=\"col_heading level0 col0\" >400 точек</th>        <th class=\"col_heading level0 col1\" >625 точек</th>        <th class=\"col_heading level0 col2\" >900 точек</th>    </tr></thead><tbody>\n",
       "                <tr>\n",
       "                        <th id=\"T_d7e556c7_300a_11eb_b76a_50465d740ddclevel0_row0\" class=\"row_heading level0 row0\" >2 подобласти</th>\n",
       "                        <td id=\"T_d7e556c7_300a_11eb_b76a_50465d740ddcrow0_col0\" class=\"data row0 col0\" >54</td>\n",
       "                        <td id=\"T_d7e556c7_300a_11eb_b76a_50465d740ddcrow0_col1\" class=\"data row0 col1\" >55</td>\n",
       "                        <td id=\"T_d7e556c7_300a_11eb_b76a_50465d740ddcrow0_col2\" class=\"data row0 col2\" >49</td>\n",
       "            </tr>\n",
       "            <tr>\n",
       "                        <th id=\"T_d7e556c7_300a_11eb_b76a_50465d740ddclevel0_row1\" class=\"row_heading level0 row1\" >4 подобласти</th>\n",
       "                        <td id=\"T_d7e556c7_300a_11eb_b76a_50465d740ddcrow1_col0\" class=\"data row1 col0\" >179</td>\n",
       "                        <td id=\"T_d7e556c7_300a_11eb_b76a_50465d740ddcrow1_col1\" class=\"data row1 col1\" >172</td>\n",
       "                        <td id=\"T_d7e556c7_300a_11eb_b76a_50465d740ddcrow1_col2\" class=\"data row1 col2\" >183</td>\n",
       "            </tr>\n",
       "            <tr>\n",
       "                        <th id=\"T_d7e556c7_300a_11eb_b76a_50465d740ddclevel0_row2\" class=\"row_heading level0 row2\" >8 подобластей</th>\n",
       "                        <td id=\"T_d7e556c7_300a_11eb_b76a_50465d740ddcrow2_col0\" class=\"data row2 col0\" >602</td>\n",
       "                        <td id=\"T_d7e556c7_300a_11eb_b76a_50465d740ddcrow2_col1\" class=\"data row2 col1\" >499</td>\n",
       "                        <td id=\"T_d7e556c7_300a_11eb_b76a_50465d740ddcrow2_col2\" class=\"data row2 col2\" >561</td>\n",
       "            </tr>\n",
       "    </tbody></table>"
      ],
      "text/plain": [
       "<pandas.io.formats.style.Styler at 0x21e9554dd00>"
      ]
     },
     "execution_count": 15,
     "metadata": {},
     "output_type": "execute_result"
    }
   ],
   "source": [
    "df = pd.DataFrame(itList_sap, columns = listSplitCoefsPandas, index = listAmntSubdsPandas)\n",
    "df.style"
   ]
  },
  {
   "cell_type": "markdown",
   "metadata": {},
   "source": [
    "Таблица минимальных и максимальных напряжений (для $\\sigma_{yy}$):"
   ]
  },
  {
   "cell_type": "code",
   "execution_count": 16,
   "metadata": {},
   "outputs": [
    {
     "data": {
      "text/html": [
       "<style  type=\"text/css\" >\n",
       "</style><table id=\"T_d7e7a08f_300a_11eb_99ad_50465d740ddc\" ><thead>    <tr>        <th class=\"blank level0\" ></th>        <th class=\"col_heading level0 col0\" >400 точек</th>        <th class=\"col_heading level0 col1\" >625 точек</th>        <th class=\"col_heading level0 col2\" >900 точек</th>    </tr></thead><tbody>\n",
       "                <tr>\n",
       "                        <th id=\"T_d7e7a08f_300a_11eb_99ad_50465d740ddclevel0_row0\" class=\"row_heading level0 row0\" >2 подобласти</th>\n",
       "                        <td id=\"T_d7e7a08f_300a_11eb_99ad_50465d740ddcrow0_col0\" class=\"data row0 col0\" >(min=-2e+07,max=-2e+07)</td>\n",
       "                        <td id=\"T_d7e7a08f_300a_11eb_99ad_50465d740ddcrow0_col1\" class=\"data row0 col1\" >(min=-2e+07,max=-2e+07)</td>\n",
       "                        <td id=\"T_d7e7a08f_300a_11eb_99ad_50465d740ddcrow0_col2\" class=\"data row0 col2\" >(min=-2e+07,max=-2e+07)</td>\n",
       "            </tr>\n",
       "            <tr>\n",
       "                        <th id=\"T_d7e7a08f_300a_11eb_99ad_50465d740ddclevel0_row1\" class=\"row_heading level0 row1\" >4 подобласти</th>\n",
       "                        <td id=\"T_d7e7a08f_300a_11eb_99ad_50465d740ddcrow1_col0\" class=\"data row1 col0\" >(min=-2e+07,max=-2e+07)</td>\n",
       "                        <td id=\"T_d7e7a08f_300a_11eb_99ad_50465d740ddcrow1_col1\" class=\"data row1 col1\" >(min=-2e+07,max=-2e+07)</td>\n",
       "                        <td id=\"T_d7e7a08f_300a_11eb_99ad_50465d740ddcrow1_col2\" class=\"data row1 col2\" >(min=-2e+07,max=-2e+07)</td>\n",
       "            </tr>\n",
       "            <tr>\n",
       "                        <th id=\"T_d7e7a08f_300a_11eb_99ad_50465d740ddclevel0_row2\" class=\"row_heading level0 row2\" >8 подобластей</th>\n",
       "                        <td id=\"T_d7e7a08f_300a_11eb_99ad_50465d740ddcrow2_col0\" class=\"data row2 col0\" >(min=-2.01e+07,max=-1.99e+07)</td>\n",
       "                        <td id=\"T_d7e7a08f_300a_11eb_99ad_50465d740ddcrow2_col1\" class=\"data row2 col1\" >(min=-2e+07,max=-1.99e+07)</td>\n",
       "                        <td id=\"T_d7e7a08f_300a_11eb_99ad_50465d740ddcrow2_col2\" class=\"data row2 col2\" >(min=-2.01e+07,max=-1.99e+07)</td>\n",
       "            </tr>\n",
       "    </tbody></table>"
      ],
      "text/plain": [
       "<pandas.io.formats.style.Styler at 0x21e954b9610>"
      ]
     },
     "execution_count": 16,
     "metadata": {},
     "output_type": "execute_result"
    }
   ],
   "source": [
    "df = pd.DataFrame(minmaxSigma_sap, columns = listSplitCoefsPandas, index = listAmntSubdsPandas)\n",
    "df.style"
   ]
  }
 ],
 "metadata": {
  "kernelspec": {
   "display_name": "Python 3",
   "language": "python",
   "name": "python3"
  },
  "language_info": {
   "codemirror_mode": {
    "name": "ipython",
    "version": 3
   },
   "file_extension": ".py",
   "mimetype": "text/x-python",
   "name": "python",
   "nbconvert_exporter": "python",
   "pygments_lexer": "ipython3",
   "version": "3.8.3"
  }
 },
 "nbformat": 4,
 "nbformat_minor": 4
}
