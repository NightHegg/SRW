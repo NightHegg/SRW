{
 "cells": [
  {
   "cell_type": "markdown",
   "metadata": {},
   "source": [
    "# Отчёт_08_02_2021"
   ]
  },
  {
   "cell_type": "markdown",
   "metadata": {},
   "source": [
    "## Изменение главной директории (выполнять только один раз!)"
   ]
  },
  {
   "cell_type": "code",
   "execution_count": 1,
   "metadata": {},
   "outputs": [
    {
     "name": "stdout",
     "output_type": "stream",
     "text": [
      "C:\\Users\\NightHegg\\Desktop\\projects\\SRW\n"
     ]
    }
   ],
   "source": [
    "import sys\n",
    "import os\n",
    "os.chdir('..//')\n",
    "print(os.getcwd())"
   ]
  },
  {
   "cell_type": "markdown",
   "metadata": {},
   "source": [
    "## Подключение необходимых библиотек"
   ]
  },
  {
   "cell_type": "code",
   "execution_count": 2,
   "metadata": {},
   "outputs": [],
   "source": [
    "import numpy as np\n",
    "import pandas as pd\n",
    "import matplotlib.pyplot as plt\n",
    "import scipy as sp\n",
    "\n",
    "from scr.class_basic_method import basic_method\n",
    "from scr.class_schwarz_multiplicative import schwarz_multiplicative\n",
    "from scr.class_schwarz_additive import schwarz_additive\n",
    "from scr.class_schwarz_two_level_additive import schwarz_two_level_additive"
   ]
  },
  {
   "cell_type": "markdown",
   "metadata": {},
   "source": [
    "## Функция для получения результатов"
   ]
  },
  {
   "cell_type": "code",
   "execution_count": 3,
   "metadata": {},
   "outputs": [],
   "source": [
    "def calculate_iters(cur_task, cur_method, list_mesh, list_subds):\n",
    "    dict_result = {}\n",
    "    dict_result_sigma = {}\n",
    "    for cur_mesh in list_mesh:\n",
    "        dict_iters_temp = {}\n",
    "        dict_sigma_temp = {}\n",
    "        for cur_amnt_subds in list_subds:\n",
    "            obj = cur_method(cur_task, cur_mesh, cur_amnt_subds, coef_convergence)\n",
    "            obj.get_solution()\n",
    "            \n",
    "            array_amnt_subds = np.prod(np.array(cur_amnt_subds))\n",
    "            styled_amnt_subds = f\"{array_amnt_subds} области\" if array_amnt_subds < 5 else f\"{array_amnt_subds} областей\"\n",
    "            \n",
    "            dict_iters_temp[styled_amnt_subds] = obj.amnt_iterations\n",
    "            dict_sigma_temp[styled_amnt_subds] = obj.get_special_sigma()\n",
    "            \n",
    "        dict_result[f\"{cur_mesh**2} точек\"] = dict_iters_temp\n",
    "        dict_result_sigma[f\"{cur_mesh**2} точек\"] = dict_sigma_temp\n",
    "    return dict_result, dict_result_sigma\n",
    "\n",
    "\n",
    "def calculate_conv(cur_task, cur_method, cur_mesh, cur_subds, list_coef):\n",
    "    dict_result = {}\n",
    "    dict_result_temp = {}\n",
    "    for cur_coef in list_coef:\n",
    "        obj = cur_method(cur_task, cur_mesh, cur_subds, cur_coef)\n",
    "        obj.get_solution()\n",
    "        dict_result_temp[f\"{cur_coef:.0e}\"] = obj.amnt_iterations\n",
    "    dict_result[\"Количество итераций\"] = dict_result_temp\n",
    "    return dict_result"
   ]
  },
  {
   "cell_type": "markdown",
   "metadata": {},
   "source": [
    "### Предоставленные задачи:"
   ]
  },
  {
   "cell_type": "markdown",
   "metadata": {},
   "source": [
    "- закрепление с трёх сторон;\n",
    "- закрепление с двух сторон;\n",
    "<div>\n",
    "<img src=\"img/tasks_Rodin.jpg\" width=\"250\"/>\n",
    "</div>"
   ]
  },
  {
   "cell_type": "markdown",
   "metadata": {},
   "source": [
    "## Первая задача:"
   ]
  },
  {
   "cell_type": "code",
   "execution_count": 4,
   "metadata": {},
   "outputs": [],
   "source": [
    "cur_task = 1\n",
    "coef_convergence = 1e-5\n",
    "\n",
    "list_subds = [[2, 1], [4, 1], [8, 1]]\n",
    "list_mesh = [20, 25, 30]\n",
    "\n",
    "test_mesh = 25\n",
    "test_subds = [4, 1]\n",
    "list_coef = [1e-3, 1e-4, 1e-5]"
   ]
  },
  {
   "cell_type": "markdown",
   "metadata": {},
   "source": [
    "### Мультипликативный метод Шварца:"
   ]
  },
  {
   "cell_type": "code",
   "execution_count": 5,
   "metadata": {},
   "outputs": [
    {
     "name": "stdout",
     "output_type": "stream",
     "text": [
      "9.571e-06\r"
     ]
    }
   ],
   "source": [
    "dict_iters_sm, dict_sigma_sm = calculate_iters(cur_task, schwarz_multiplicative, list_mesh, list_subds)"
   ]
  },
  {
   "cell_type": "markdown",
   "metadata": {},
   "source": [
    "Таблица количества итераций:"
   ]
  },
  {
   "cell_type": "code",
   "execution_count": 6,
   "metadata": {},
   "outputs": [
    {
     "data": {
      "text/html": [
       "<div>\n",
       "<style scoped>\n",
       "    .dataframe tbody tr th:only-of-type {\n",
       "        vertical-align: middle;\n",
       "    }\n",
       "\n",
       "    .dataframe tbody tr th {\n",
       "        vertical-align: top;\n",
       "    }\n",
       "\n",
       "    .dataframe thead th {\n",
       "        text-align: right;\n",
       "    }\n",
       "</style>\n",
       "<table border=\"1\" class=\"dataframe\">\n",
       "  <thead>\n",
       "    <tr style=\"text-align: right;\">\n",
       "      <th></th>\n",
       "      <th>400 точек</th>\n",
       "      <th>625 точек</th>\n",
       "      <th>900 точек</th>\n",
       "    </tr>\n",
       "  </thead>\n",
       "  <tbody>\n",
       "    <tr>\n",
       "      <th>2 области</th>\n",
       "      <td>12</td>\n",
       "      <td>13</td>\n",
       "      <td>12</td>\n",
       "    </tr>\n",
       "    <tr>\n",
       "      <th>4 области</th>\n",
       "      <td>31</td>\n",
       "      <td>31</td>\n",
       "      <td>32</td>\n",
       "    </tr>\n",
       "    <tr>\n",
       "      <th>8 областей</th>\n",
       "      <td>114</td>\n",
       "      <td>92</td>\n",
       "      <td>111</td>\n",
       "    </tr>\n",
       "  </tbody>\n",
       "</table>\n",
       "</div>"
      ],
      "text/plain": [
       "            400 точек  625 точек  900 точек\n",
       "2 области          12         13         12\n",
       "4 области          31         31         32\n",
       "8 областей        114         92        111"
      ]
     },
     "execution_count": 6,
     "metadata": {},
     "output_type": "execute_result"
    }
   ],
   "source": [
    "pd.DataFrame.from_dict(dict_iters_sm)"
   ]
  },
  {
   "cell_type": "markdown",
   "metadata": {},
   "source": [
    "Таблица разницы для осевого напряжения:"
   ]
  },
  {
   "cell_type": "code",
   "execution_count": 7,
   "metadata": {},
   "outputs": [
    {
     "data": {
      "text/html": [
       "<div>\n",
       "<style scoped>\n",
       "    .dataframe tbody tr th:only-of-type {\n",
       "        vertical-align: middle;\n",
       "    }\n",
       "\n",
       "    .dataframe tbody tr th {\n",
       "        vertical-align: top;\n",
       "    }\n",
       "\n",
       "    .dataframe thead th {\n",
       "        text-align: right;\n",
       "    }\n",
       "</style>\n",
       "<table border=\"1\" class=\"dataframe\">\n",
       "  <thead>\n",
       "    <tr style=\"text-align: right;\">\n",
       "      <th></th>\n",
       "      <th>400 точек</th>\n",
       "      <th>625 точек</th>\n",
       "      <th>900 точек</th>\n",
       "    </tr>\n",
       "  </thead>\n",
       "  <tbody>\n",
       "    <tr>\n",
       "      <th>2 области</th>\n",
       "      <td>min = 3.14e-06, max = 6.75e-07</td>\n",
       "      <td>min = 1.68e-06, max = 4.71e-07</td>\n",
       "      <td>min = 8.85e-07, max = 1.79e-07</td>\n",
       "    </tr>\n",
       "    <tr>\n",
       "      <th>4 области</th>\n",
       "      <td>min = 6.77e-06, max = 1.95e-06</td>\n",
       "      <td>min = 5.87e-06, max = 1.15e-06</td>\n",
       "      <td>min = 6.83e-06, max = 1.97e-06</td>\n",
       "    </tr>\n",
       "    <tr>\n",
       "      <th>8 областей</th>\n",
       "      <td>min = 2.67e-05, max = 1.32e-05</td>\n",
       "      <td>min = 1.61e-05, max = 4.28e-06</td>\n",
       "      <td>min = 3.32e-05, max = 1.33e-05</td>\n",
       "    </tr>\n",
       "  </tbody>\n",
       "</table>\n",
       "</div>"
      ],
      "text/plain": [
       "                                 400 точек                       625 точек  \\\n",
       "2 области   min = 3.14e-06, max = 6.75e-07  min = 1.68e-06, max = 4.71e-07   \n",
       "4 области   min = 6.77e-06, max = 1.95e-06  min = 5.87e-06, max = 1.15e-06   \n",
       "8 областей  min = 2.67e-05, max = 1.32e-05  min = 1.61e-05, max = 4.28e-06   \n",
       "\n",
       "                                 900 точек  \n",
       "2 области   min = 8.85e-07, max = 1.79e-07  \n",
       "4 области   min = 6.83e-06, max = 1.97e-06  \n",
       "8 областей  min = 3.32e-05, max = 1.33e-05  "
      ]
     },
     "execution_count": 7,
     "metadata": {},
     "output_type": "execute_result"
    }
   ],
   "source": [
    "pd.DataFrame.from_dict(dict_sigma_sm)"
   ]
  },
  {
   "cell_type": "markdown",
   "metadata": {},
   "source": [
    "#### Дополнительные задачи:"
   ]
  },
  {
   "cell_type": "code",
   "execution_count": 8,
   "metadata": {},
   "outputs": [
    {
     "name": "stdout",
     "output_type": "stream",
     "text": [
      "8.606e-06\r"
     ]
    }
   ],
   "source": [
    "dict_conv_sm = calculate_conv(cur_task, schwarz_multiplicative, test_mesh, test_subds, list_coef)"
   ]
  },
  {
   "cell_type": "markdown",
   "metadata": {},
   "source": [
    "Таблица зависимости количества итераций от критерия сходимости (625 точек, 4 подобласти):"
   ]
  },
  {
   "cell_type": "code",
   "execution_count": 9,
   "metadata": {},
   "outputs": [
    {
     "data": {
      "text/html": [
       "<div>\n",
       "<style scoped>\n",
       "    .dataframe tbody tr th:only-of-type {\n",
       "        vertical-align: middle;\n",
       "    }\n",
       "\n",
       "    .dataframe tbody tr th {\n",
       "        vertical-align: top;\n",
       "    }\n",
       "\n",
       "    .dataframe thead th {\n",
       "        text-align: right;\n",
       "    }\n",
       "</style>\n",
       "<table border=\"1\" class=\"dataframe\">\n",
       "  <thead>\n",
       "    <tr style=\"text-align: right;\">\n",
       "      <th></th>\n",
       "      <th>Количество итераций</th>\n",
       "    </tr>\n",
       "  </thead>\n",
       "  <tbody>\n",
       "    <tr>\n",
       "      <th>1e-03</th>\n",
       "      <td>15</td>\n",
       "    </tr>\n",
       "    <tr>\n",
       "      <th>1e-04</th>\n",
       "      <td>23</td>\n",
       "    </tr>\n",
       "    <tr>\n",
       "      <th>1e-05</th>\n",
       "      <td>31</td>\n",
       "    </tr>\n",
       "  </tbody>\n",
       "</table>\n",
       "</div>"
      ],
      "text/plain": [
       "       Количество итераций\n",
       "1e-03                   15\n",
       "1e-04                   23\n",
       "1e-05                   31"
      ]
     },
     "execution_count": 9,
     "metadata": {},
     "output_type": "execute_result"
    }
   ],
   "source": [
    "pd.DataFrame(dict_conv_sm)"
   ]
  },
  {
   "cell_type": "markdown",
   "metadata": {},
   "source": [
    "### Аддитивный метод Шварца:"
   ]
  },
  {
   "cell_type": "code",
   "execution_count": 10,
   "metadata": {},
   "outputs": [
    {
     "name": "stdout",
     "output_type": "stream",
     "text": [
      "9.956e-06\r"
     ]
    }
   ],
   "source": [
    "dict_iters_sa, dict_sigma_sa = calculate_iters(cur_task, schwarz_additive, list_mesh, list_subds)"
   ]
  },
  {
   "cell_type": "markdown",
   "metadata": {},
   "source": [
    "Таблица количества итераций:"
   ]
  },
  {
   "cell_type": "code",
   "execution_count": 11,
   "metadata": {},
   "outputs": [
    {
     "data": {
      "text/html": [
       "<div>\n",
       "<style scoped>\n",
       "    .dataframe tbody tr th:only-of-type {\n",
       "        vertical-align: middle;\n",
       "    }\n",
       "\n",
       "    .dataframe tbody tr th {\n",
       "        vertical-align: top;\n",
       "    }\n",
       "\n",
       "    .dataframe thead th {\n",
       "        text-align: right;\n",
       "    }\n",
       "</style>\n",
       "<table border=\"1\" class=\"dataframe\">\n",
       "  <thead>\n",
       "    <tr style=\"text-align: right;\">\n",
       "      <th></th>\n",
       "      <th>400 точек</th>\n",
       "      <th>625 точек</th>\n",
       "      <th>900 точек</th>\n",
       "    </tr>\n",
       "  </thead>\n",
       "  <tbody>\n",
       "    <tr>\n",
       "      <th>2 области</th>\n",
       "      <td>22</td>\n",
       "      <td>23</td>\n",
       "      <td>21</td>\n",
       "    </tr>\n",
       "    <tr>\n",
       "      <th>4 области</th>\n",
       "      <td>40</td>\n",
       "      <td>39</td>\n",
       "      <td>44</td>\n",
       "    </tr>\n",
       "    <tr>\n",
       "      <th>8 областей</th>\n",
       "      <td>145</td>\n",
       "      <td>102</td>\n",
       "      <td>143</td>\n",
       "    </tr>\n",
       "  </tbody>\n",
       "</table>\n",
       "</div>"
      ],
      "text/plain": [
       "            400 точек  625 точек  900 точек\n",
       "2 области          22         23         21\n",
       "4 области          40         39         44\n",
       "8 областей        145        102        143"
      ]
     },
     "execution_count": 11,
     "metadata": {},
     "output_type": "execute_result"
    }
   ],
   "source": [
    "pd.DataFrame.from_dict(dict_iters_sa)"
   ]
  },
  {
   "cell_type": "markdown",
   "metadata": {},
   "source": [
    "Таблица разницы для осевого напряжения:"
   ]
  },
  {
   "cell_type": "code",
   "execution_count": 12,
   "metadata": {},
   "outputs": [
    {
     "data": {
      "text/html": [
       "<div>\n",
       "<style scoped>\n",
       "    .dataframe tbody tr th:only-of-type {\n",
       "        vertical-align: middle;\n",
       "    }\n",
       "\n",
       "    .dataframe tbody tr th {\n",
       "        vertical-align: top;\n",
       "    }\n",
       "\n",
       "    .dataframe thead th {\n",
       "        text-align: right;\n",
       "    }\n",
       "</style>\n",
       "<table border=\"1\" class=\"dataframe\">\n",
       "  <thead>\n",
       "    <tr style=\"text-align: right;\">\n",
       "      <th></th>\n",
       "      <th>400 точек</th>\n",
       "      <th>625 точек</th>\n",
       "      <th>900 точек</th>\n",
       "    </tr>\n",
       "  </thead>\n",
       "  <tbody>\n",
       "    <tr>\n",
       "      <th>2 области</th>\n",
       "      <td>min = 2.93e-05, max = 3.65e-05</td>\n",
       "      <td>min = 2.39e-06, max = 2.14e-05</td>\n",
       "      <td>min = 2.47e-06, max = 1.29e-05</td>\n",
       "    </tr>\n",
       "    <tr>\n",
       "      <th>4 области</th>\n",
       "      <td>min = 2.26e-05, max = 3.41e-05</td>\n",
       "      <td>min = 9.50e-06, max = 2.43e-05</td>\n",
       "      <td>min = 2.59e-05, max = 3.64e-05</td>\n",
       "    </tr>\n",
       "    <tr>\n",
       "      <th>8 областей</th>\n",
       "      <td>min = 6.11e-05, max = 1.66e-04</td>\n",
       "      <td>min = 3.73e-05, max = 8.02e-05</td>\n",
       "      <td>min = 4.88e-05, max = 1.60e-04</td>\n",
       "    </tr>\n",
       "  </tbody>\n",
       "</table>\n",
       "</div>"
      ],
      "text/plain": [
       "                                 400 точек                       625 точек  \\\n",
       "2 области   min = 2.93e-05, max = 3.65e-05  min = 2.39e-06, max = 2.14e-05   \n",
       "4 области   min = 2.26e-05, max = 3.41e-05  min = 9.50e-06, max = 2.43e-05   \n",
       "8 областей  min = 6.11e-05, max = 1.66e-04  min = 3.73e-05, max = 8.02e-05   \n",
       "\n",
       "                                 900 точек  \n",
       "2 области   min = 2.47e-06, max = 1.29e-05  \n",
       "4 области   min = 2.59e-05, max = 3.64e-05  \n",
       "8 областей  min = 4.88e-05, max = 1.60e-04  "
      ]
     },
     "execution_count": 12,
     "metadata": {},
     "output_type": "execute_result"
    }
   ],
   "source": [
    "pd.DataFrame.from_dict(dict_sigma_sa)"
   ]
  },
  {
   "cell_type": "markdown",
   "metadata": {},
   "source": [
    "#### Дополнительные задачи:"
   ]
  },
  {
   "cell_type": "code",
   "execution_count": 13,
   "metadata": {},
   "outputs": [
    {
     "name": "stdout",
     "output_type": "stream",
     "text": [
      "8.273e-06\r"
     ]
    }
   ],
   "source": [
    "dict_conv_sa = calculate_conv(cur_task, schwarz_additive, test_mesh, test_subds, list_coef)"
   ]
  },
  {
   "cell_type": "markdown",
   "metadata": {},
   "source": [
    "Таблица зависимости количества итераций от критерия сходимости (625 точек, 4 подобласти):"
   ]
  },
  {
   "cell_type": "code",
   "execution_count": 14,
   "metadata": {},
   "outputs": [
    {
     "data": {
      "text/html": [
       "<div>\n",
       "<style scoped>\n",
       "    .dataframe tbody tr th:only-of-type {\n",
       "        vertical-align: middle;\n",
       "    }\n",
       "\n",
       "    .dataframe tbody tr th {\n",
       "        vertical-align: top;\n",
       "    }\n",
       "\n",
       "    .dataframe thead th {\n",
       "        text-align: right;\n",
       "    }\n",
       "</style>\n",
       "<table border=\"1\" class=\"dataframe\">\n",
       "  <thead>\n",
       "    <tr style=\"text-align: right;\">\n",
       "      <th></th>\n",
       "      <th>Количество итераций</th>\n",
       "    </tr>\n",
       "  </thead>\n",
       "  <tbody>\n",
       "    <tr>\n",
       "      <th>1e-03</th>\n",
       "      <td>20</td>\n",
       "    </tr>\n",
       "    <tr>\n",
       "      <th>1e-04</th>\n",
       "      <td>29</td>\n",
       "    </tr>\n",
       "    <tr>\n",
       "      <th>1e-05</th>\n",
       "      <td>39</td>\n",
       "    </tr>\n",
       "  </tbody>\n",
       "</table>\n",
       "</div>"
      ],
      "text/plain": [
       "       Количество итераций\n",
       "1e-03                   20\n",
       "1e-04                   29\n",
       "1e-05                   39"
      ]
     },
     "execution_count": 14,
     "metadata": {},
     "output_type": "execute_result"
    }
   ],
   "source": [
    "pd.DataFrame(dict_conv_sa)"
   ]
  },
  {
   "cell_type": "markdown",
   "metadata": {},
   "source": [
    "### Двухуровневый аддитивный метод Шварца:"
   ]
  },
  {
   "cell_type": "code",
   "execution_count": 15,
   "metadata": {},
   "outputs": [
    {
     "name": "stdout",
     "output_type": "stream",
     "text": [
      "9.210e-06\r"
     ]
    }
   ],
   "source": [
    "dict_iters_tsa, dict_sigma_tsa = calculate_iters(cur_task, schwarz_two_level_additive, list_mesh, list_subds)"
   ]
  },
  {
   "cell_type": "markdown",
   "metadata": {},
   "source": [
    "Таблица количества итераций:"
   ]
  },
  {
   "cell_type": "code",
   "execution_count": 16,
   "metadata": {},
   "outputs": [
    {
     "data": {
      "text/html": [
       "<div>\n",
       "<style scoped>\n",
       "    .dataframe tbody tr th:only-of-type {\n",
       "        vertical-align: middle;\n",
       "    }\n",
       "\n",
       "    .dataframe tbody tr th {\n",
       "        vertical-align: top;\n",
       "    }\n",
       "\n",
       "    .dataframe thead th {\n",
       "        text-align: right;\n",
       "    }\n",
       "</style>\n",
       "<table border=\"1\" class=\"dataframe\">\n",
       "  <thead>\n",
       "    <tr style=\"text-align: right;\">\n",
       "      <th></th>\n",
       "      <th>400 точек</th>\n",
       "      <th>625 точек</th>\n",
       "      <th>900 точек</th>\n",
       "    </tr>\n",
       "  </thead>\n",
       "  <tbody>\n",
       "    <tr>\n",
       "      <th>2 области</th>\n",
       "      <td>13</td>\n",
       "      <td>13</td>\n",
       "      <td>13</td>\n",
       "    </tr>\n",
       "    <tr>\n",
       "      <th>4 области</th>\n",
       "      <td>15</td>\n",
       "      <td>14</td>\n",
       "      <td>15</td>\n",
       "    </tr>\n",
       "    <tr>\n",
       "      <th>8 областей</th>\n",
       "      <td>27</td>\n",
       "      <td>23</td>\n",
       "      <td>26</td>\n",
       "    </tr>\n",
       "  </tbody>\n",
       "</table>\n",
       "</div>"
      ],
      "text/plain": [
       "            400 точек  625 точек  900 точек\n",
       "2 области          13         13         13\n",
       "4 области          15         14         15\n",
       "8 областей         27         23         26"
      ]
     },
     "execution_count": 16,
     "metadata": {},
     "output_type": "execute_result"
    }
   ],
   "source": [
    "pd.DataFrame.from_dict(dict_iters_tsa)"
   ]
  },
  {
   "cell_type": "markdown",
   "metadata": {},
   "source": [
    "Таблица разницы для осевого напряжения:"
   ]
  },
  {
   "cell_type": "code",
   "execution_count": 17,
   "metadata": {},
   "outputs": [
    {
     "data": {
      "text/html": [
       "<div>\n",
       "<style scoped>\n",
       "    .dataframe tbody tr th:only-of-type {\n",
       "        vertical-align: middle;\n",
       "    }\n",
       "\n",
       "    .dataframe tbody tr th {\n",
       "        vertical-align: top;\n",
       "    }\n",
       "\n",
       "    .dataframe thead th {\n",
       "        text-align: right;\n",
       "    }\n",
       "</style>\n",
       "<table border=\"1\" class=\"dataframe\">\n",
       "  <thead>\n",
       "    <tr style=\"text-align: right;\">\n",
       "      <th></th>\n",
       "      <th>400 точек</th>\n",
       "      <th>625 точек</th>\n",
       "      <th>900 точек</th>\n",
       "    </tr>\n",
       "  </thead>\n",
       "  <tbody>\n",
       "    <tr>\n",
       "      <th>2 области</th>\n",
       "      <td>min = 2.22e-05, max = 2.57e-05</td>\n",
       "      <td>min = 2.78e-05, max = 3.42e-05</td>\n",
       "      <td>min = 2.35e-05, max = 1.93e-05</td>\n",
       "    </tr>\n",
       "    <tr>\n",
       "      <th>4 области</th>\n",
       "      <td>min = 3.41e-05, max = 3.78e-05</td>\n",
       "      <td>min = 5.48e-05, max = 1.10e-04</td>\n",
       "      <td>min = 6.07e-05, max = 8.04e-05</td>\n",
       "    </tr>\n",
       "    <tr>\n",
       "      <th>8 областей</th>\n",
       "      <td>min = 4.33e-04, max = 4.38e-04</td>\n",
       "      <td>min = 5.25e-05, max = 6.61e-05</td>\n",
       "      <td>min = 2.23e-04, max = 4.39e-04</td>\n",
       "    </tr>\n",
       "  </tbody>\n",
       "</table>\n",
       "</div>"
      ],
      "text/plain": [
       "                                 400 точек                       625 точек  \\\n",
       "2 области   min = 2.22e-05, max = 2.57e-05  min = 2.78e-05, max = 3.42e-05   \n",
       "4 области   min = 3.41e-05, max = 3.78e-05  min = 5.48e-05, max = 1.10e-04   \n",
       "8 областей  min = 4.33e-04, max = 4.38e-04  min = 5.25e-05, max = 6.61e-05   \n",
       "\n",
       "                                 900 точек  \n",
       "2 области   min = 2.35e-05, max = 1.93e-05  \n",
       "4 области   min = 6.07e-05, max = 8.04e-05  \n",
       "8 областей  min = 2.23e-04, max = 4.39e-04  "
      ]
     },
     "execution_count": 17,
     "metadata": {},
     "output_type": "execute_result"
    }
   ],
   "source": [
    "pd.DataFrame.from_dict(dict_sigma_tsa)"
   ]
  },
  {
   "cell_type": "markdown",
   "metadata": {},
   "source": [
    "#### Дополнительные задачи:"
   ]
  },
  {
   "cell_type": "code",
   "execution_count": 18,
   "metadata": {},
   "outputs": [
    {
     "name": "stdout",
     "output_type": "stream",
     "text": [
      "9.502e-06\r"
     ]
    }
   ],
   "source": [
    "dict_conv_tsa = calculate_conv(cur_task, schwarz_two_level_additive, test_mesh, test_subds, list_coef)"
   ]
  },
  {
   "cell_type": "markdown",
   "metadata": {},
   "source": [
    "Таблица зависимости количества итераций от критерия сходимости (625 точек, 4 подобласти):"
   ]
  },
  {
   "cell_type": "code",
   "execution_count": 19,
   "metadata": {},
   "outputs": [
    {
     "data": {
      "text/html": [
       "<div>\n",
       "<style scoped>\n",
       "    .dataframe tbody tr th:only-of-type {\n",
       "        vertical-align: middle;\n",
       "    }\n",
       "\n",
       "    .dataframe tbody tr th {\n",
       "        vertical-align: top;\n",
       "    }\n",
       "\n",
       "    .dataframe thead th {\n",
       "        text-align: right;\n",
       "    }\n",
       "</style>\n",
       "<table border=\"1\" class=\"dataframe\">\n",
       "  <thead>\n",
       "    <tr style=\"text-align: right;\">\n",
       "      <th></th>\n",
       "      <th>Количество итераций</th>\n",
       "    </tr>\n",
       "  </thead>\n",
       "  <tbody>\n",
       "    <tr>\n",
       "      <th>1e-03</th>\n",
       "      <td>7</td>\n",
       "    </tr>\n",
       "    <tr>\n",
       "      <th>1e-04</th>\n",
       "      <td>11</td>\n",
       "    </tr>\n",
       "    <tr>\n",
       "      <th>1e-05</th>\n",
       "      <td>14</td>\n",
       "    </tr>\n",
       "  </tbody>\n",
       "</table>\n",
       "</div>"
      ],
      "text/plain": [
       "       Количество итераций\n",
       "1e-03                    7\n",
       "1e-04                   11\n",
       "1e-05                   14"
      ]
     },
     "execution_count": 19,
     "metadata": {},
     "output_type": "execute_result"
    }
   ],
   "source": [
    "pd.DataFrame(dict_conv_tsa)"
   ]
  },
  {
   "cell_type": "code",
   "execution_count": null,
   "metadata": {},
   "outputs": [],
   "source": []
  }
 ],
 "metadata": {
  "kernelspec": {
   "display_name": "Python 3",
   "language": "python",
   "name": "python3"
  },
  "language_info": {
   "codemirror_mode": {
    "name": "ipython",
    "version": 3
   },
   "file_extension": ".py",
   "mimetype": "text/x-python",
   "name": "python",
   "nbconvert_exporter": "python",
   "pygments_lexer": "ipython3",
   "version": "3.8.3"
  },
  "toc": {
   "base_numbering": 1,
   "nav_menu": {
    "height": "487px",
    "width": "400px"
   },
   "number_sections": true,
   "sideBar": true,
   "skip_h1_title": false,
   "title_cell": "Table of Contents",
   "title_sidebar": "Contents",
   "toc_cell": false,
   "toc_position": {},
   "toc_section_display": true,
   "toc_window_display": false
  }
 },
 "nbformat": 4,
 "nbformat_minor": 4
}
