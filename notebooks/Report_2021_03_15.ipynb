{
 "cells": [
  {
   "cell_type": "markdown",
   "metadata": {},
   "source": [
    "# Отчёт_2021_02_24 (Задача №2)"
   ]
  },
  {
   "cell_type": "code",
   "execution_count": 1,
   "metadata": {},
   "outputs": [],
   "source": [
    "import pandas as pd"
   ]
  },
  {
   "cell_type": "markdown",
   "metadata": {},
   "source": [
    "### Предоставленные задачи:"
   ]
  },
  {
   "cell_type": "markdown",
   "metadata": {},
   "source": [
    "- закрепление с трёх сторон;\n",
    "- закрепление с двух сторон;\n",
    "<div>\n",
    "<img src=\"img/tasks_Rodin.jpg\" width=\"250\"/>\n",
    "</div>"
   ]
  },
  {
   "cell_type": "markdown",
   "metadata": {},
   "source": [
    "Три сетки: \n",
    "- h = 4e-4 (743 точек);\n",
    "- h = 2e-4 (2883 точек);\n",
    "- h = 1e-4 (11561 точек);\n",
    "\n",
    "Грубая сетка для двухуровневого аддитивного метода: h = 1.5e-3 (49 точек). Критерий сходимости $\\varepsilon = 10^{-5}$."
   ]
  },
  {
   "cell_type": "markdown",
   "metadata": {},
   "source": [
    "## Первая задача:"
   ]
  },
  {
   "cell_type": "markdown",
   "metadata": {},
   "source": [
    "### Мультипликативный метод Шварца:"
   ]
  },
  {
   "cell_type": "code",
   "execution_count": 2,
   "metadata": {},
   "outputs": [],
   "source": [
    "df_iters = pd.read_csv('..//results/area_01/task_01/iterations/multiplicative.csv')\n",
    "df_sigma = pd.read_csv('..//results/area_01/task_01/sigma/multiplicative.csv')\n",
    "df_time = pd.read_csv('..//results/area_01/task_01/time/multiplicative.csv')"
   ]
  },
  {
   "cell_type": "markdown",
   "metadata": {},
   "source": [
    "Таблица количества итераций:"
   ]
  },
  {
   "cell_type": "code",
   "execution_count": 3,
   "metadata": {},
   "outputs": [
    {
     "data": {
      "text/html": [
       "<style  type=\"text/css\" >\n",
       "</style><table id=\"T_90f864e1_8585_11eb_878f_50465d740ddc\" ><thead>    <tr>        <th class=\"blank level0\" ></th>        <th class=\"col_heading level0 col0\" >Unnamed: 0</th>        <th class=\"col_heading level0 col1\" >h=4.00e-04</th>        <th class=\"col_heading level0 col2\" >h=2.00e-04</th>        <th class=\"col_heading level0 col3\" >h=1.00e-04</th>    </tr></thead><tbody>\n",
       "                <tr>\n",
       "                        <th id=\"T_90f864e1_8585_11eb_878f_50465d740ddclevel0_row0\" class=\"row_heading level0 row0\" >0</th>\n",
       "                        <td id=\"T_90f864e1_8585_11eb_878f_50465d740ddcrow0_col0\" class=\"data row0 col0\" >2 области</td>\n",
       "                        <td id=\"T_90f864e1_8585_11eb_878f_50465d740ddcrow0_col1\" class=\"data row0 col1\" >11</td>\n",
       "                        <td id=\"T_90f864e1_8585_11eb_878f_50465d740ddcrow0_col2\" class=\"data row0 col2\" >11</td>\n",
       "                        <td id=\"T_90f864e1_8585_11eb_878f_50465d740ddcrow0_col3\" class=\"data row0 col3\" >11</td>\n",
       "            </tr>\n",
       "            <tr>\n",
       "                        <th id=\"T_90f864e1_8585_11eb_878f_50465d740ddclevel0_row1\" class=\"row_heading level0 row1\" >1</th>\n",
       "                        <td id=\"T_90f864e1_8585_11eb_878f_50465d740ddcrow1_col0\" class=\"data row1 col0\" >4 области</td>\n",
       "                        <td id=\"T_90f864e1_8585_11eb_878f_50465d740ddcrow1_col1\" class=\"data row1 col1\" >31</td>\n",
       "                        <td id=\"T_90f864e1_8585_11eb_878f_50465d740ddcrow1_col2\" class=\"data row1 col2\" >33</td>\n",
       "                        <td id=\"T_90f864e1_8585_11eb_878f_50465d740ddcrow1_col3\" class=\"data row1 col3\" >33</td>\n",
       "            </tr>\n",
       "            <tr>\n",
       "                        <th id=\"T_90f864e1_8585_11eb_878f_50465d740ddclevel0_row2\" class=\"row_heading level0 row2\" >2</th>\n",
       "                        <td id=\"T_90f864e1_8585_11eb_878f_50465d740ddcrow2_col0\" class=\"data row2 col0\" >8 областей</td>\n",
       "                        <td id=\"T_90f864e1_8585_11eb_878f_50465d740ddcrow2_col1\" class=\"data row2 col1\" >99</td>\n",
       "                        <td id=\"T_90f864e1_8585_11eb_878f_50465d740ddcrow2_col2\" class=\"data row2 col2\" >103</td>\n",
       "                        <td id=\"T_90f864e1_8585_11eb_878f_50465d740ddcrow2_col3\" class=\"data row2 col3\" >106</td>\n",
       "            </tr>\n",
       "    </tbody></table>"
      ],
      "text/plain": [
       "<pandas.io.formats.style.Styler at 0x1ec16884970>"
      ]
     },
     "execution_count": 3,
     "metadata": {},
     "output_type": "execute_result"
    }
   ],
   "source": [
    "df_iters.style"
   ]
  },
  {
   "cell_type": "markdown",
   "metadata": {},
   "source": [
    "Таблица разницы для осевого напряжения:"
   ]
  },
  {
   "cell_type": "code",
   "execution_count": 4,
   "metadata": {},
   "outputs": [
    {
     "data": {
      "text/html": [
       "<style  type=\"text/css\" >\n",
       "</style><table id=\"T_90fb4ad6_8585_11eb_afc9_50465d740ddc\" ><thead>    <tr>        <th class=\"blank level0\" ></th>        <th class=\"col_heading level0 col0\" >Unnamed: 0</th>        <th class=\"col_heading level0 col1\" >h=4.00e-04</th>        <th class=\"col_heading level0 col2\" >h=2.00e-04</th>        <th class=\"col_heading level0 col3\" >h=1.00e-04</th>    </tr></thead><tbody>\n",
       "                <tr>\n",
       "                        <th id=\"T_90fb4ad6_8585_11eb_afc9_50465d740ddclevel0_row0\" class=\"row_heading level0 row0\" >0</th>\n",
       "                        <td id=\"T_90fb4ad6_8585_11eb_afc9_50465d740ddcrow0_col0\" class=\"data row0 col0\" >2 области</td>\n",
       "                        <td id=\"T_90fb4ad6_8585_11eb_afc9_50465d740ddcrow0_col1\" class=\"data row0 col1\" >min = 9.51e-07, max = 4.43e-07</td>\n",
       "                        <td id=\"T_90fb4ad6_8585_11eb_afc9_50465d740ddcrow0_col2\" class=\"data row0 col2\" >min = 6.47e-07, max = 3.28e-07</td>\n",
       "                        <td id=\"T_90fb4ad6_8585_11eb_afc9_50465d740ddcrow0_col3\" class=\"data row0 col3\" >min = 8.30e-07, max = 4.23e-07</td>\n",
       "            </tr>\n",
       "            <tr>\n",
       "                        <th id=\"T_90fb4ad6_8585_11eb_afc9_50465d740ddclevel0_row1\" class=\"row_heading level0 row1\" >1</th>\n",
       "                        <td id=\"T_90fb4ad6_8585_11eb_afc9_50465d740ddcrow1_col0\" class=\"data row1 col0\" >4 области</td>\n",
       "                        <td id=\"T_90fb4ad6_8585_11eb_afc9_50465d740ddcrow1_col1\" class=\"data row1 col1\" >min = 4.79e-06, max = 2.38e-06</td>\n",
       "                        <td id=\"T_90fb4ad6_8585_11eb_afc9_50465d740ddcrow1_col2\" class=\"data row1 col2\" >min = 2.98e-06, max = 1.61e-06</td>\n",
       "                        <td id=\"T_90fb4ad6_8585_11eb_afc9_50465d740ddcrow1_col3\" class=\"data row1 col3\" >min = 2.45e-06, max = 1.32e-06</td>\n",
       "            </tr>\n",
       "            <tr>\n",
       "                        <th id=\"T_90fb4ad6_8585_11eb_afc9_50465d740ddclevel0_row2\" class=\"row_heading level0 row2\" >2</th>\n",
       "                        <td id=\"T_90fb4ad6_8585_11eb_afc9_50465d740ddcrow2_col0\" class=\"data row2 col0\" >8 областей</td>\n",
       "                        <td id=\"T_90fb4ad6_8585_11eb_afc9_50465d740ddcrow2_col1\" class=\"data row2 col1\" >min = 1.71e-05, max = 9.66e-06</td>\n",
       "                        <td id=\"T_90fb4ad6_8585_11eb_afc9_50465d740ddcrow2_col2\" class=\"data row2 col2\" >min = 9.73e-06, max = 3.99e-06</td>\n",
       "                        <td id=\"T_90fb4ad6_8585_11eb_afc9_50465d740ddcrow2_col3\" class=\"data row2 col3\" >min = 5.88e-06, max = 2.58e-06</td>\n",
       "            </tr>\n",
       "    </tbody></table>"
      ],
      "text/plain": [
       "<pandas.io.formats.style.Styler at 0x1ec198cd880>"
      ]
     },
     "execution_count": 4,
     "metadata": {},
     "output_type": "execute_result"
    }
   ],
   "source": [
    "df_sigma.style"
   ]
  },
  {
   "cell_type": "markdown",
   "metadata": {},
   "source": [
    "Временные затраты:"
   ]
  },
  {
   "cell_type": "code",
   "execution_count": 5,
   "metadata": {},
   "outputs": [
    {
     "data": {
      "text/html": [
       "<style  type=\"text/css\" >\n",
       "</style><table id=\"T_90fd9492_8585_11eb_9c35_50465d740ddc\" ><thead>    <tr>        <th class=\"blank level0\" ></th>        <th class=\"col_heading level0 col0\" >Unnamed: 0</th>        <th class=\"col_heading level0 col1\" >h=4.00e-04</th>        <th class=\"col_heading level0 col2\" >h=2.00e-04</th>        <th class=\"col_heading level0 col3\" >h=1.00e-04</th>    </tr></thead><tbody>\n",
       "                <tr>\n",
       "                        <th id=\"T_90fd9492_8585_11eb_9c35_50465d740ddclevel0_row0\" class=\"row_heading level0 row0\" >0</th>\n",
       "                        <td id=\"T_90fd9492_8585_11eb_9c35_50465d740ddcrow0_col0\" class=\"data row0 col0\" >2 области</td>\n",
       "                        <td id=\"T_90fd9492_8585_11eb_9c35_50465d740ddcrow0_col1\" class=\"data row0 col1\" >2.000000</td>\n",
       "                        <td id=\"T_90fd9492_8585_11eb_9c35_50465d740ddcrow0_col2\" class=\"data row0 col2\" >7.920000</td>\n",
       "                        <td id=\"T_90fd9492_8585_11eb_9c35_50465d740ddcrow0_col3\" class=\"data row0 col3\" >30.830000</td>\n",
       "            </tr>\n",
       "            <tr>\n",
       "                        <th id=\"T_90fd9492_8585_11eb_9c35_50465d740ddclevel0_row1\" class=\"row_heading level0 row1\" >1</th>\n",
       "                        <td id=\"T_90fd9492_8585_11eb_9c35_50465d740ddcrow1_col0\" class=\"data row1 col0\" >4 области</td>\n",
       "                        <td id=\"T_90fd9492_8585_11eb_9c35_50465d740ddcrow1_col1\" class=\"data row1 col1\" >4.770000</td>\n",
       "                        <td id=\"T_90fd9492_8585_11eb_9c35_50465d740ddcrow1_col2\" class=\"data row1 col2\" >18.550000</td>\n",
       "                        <td id=\"T_90fd9492_8585_11eb_9c35_50465d740ddcrow1_col3\" class=\"data row1 col3\" >65.220000</td>\n",
       "            </tr>\n",
       "            <tr>\n",
       "                        <th id=\"T_90fd9492_8585_11eb_9c35_50465d740ddclevel0_row2\" class=\"row_heading level0 row2\" >2</th>\n",
       "                        <td id=\"T_90fd9492_8585_11eb_9c35_50465d740ddcrow2_col0\" class=\"data row2 col0\" >8 областей</td>\n",
       "                        <td id=\"T_90fd9492_8585_11eb_9c35_50465d740ddcrow2_col1\" class=\"data row2 col1\" >22.160000</td>\n",
       "                        <td id=\"T_90fd9492_8585_11eb_9c35_50465d740ddcrow2_col2\" class=\"data row2 col2\" >60.590000</td>\n",
       "                        <td id=\"T_90fd9492_8585_11eb_9c35_50465d740ddcrow2_col3\" class=\"data row2 col3\" >205.730000</td>\n",
       "            </tr>\n",
       "    </tbody></table>"
      ],
      "text/plain": [
       "<pandas.io.formats.style.Styler at 0x1ec198cd370>"
      ]
     },
     "execution_count": 5,
     "metadata": {},
     "output_type": "execute_result"
    }
   ],
   "source": [
    "df_time.style"
   ]
  },
  {
   "cell_type": "markdown",
   "metadata": {},
   "source": [
    "### Аддитивный метод Шварца:"
   ]
  },
  {
   "cell_type": "code",
   "execution_count": 6,
   "metadata": {},
   "outputs": [],
   "source": [
    "df_iters = pd.read_csv('..//results/area_01/task_01/iterations/additive.csv')\n",
    "df_sigma = pd.read_csv('..//results/area_01/task_01/sigma/additive.csv')\n",
    "df_time = pd.read_csv('..//results/area_01/task_01/time/additive.csv')"
   ]
  },
  {
   "cell_type": "markdown",
   "metadata": {},
   "source": [
    "Таблица количества итераций:"
   ]
  },
  {
   "cell_type": "code",
   "execution_count": 7,
   "metadata": {},
   "outputs": [
    {
     "data": {
      "text/html": [
       "<style  type=\"text/css\" >\n",
       "</style><table id=\"T_9104e72d_8585_11eb_88c8_50465d740ddc\" ><thead>    <tr>        <th class=\"blank level0\" ></th>        <th class=\"col_heading level0 col0\" >Unnamed: 0</th>        <th class=\"col_heading level0 col1\" >h=4.00e-04</th>        <th class=\"col_heading level0 col2\" >h=2.00e-04</th>        <th class=\"col_heading level0 col3\" >h=1.00e-04</th>    </tr></thead><tbody>\n",
       "                <tr>\n",
       "                        <th id=\"T_9104e72d_8585_11eb_88c8_50465d740ddclevel0_row0\" class=\"row_heading level0 row0\" >0</th>\n",
       "                        <td id=\"T_9104e72d_8585_11eb_88c8_50465d740ddcrow0_col0\" class=\"data row0 col0\" >2 области</td>\n",
       "                        <td id=\"T_9104e72d_8585_11eb_88c8_50465d740ddcrow0_col1\" class=\"data row0 col1\" >21</td>\n",
       "                        <td id=\"T_9104e72d_8585_11eb_88c8_50465d740ddcrow0_col2\" class=\"data row0 col2\" >20</td>\n",
       "                        <td id=\"T_9104e72d_8585_11eb_88c8_50465d740ddcrow0_col3\" class=\"data row0 col3\" >20</td>\n",
       "            </tr>\n",
       "            <tr>\n",
       "                        <th id=\"T_9104e72d_8585_11eb_88c8_50465d740ddclevel0_row1\" class=\"row_heading level0 row1\" >1</th>\n",
       "                        <td id=\"T_9104e72d_8585_11eb_88c8_50465d740ddcrow1_col0\" class=\"data row1 col0\" >4 области</td>\n",
       "                        <td id=\"T_9104e72d_8585_11eb_88c8_50465d740ddcrow1_col1\" class=\"data row1 col1\" >43</td>\n",
       "                        <td id=\"T_9104e72d_8585_11eb_88c8_50465d740ddcrow1_col2\" class=\"data row1 col2\" >42</td>\n",
       "                        <td id=\"T_9104e72d_8585_11eb_88c8_50465d740ddcrow1_col3\" class=\"data row1 col3\" >41</td>\n",
       "            </tr>\n",
       "            <tr>\n",
       "                        <th id=\"T_9104e72d_8585_11eb_88c8_50465d740ddclevel0_row2\" class=\"row_heading level0 row2\" >2</th>\n",
       "                        <td id=\"T_9104e72d_8585_11eb_88c8_50465d740ddcrow2_col0\" class=\"data row2 col0\" >8 областей</td>\n",
       "                        <td id=\"T_9104e72d_8585_11eb_88c8_50465d740ddcrow2_col1\" class=\"data row2 col1\" >155</td>\n",
       "                        <td id=\"T_9104e72d_8585_11eb_88c8_50465d740ddcrow2_col2\" class=\"data row2 col2\" >130</td>\n",
       "                        <td id=\"T_9104e72d_8585_11eb_88c8_50465d740ddcrow2_col3\" class=\"data row2 col3\" >119</td>\n",
       "            </tr>\n",
       "    </tbody></table>"
      ],
      "text/plain": [
       "<pandas.io.formats.style.Styler at 0x1ec198aa190>"
      ]
     },
     "execution_count": 7,
     "metadata": {},
     "output_type": "execute_result"
    }
   ],
   "source": [
    "df_iters.style"
   ]
  },
  {
   "cell_type": "markdown",
   "metadata": {},
   "source": [
    "Таблица разницы для осевого напряжения:"
   ]
  },
  {
   "cell_type": "code",
   "execution_count": 8,
   "metadata": {},
   "outputs": [
    {
     "data": {
      "text/html": [
       "<style  type=\"text/css\" >\n",
       "</style><table id=\"T_91077f05_8585_11eb_a9f3_50465d740ddc\" ><thead>    <tr>        <th class=\"blank level0\" ></th>        <th class=\"col_heading level0 col0\" >Unnamed: 0</th>        <th class=\"col_heading level0 col1\" >h=4.00e-04</th>        <th class=\"col_heading level0 col2\" >h=2.00e-04</th>        <th class=\"col_heading level0 col3\" >h=1.00e-04</th>    </tr></thead><tbody>\n",
       "                <tr>\n",
       "                        <th id=\"T_91077f05_8585_11eb_a9f3_50465d740ddclevel0_row0\" class=\"row_heading level0 row0\" >0</th>\n",
       "                        <td id=\"T_91077f05_8585_11eb_a9f3_50465d740ddcrow0_col0\" class=\"data row0 col0\" >2 области</td>\n",
       "                        <td id=\"T_91077f05_8585_11eb_a9f3_50465d740ddcrow0_col1\" class=\"data row0 col1\" >min = 1.23e-05, max = 1.84e-05</td>\n",
       "                        <td id=\"T_91077f05_8585_11eb_a9f3_50465d740ddcrow0_col2\" class=\"data row0 col2\" >min = 1.44e-05, max = 2.03e-05</td>\n",
       "                        <td id=\"T_91077f05_8585_11eb_a9f3_50465d740ddcrow0_col3\" class=\"data row0 col3\" >min = 1.47e-05, max = 2.10e-05</td>\n",
       "            </tr>\n",
       "            <tr>\n",
       "                        <th id=\"T_91077f05_8585_11eb_a9f3_50465d740ddclevel0_row1\" class=\"row_heading level0 row1\" >1</th>\n",
       "                        <td id=\"T_91077f05_8585_11eb_a9f3_50465d740ddcrow1_col0\" class=\"data row1 col0\" >4 области</td>\n",
       "                        <td id=\"T_91077f05_8585_11eb_a9f3_50465d740ddcrow1_col1\" class=\"data row1 col1\" >min = 1.29e-05, max = 3.07e-05</td>\n",
       "                        <td id=\"T_91077f05_8585_11eb_a9f3_50465d740ddcrow1_col2\" class=\"data row1 col2\" >min = 1.08e-05, max = 1.91e-05</td>\n",
       "                        <td id=\"T_91077f05_8585_11eb_a9f3_50465d740ddcrow1_col3\" class=\"data row1 col3\" >min = 8.66e-06, max = 1.39e-05</td>\n",
       "            </tr>\n",
       "            <tr>\n",
       "                        <th id=\"T_91077f05_8585_11eb_a9f3_50465d740ddclevel0_row2\" class=\"row_heading level0 row2\" >2</th>\n",
       "                        <td id=\"T_91077f05_8585_11eb_a9f3_50465d740ddcrow2_col0\" class=\"data row2 col0\" >8 областей</td>\n",
       "                        <td id=\"T_91077f05_8585_11eb_a9f3_50465d740ddcrow2_col1\" class=\"data row2 col1\" >min = 3.39e-05, max = 2.05e-04</td>\n",
       "                        <td id=\"T_91077f05_8585_11eb_a9f3_50465d740ddcrow2_col2\" class=\"data row2 col2\" >min = 2.33e-05, max = 8.79e-05</td>\n",
       "                        <td id=\"T_91077f05_8585_11eb_a9f3_50465d740ddcrow2_col3\" class=\"data row2 col3\" >min = 1.42e-05, max = 3.97e-05</td>\n",
       "            </tr>\n",
       "    </tbody></table>"
      ],
      "text/plain": [
       "<pandas.io.formats.style.Styler at 0x1ec198aacd0>"
      ]
     },
     "execution_count": 8,
     "metadata": {},
     "output_type": "execute_result"
    }
   ],
   "source": [
    "df_sigma.style"
   ]
  },
  {
   "cell_type": "markdown",
   "metadata": {},
   "source": [
    "Временные затраты:"
   ]
  },
  {
   "cell_type": "code",
   "execution_count": 9,
   "metadata": {},
   "outputs": [
    {
     "data": {
      "text/html": [
       "<style  type=\"text/css\" >\n",
       "</style><table id=\"T_9109efc3_8585_11eb_affd_50465d740ddc\" ><thead>    <tr>        <th class=\"blank level0\" ></th>        <th class=\"col_heading level0 col0\" >Unnamed: 0</th>        <th class=\"col_heading level0 col1\" >h=4.00e-04</th>        <th class=\"col_heading level0 col2\" >h=2.00e-04</th>        <th class=\"col_heading level0 col3\" >h=1.00e-04</th>    </tr></thead><tbody>\n",
       "                <tr>\n",
       "                        <th id=\"T_9109efc3_8585_11eb_affd_50465d740ddclevel0_row0\" class=\"row_heading level0 row0\" >0</th>\n",
       "                        <td id=\"T_9109efc3_8585_11eb_affd_50465d740ddcrow0_col0\" class=\"data row0 col0\" >2 области</td>\n",
       "                        <td id=\"T_9109efc3_8585_11eb_affd_50465d740ddcrow0_col1\" class=\"data row0 col1\" >3.240000</td>\n",
       "                        <td id=\"T_9109efc3_8585_11eb_affd_50465d740ddcrow0_col2\" class=\"data row0 col2\" >11.000000</td>\n",
       "                        <td id=\"T_9109efc3_8585_11eb_affd_50465d740ddcrow0_col3\" class=\"data row0 col3\" >44.260000</td>\n",
       "            </tr>\n",
       "            <tr>\n",
       "                        <th id=\"T_9109efc3_8585_11eb_affd_50465d740ddclevel0_row1\" class=\"row_heading level0 row1\" >1</th>\n",
       "                        <td id=\"T_9109efc3_8585_11eb_affd_50465d740ddcrow1_col0\" class=\"data row1 col0\" >4 области</td>\n",
       "                        <td id=\"T_9109efc3_8585_11eb_affd_50465d740ddcrow1_col1\" class=\"data row1 col1\" >7.060000</td>\n",
       "                        <td id=\"T_9109efc3_8585_11eb_affd_50465d740ddcrow1_col2\" class=\"data row1 col2\" >22.730000</td>\n",
       "                        <td id=\"T_9109efc3_8585_11eb_affd_50465d740ddcrow1_col3\" class=\"data row1 col3\" >77.160000</td>\n",
       "            </tr>\n",
       "            <tr>\n",
       "                        <th id=\"T_9109efc3_8585_11eb_affd_50465d740ddclevel0_row2\" class=\"row_heading level0 row2\" >2</th>\n",
       "                        <td id=\"T_9109efc3_8585_11eb_affd_50465d740ddcrow2_col0\" class=\"data row2 col0\" >8 областей</td>\n",
       "                        <td id=\"T_9109efc3_8585_11eb_affd_50465d740ddcrow2_col1\" class=\"data row2 col1\" >32.690000</td>\n",
       "                        <td id=\"T_9109efc3_8585_11eb_affd_50465d740ddcrow2_col2\" class=\"data row2 col2\" >76.430000</td>\n",
       "                        <td id=\"T_9109efc3_8585_11eb_affd_50465d740ddcrow2_col3\" class=\"data row2 col3\" >232.380000</td>\n",
       "            </tr>\n",
       "    </tbody></table>"
      ],
      "text/plain": [
       "<pandas.io.formats.style.Styler at 0x1ec198aaee0>"
      ]
     },
     "execution_count": 9,
     "metadata": {},
     "output_type": "execute_result"
    }
   ],
   "source": [
    "df_time.style"
   ]
  },
  {
   "cell_type": "markdown",
   "metadata": {},
   "source": [
    "### Двухуровневый аддитивный метод Шварца:"
   ]
  },
  {
   "cell_type": "code",
   "execution_count": 10,
   "metadata": {},
   "outputs": [],
   "source": [
    "df_iters = pd.read_csv('..//results/area_01/task_01/iterations/two_level_additive.csv')\n",
    "df_sigma = pd.read_csv('..//results/area_01/task_01/sigma/two_level_additive.csv')\n",
    "df_time = pd.read_csv('..//results/area_01/task_01/time/two_level_additive.csv')"
   ]
  },
  {
   "cell_type": "markdown",
   "metadata": {},
   "source": [
    "Таблица количества итераций:"
   ]
  },
  {
   "cell_type": "code",
   "execution_count": 11,
   "metadata": {},
   "outputs": [
    {
     "data": {
      "text/html": [
       "<style  type=\"text/css\" >\n",
       "</style><table id=\"T_9110e924_8585_11eb_9bd2_50465d740ddc\" ><thead>    <tr>        <th class=\"blank level0\" ></th>        <th class=\"col_heading level0 col0\" >h=4.00e-04</th>        <th class=\"col_heading level0 col1\" >h=2.00e-04</th>        <th class=\"col_heading level0 col2\" >h=1.00e-04</th>    </tr></thead><tbody>\n",
       "                <tr>\n",
       "                        <th id=\"T_9110e924_8585_11eb_9bd2_50465d740ddclevel0_row0\" class=\"row_heading level0 row0\" >0</th>\n",
       "                        <td id=\"T_9110e924_8585_11eb_9bd2_50465d740ddcrow0_col0\" class=\"data row0 col0\" >13</td>\n",
       "                        <td id=\"T_9110e924_8585_11eb_9bd2_50465d740ddcrow0_col1\" class=\"data row0 col1\" >13</td>\n",
       "                        <td id=\"T_9110e924_8585_11eb_9bd2_50465d740ddcrow0_col2\" class=\"data row0 col2\" >14</td>\n",
       "            </tr>\n",
       "            <tr>\n",
       "                        <th id=\"T_9110e924_8585_11eb_9bd2_50465d740ddclevel0_row1\" class=\"row_heading level0 row1\" >1</th>\n",
       "                        <td id=\"T_9110e924_8585_11eb_9bd2_50465d740ddcrow1_col0\" class=\"data row1 col0\" >15</td>\n",
       "                        <td id=\"T_9110e924_8585_11eb_9bd2_50465d740ddcrow1_col1\" class=\"data row1 col1\" >15</td>\n",
       "                        <td id=\"T_9110e924_8585_11eb_9bd2_50465d740ddcrow1_col2\" class=\"data row1 col2\" >15</td>\n",
       "            </tr>\n",
       "            <tr>\n",
       "                        <th id=\"T_9110e924_8585_11eb_9bd2_50465d740ddclevel0_row2\" class=\"row_heading level0 row2\" >2</th>\n",
       "                        <td id=\"T_9110e924_8585_11eb_9bd2_50465d740ddcrow2_col0\" class=\"data row2 col0\" >24</td>\n",
       "                        <td id=\"T_9110e924_8585_11eb_9bd2_50465d740ddcrow2_col1\" class=\"data row2 col1\" >24</td>\n",
       "                        <td id=\"T_9110e924_8585_11eb_9bd2_50465d740ddcrow2_col2\" class=\"data row2 col2\" >25</td>\n",
       "            </tr>\n",
       "    </tbody></table>"
      ],
      "text/plain": [
       "<pandas.io.formats.style.Styler at 0x1ec19894490>"
      ]
     },
     "execution_count": 11,
     "metadata": {},
     "output_type": "execute_result"
    }
   ],
   "source": [
    "df_iters.style"
   ]
  },
  {
   "cell_type": "markdown",
   "metadata": {},
   "source": [
    "Таблица разницы для осевого напряжения:"
   ]
  },
  {
   "cell_type": "code",
   "execution_count": 12,
   "metadata": {},
   "outputs": [
    {
     "data": {
      "text/html": [
       "<style  type=\"text/css\" >\n",
       "</style><table id=\"T_911380fd_8585_11eb_95a6_50465d740ddc\" ><thead>    <tr>        <th class=\"blank level0\" ></th>        <th class=\"col_heading level0 col0\" >h=4.00e-04</th>        <th class=\"col_heading level0 col1\" >h=2.00e-04</th>        <th class=\"col_heading level0 col2\" >h=1.00e-04</th>    </tr></thead><tbody>\n",
       "                <tr>\n",
       "                        <th id=\"T_911380fd_8585_11eb_95a6_50465d740ddclevel0_row0\" class=\"row_heading level0 row0\" >0</th>\n",
       "                        <td id=\"T_911380fd_8585_11eb_95a6_50465d740ddcrow0_col0\" class=\"data row0 col0\" >min = 3.54e-05, max = 3.45e-05</td>\n",
       "                        <td id=\"T_911380fd_8585_11eb_95a6_50465d740ddcrow0_col1\" class=\"data row0 col1\" >min = 6.13e-05, max = 5.39e-05</td>\n",
       "                        <td id=\"T_911380fd_8585_11eb_95a6_50465d740ddcrow0_col2\" class=\"data row0 col2\" >min = 1.46e-05, max = 3.45e-05</td>\n",
       "            </tr>\n",
       "            <tr>\n",
       "                        <th id=\"T_911380fd_8585_11eb_95a6_50465d740ddclevel0_row1\" class=\"row_heading level0 row1\" >1</th>\n",
       "                        <td id=\"T_911380fd_8585_11eb_95a6_50465d740ddcrow1_col0\" class=\"data row1 col0\" >min = 9.86e-05, max = 7.34e-05</td>\n",
       "                        <td id=\"T_911380fd_8585_11eb_95a6_50465d740ddcrow1_col1\" class=\"data row1 col1\" >min = 6.14e-05, max = 5.65e-05</td>\n",
       "                        <td id=\"T_911380fd_8585_11eb_95a6_50465d740ddcrow1_col2\" class=\"data row1 col2\" >min = 6.95e-05, max = 8.11e-05</td>\n",
       "            </tr>\n",
       "            <tr>\n",
       "                        <th id=\"T_911380fd_8585_11eb_95a6_50465d740ddclevel0_row2\" class=\"row_heading level0 row2\" >2</th>\n",
       "                        <td id=\"T_911380fd_8585_11eb_95a6_50465d740ddcrow2_col0\" class=\"data row2 col0\" >min = 1.81e-04, max = 1.44e-04</td>\n",
       "                        <td id=\"T_911380fd_8585_11eb_95a6_50465d740ddcrow2_col1\" class=\"data row2 col1\" >min = 5.72e-05, max = 6.56e-05</td>\n",
       "                        <td id=\"T_911380fd_8585_11eb_95a6_50465d740ddcrow2_col2\" class=\"data row2 col2\" >min = 3.30e-05, max = 3.03e-05</td>\n",
       "            </tr>\n",
       "    </tbody></table>"
      ],
      "text/plain": [
       "<pandas.io.formats.style.Styler at 0x1ec198aaeb0>"
      ]
     },
     "execution_count": 12,
     "metadata": {},
     "output_type": "execute_result"
    }
   ],
   "source": [
    "df_sigma.style"
   ]
  },
  {
   "cell_type": "markdown",
   "metadata": {},
   "source": [
    "Временные затраты:"
   ]
  },
  {
   "cell_type": "code",
   "execution_count": 13,
   "metadata": {},
   "outputs": [
    {
     "data": {
      "text/html": [
       "<style  type=\"text/css\" >\n",
       "</style><table id=\"T_9115a3a9_8585_11eb_9fdf_50465d740ddc\" ><thead>    <tr>        <th class=\"blank level0\" ></th>        <th class=\"col_heading level0 col0\" >h=4.00e-04</th>        <th class=\"col_heading level0 col1\" >h=2.00e-04</th>        <th class=\"col_heading level0 col2\" >h=1.00e-04</th>    </tr></thead><tbody>\n",
       "                <tr>\n",
       "                        <th id=\"T_9115a3a9_8585_11eb_9fdf_50465d740ddclevel0_row0\" class=\"row_heading level0 row0\" >0</th>\n",
       "                        <td id=\"T_9115a3a9_8585_11eb_9fdf_50465d740ddcrow0_col0\" class=\"data row0 col0\" >6.750000</td>\n",
       "                        <td id=\"T_9115a3a9_8585_11eb_9fdf_50465d740ddcrow0_col1\" class=\"data row0 col1\" >25.600000</td>\n",
       "                        <td id=\"T_9115a3a9_8585_11eb_9fdf_50465d740ddcrow0_col2\" class=\"data row0 col2\" >96.340000</td>\n",
       "            </tr>\n",
       "            <tr>\n",
       "                        <th id=\"T_9115a3a9_8585_11eb_9fdf_50465d740ddclevel0_row1\" class=\"row_heading level0 row1\" >1</th>\n",
       "                        <td id=\"T_9115a3a9_8585_11eb_9fdf_50465d740ddcrow1_col0\" class=\"data row1 col0\" >8.230000</td>\n",
       "                        <td id=\"T_9115a3a9_8585_11eb_9fdf_50465d740ddcrow1_col1\" class=\"data row1 col1\" >29.850000</td>\n",
       "                        <td id=\"T_9115a3a9_8585_11eb_9fdf_50465d740ddcrow1_col2\" class=\"data row1 col2\" >104.810000</td>\n",
       "            </tr>\n",
       "            <tr>\n",
       "                        <th id=\"T_9115a3a9_8585_11eb_9fdf_50465d740ddclevel0_row2\" class=\"row_heading level0 row2\" >2</th>\n",
       "                        <td id=\"T_9115a3a9_8585_11eb_9fdf_50465d740ddcrow2_col0\" class=\"data row2 col0\" >14.230000</td>\n",
       "                        <td id=\"T_9115a3a9_8585_11eb_9fdf_50465d740ddcrow2_col1\" class=\"data row2 col1\" >48.520000</td>\n",
       "                        <td id=\"T_9115a3a9_8585_11eb_9fdf_50465d740ddcrow2_col2\" class=\"data row2 col2\" >189.010000</td>\n",
       "            </tr>\n",
       "    </tbody></table>"
      ],
      "text/plain": [
       "<pandas.io.formats.style.Styler at 0x1ec198ae6a0>"
      ]
     },
     "execution_count": 13,
     "metadata": {},
     "output_type": "execute_result"
    }
   ],
   "source": [
    "df_time.style"
   ]
  },
  {
   "cell_type": "markdown",
   "metadata": {},
   "source": [
    "## Вторая задача:"
   ]
  },
  {
   "cell_type": "markdown",
   "metadata": {},
   "source": [
    "### Мультипликативный метод Шварца:"
   ]
  },
  {
   "cell_type": "code",
   "execution_count": 14,
   "metadata": {},
   "outputs": [],
   "source": [
    "df_iters = pd.read_csv('..//results/area_01/task_02/iterations/multiplicative.csv')\n",
    "df_sigma = pd.read_csv('..//results/area_01/task_02/sigma/multiplicative.csv')\n",
    "df_time = pd.read_csv('..//results/area_01/task_02/time/multiplicative.csv')"
   ]
  },
  {
   "cell_type": "markdown",
   "metadata": {},
   "source": [
    "Таблица количества итераций:"
   ]
  },
  {
   "cell_type": "code",
   "execution_count": 15,
   "metadata": {},
   "outputs": [
    {
     "data": {
      "text/html": [
       "<style  type=\"text/css\" >\n",
       "</style><table id=\"T_911ccf2d_8585_11eb_a551_50465d740ddc\" ><thead>    <tr>        <th class=\"blank level0\" ></th>        <th class=\"col_heading level0 col0\" >h=4.00e-04</th>        <th class=\"col_heading level0 col1\" >h=2.00e-04</th>        <th class=\"col_heading level0 col2\" >h=1.00e-04</th>    </tr></thead><tbody>\n",
       "                <tr>\n",
       "                        <th id=\"T_911ccf2d_8585_11eb_a551_50465d740ddclevel0_row0\" class=\"row_heading level0 row0\" >0</th>\n",
       "                        <td id=\"T_911ccf2d_8585_11eb_a551_50465d740ddcrow0_col0\" class=\"data row0 col0\" >20</td>\n",
       "                        <td id=\"T_911ccf2d_8585_11eb_a551_50465d740ddcrow0_col1\" class=\"data row0 col1\" >20</td>\n",
       "                        <td id=\"T_911ccf2d_8585_11eb_a551_50465d740ddcrow0_col2\" class=\"data row0 col2\" >20</td>\n",
       "            </tr>\n",
       "            <tr>\n",
       "                        <th id=\"T_911ccf2d_8585_11eb_a551_50465d740ddclevel0_row1\" class=\"row_heading level0 row1\" >1</th>\n",
       "                        <td id=\"T_911ccf2d_8585_11eb_a551_50465d740ddcrow1_col0\" class=\"data row1 col0\" >86</td>\n",
       "                        <td id=\"T_911ccf2d_8585_11eb_a551_50465d740ddcrow1_col1\" class=\"data row1 col1\" >89</td>\n",
       "                        <td id=\"T_911ccf2d_8585_11eb_a551_50465d740ddcrow1_col2\" class=\"data row1 col2\" >87</td>\n",
       "            </tr>\n",
       "            <tr>\n",
       "                        <th id=\"T_911ccf2d_8585_11eb_a551_50465d740ddclevel0_row2\" class=\"row_heading level0 row2\" >2</th>\n",
       "                        <td id=\"T_911ccf2d_8585_11eb_a551_50465d740ddcrow2_col0\" class=\"data row2 col0\" >341</td>\n",
       "                        <td id=\"T_911ccf2d_8585_11eb_a551_50465d740ddcrow2_col1\" class=\"data row2 col1\" >346</td>\n",
       "                        <td id=\"T_911ccf2d_8585_11eb_a551_50465d740ddcrow2_col2\" class=\"data row2 col2\" >340</td>\n",
       "            </tr>\n",
       "    </tbody></table>"
      ],
      "text/plain": [
       "<pandas.io.formats.style.Styler at 0x1ec19906670>"
      ]
     },
     "execution_count": 15,
     "metadata": {},
     "output_type": "execute_result"
    }
   ],
   "source": [
    "df_iters.style"
   ]
  },
  {
   "cell_type": "markdown",
   "metadata": {},
   "source": [
    "Таблица разницы для осевого напряжения:"
   ]
  },
  {
   "cell_type": "code",
   "execution_count": 16,
   "metadata": {},
   "outputs": [
    {
     "data": {
      "text/html": [
       "<style  type=\"text/css\" >\n",
       "</style><table id=\"T_911f3ff5_8585_11eb_98c6_50465d740ddc\" ><thead>    <tr>        <th class=\"blank level0\" ></th>        <th class=\"col_heading level0 col0\" >h=4.00e-04</th>        <th class=\"col_heading level0 col1\" >h=2.00e-04</th>        <th class=\"col_heading level0 col2\" >h=1.00e-04</th>    </tr></thead><tbody>\n",
       "                <tr>\n",
       "                        <th id=\"T_911f3ff5_8585_11eb_98c6_50465d740ddclevel0_row0\" class=\"row_heading level0 row0\" >0</th>\n",
       "                        <td id=\"T_911f3ff5_8585_11eb_98c6_50465d740ddcrow0_col0\" class=\"data row0 col0\" >min = 3.54e-06, max = 8.58e-06</td>\n",
       "                        <td id=\"T_911f3ff5_8585_11eb_98c6_50465d740ddcrow0_col1\" class=\"data row0 col1\" >min = 2.86e-06, max = 5.83e-06</td>\n",
       "                        <td id=\"T_911f3ff5_8585_11eb_98c6_50465d740ddcrow0_col2\" class=\"data row0 col2\" >min = 3.64e-06, max = 7.45e-06</td>\n",
       "            </tr>\n",
       "            <tr>\n",
       "                        <th id=\"T_911f3ff5_8585_11eb_98c6_50465d740ddclevel0_row1\" class=\"row_heading level0 row1\" >1</th>\n",
       "                        <td id=\"T_911f3ff5_8585_11eb_98c6_50465d740ddcrow1_col0\" class=\"data row1 col0\" >min = 1.31e-05, max = 2.27e-05</td>\n",
       "                        <td id=\"T_911f3ff5_8585_11eb_98c6_50465d740ddcrow1_col1\" class=\"data row1 col1\" >min = 1.17e-05, max = 2.31e-05</td>\n",
       "                        <td id=\"T_911f3ff5_8585_11eb_98c6_50465d740ddcrow1_col2\" class=\"data row1 col2\" >min = 1.08e-05, max = 2.28e-05</td>\n",
       "            </tr>\n",
       "            <tr>\n",
       "                        <th id=\"T_911f3ff5_8585_11eb_98c6_50465d740ddclevel0_row2\" class=\"row_heading level0 row2\" >2</th>\n",
       "                        <td id=\"T_911f3ff5_8585_11eb_98c6_50465d740ddcrow2_col0\" class=\"data row2 col0\" >min = 2.47e-05, max = 6.44e-05</td>\n",
       "                        <td id=\"T_911f3ff5_8585_11eb_98c6_50465d740ddcrow2_col1\" class=\"data row2 col1\" >min = 3.08e-05, max = 5.63e-05</td>\n",
       "                        <td id=\"T_911f3ff5_8585_11eb_98c6_50465d740ddcrow2_col2\" class=\"data row2 col2\" >min = 3.02e-05, max = 5.77e-05</td>\n",
       "            </tr>\n",
       "    </tbody></table>"
      ],
      "text/plain": [
       "<pandas.io.formats.style.Styler at 0x1ec19906d00>"
      ]
     },
     "execution_count": 16,
     "metadata": {},
     "output_type": "execute_result"
    }
   ],
   "source": [
    "df_sigma.style"
   ]
  },
  {
   "cell_type": "markdown",
   "metadata": {},
   "source": [
    "Временные затраты:"
   ]
  },
  {
   "cell_type": "code",
   "execution_count": 17,
   "metadata": {},
   "outputs": [
    {
     "data": {
      "text/html": [
       "<style  type=\"text/css\" >\n",
       "</style><table id=\"T_9121b0c7_8585_11eb_b6a8_50465d740ddc\" ><thead>    <tr>        <th class=\"blank level0\" ></th>        <th class=\"col_heading level0 col0\" >h=4.00e-04</th>        <th class=\"col_heading level0 col1\" >h=2.00e-04</th>        <th class=\"col_heading level0 col2\" >h=1.00e-04</th>    </tr></thead><tbody>\n",
       "                <tr>\n",
       "                        <th id=\"T_9121b0c7_8585_11eb_b6a8_50465d740ddclevel0_row0\" class=\"row_heading level0 row0\" >0</th>\n",
       "                        <td id=\"T_9121b0c7_8585_11eb_b6a8_50465d740ddcrow0_col0\" class=\"data row0 col0\" >2.840000</td>\n",
       "                        <td id=\"T_9121b0c7_8585_11eb_b6a8_50465d740ddcrow0_col1\" class=\"data row0 col1\" >11.220000</td>\n",
       "                        <td id=\"T_9121b0c7_8585_11eb_b6a8_50465d740ddcrow0_col2\" class=\"data row0 col2\" >43.420000</td>\n",
       "            </tr>\n",
       "            <tr>\n",
       "                        <th id=\"T_9121b0c7_8585_11eb_b6a8_50465d740ddclevel0_row1\" class=\"row_heading level0 row1\" >1</th>\n",
       "                        <td id=\"T_9121b0c7_8585_11eb_b6a8_50465d740ddcrow1_col0\" class=\"data row1 col0\" >11.080000</td>\n",
       "                        <td id=\"T_9121b0c7_8585_11eb_b6a8_50465d740ddcrow1_col1\" class=\"data row1 col1\" >42.230000</td>\n",
       "                        <td id=\"T_9121b0c7_8585_11eb_b6a8_50465d740ddcrow1_col2\" class=\"data row1 col2\" >154.510000</td>\n",
       "            </tr>\n",
       "            <tr>\n",
       "                        <th id=\"T_9121b0c7_8585_11eb_b6a8_50465d740ddclevel0_row2\" class=\"row_heading level0 row2\" >2</th>\n",
       "                        <td id=\"T_9121b0c7_8585_11eb_b6a8_50465d740ddcrow2_col0\" class=\"data row2 col0\" >69.680000</td>\n",
       "                        <td id=\"T_9121b0c7_8585_11eb_b6a8_50465d740ddcrow2_col1\" class=\"data row2 col1\" >193.060000</td>\n",
       "                        <td id=\"T_9121b0c7_8585_11eb_b6a8_50465d740ddcrow2_col2\" class=\"data row2 col2\" >614.840000</td>\n",
       "            </tr>\n",
       "    </tbody></table>"
      ],
      "text/plain": [
       "<pandas.io.formats.style.Styler at 0x1ec1990d370>"
      ]
     },
     "execution_count": 17,
     "metadata": {},
     "output_type": "execute_result"
    }
   ],
   "source": [
    "df_time.style"
   ]
  },
  {
   "cell_type": "markdown",
   "metadata": {},
   "source": [
    "### Аддитивный метод Шварца:"
   ]
  },
  {
   "cell_type": "code",
   "execution_count": 18,
   "metadata": {},
   "outputs": [],
   "source": [
    "df_iters = pd.read_csv('..//results/area_01/task_02/iterations/additive.csv')\n",
    "df_sigma = pd.read_csv('..//results/area_01/task_02/sigma/additive.csv')\n",
    "df_time = pd.read_csv('..//results/area_01/task_02/time/additive.csv')"
   ]
  },
  {
   "cell_type": "markdown",
   "metadata": {},
   "source": [
    "Таблица количества итераций:"
   ]
  },
  {
   "cell_type": "code",
   "execution_count": 19,
   "metadata": {},
   "outputs": [
    {
     "data": {
      "text/html": [
       "<style  type=\"text/css\" >\n",
       "</style><table id=\"T_9128dc0e_8585_11eb_86d8_50465d740ddc\" ><thead>    <tr>        <th class=\"blank level0\" ></th>        <th class=\"col_heading level0 col0\" >h=4.00e-04</th>        <th class=\"col_heading level0 col1\" >h=2.00e-04</th>        <th class=\"col_heading level0 col2\" >h=1.00e-04</th>    </tr></thead><tbody>\n",
       "                <tr>\n",
       "                        <th id=\"T_9128dc0e_8585_11eb_86d8_50465d740ddclevel0_row0\" class=\"row_heading level0 row0\" >0</th>\n",
       "                        <td id=\"T_9128dc0e_8585_11eb_86d8_50465d740ddcrow0_col0\" class=\"data row0 col0\" >71</td>\n",
       "                        <td id=\"T_9128dc0e_8585_11eb_86d8_50465d740ddcrow0_col1\" class=\"data row0 col1\" >69</td>\n",
       "                        <td id=\"T_9128dc0e_8585_11eb_86d8_50465d740ddcrow0_col2\" class=\"data row0 col2\" >70</td>\n",
       "            </tr>\n",
       "            <tr>\n",
       "                        <th id=\"T_9128dc0e_8585_11eb_86d8_50465d740ddclevel0_row1\" class=\"row_heading level0 row1\" >1</th>\n",
       "                        <td id=\"T_9128dc0e_8585_11eb_86d8_50465d740ddcrow1_col0\" class=\"data row1 col0\" >292</td>\n",
       "                        <td id=\"T_9128dc0e_8585_11eb_86d8_50465d740ddcrow1_col1\" class=\"data row1 col1\" >300</td>\n",
       "                        <td id=\"T_9128dc0e_8585_11eb_86d8_50465d740ddcrow1_col2\" class=\"data row1 col2\" >293</td>\n",
       "            </tr>\n",
       "            <tr>\n",
       "                        <th id=\"T_9128dc0e_8585_11eb_86d8_50465d740ddclevel0_row2\" class=\"row_heading level0 row2\" >2</th>\n",
       "                        <td id=\"T_9128dc0e_8585_11eb_86d8_50465d740ddcrow2_col0\" class=\"data row2 col0\" >1109</td>\n",
       "                        <td id=\"T_9128dc0e_8585_11eb_86d8_50465d740ddcrow2_col1\" class=\"data row2 col1\" >1122</td>\n",
       "                        <td id=\"T_9128dc0e_8585_11eb_86d8_50465d740ddcrow2_col2\" class=\"data row2 col2\" >1105</td>\n",
       "            </tr>\n",
       "    </tbody></table>"
      ],
      "text/plain": [
       "<pandas.io.formats.style.Styler at 0x1ec1990da60>"
      ]
     },
     "execution_count": 19,
     "metadata": {},
     "output_type": "execute_result"
    }
   ],
   "source": [
    "df_iters.style"
   ]
  },
  {
   "cell_type": "markdown",
   "metadata": {},
   "source": [
    "Таблица разницы для осевого напряжения:"
   ]
  },
  {
   "cell_type": "code",
   "execution_count": 20,
   "metadata": {},
   "outputs": [
    {
     "data": {
      "text/html": [
       "<style  type=\"text/css\" >\n",
       "</style><table id=\"T_912b4cd4_8585_11eb_844b_50465d740ddc\" ><thead>    <tr>        <th class=\"blank level0\" ></th>        <th class=\"col_heading level0 col0\" >h=4.00e-04</th>        <th class=\"col_heading level0 col1\" >h=2.00e-04</th>        <th class=\"col_heading level0 col2\" >h=1.00e-04</th>    </tr></thead><tbody>\n",
       "                <tr>\n",
       "                        <th id=\"T_912b4cd4_8585_11eb_844b_50465d740ddclevel0_row0\" class=\"row_heading level0 row0\" >0</th>\n",
       "                        <td id=\"T_912b4cd4_8585_11eb_844b_50465d740ddcrow0_col0\" class=\"data row0 col0\" >min = 1.36e-05, max = 2.61e-05</td>\n",
       "                        <td id=\"T_912b4cd4_8585_11eb_844b_50465d740ddcrow0_col1\" class=\"data row0 col1\" >min = 1.33e-05, max = 2.56e-05</td>\n",
       "                        <td id=\"T_912b4cd4_8585_11eb_844b_50465d740ddcrow0_col2\" class=\"data row0 col2\" >min = 1.41e-05, max = 2.82e-05</td>\n",
       "            </tr>\n",
       "            <tr>\n",
       "                        <th id=\"T_912b4cd4_8585_11eb_844b_50465d740ddclevel0_row1\" class=\"row_heading level0 row1\" >1</th>\n",
       "                        <td id=\"T_912b4cd4_8585_11eb_844b_50465d740ddcrow1_col0\" class=\"data row1 col0\" >min = 5.76e-05, max = 4.85e-05</td>\n",
       "                        <td id=\"T_912b4cd4_8585_11eb_844b_50465d740ddcrow1_col1\" class=\"data row1 col1\" >min = 5.38e-05, max = 5.24e-05</td>\n",
       "                        <td id=\"T_912b4cd4_8585_11eb_844b_50465d740ddcrow1_col2\" class=\"data row1 col2\" >min = 5.10e-05, max = 5.37e-05</td>\n",
       "            </tr>\n",
       "            <tr>\n",
       "                        <th id=\"T_912b4cd4_8585_11eb_844b_50465d740ddclevel0_row2\" class=\"row_heading level0 row2\" >2</th>\n",
       "                        <td id=\"T_912b4cd4_8585_11eb_844b_50465d740ddcrow2_col0\" class=\"data row2 col0\" >min = 7.78e-05, max = 1.79e-04</td>\n",
       "                        <td id=\"T_912b4cd4_8585_11eb_844b_50465d740ddcrow2_col1\" class=\"data row2 col1\" >min = 1.19e-04, max = 1.38e-04</td>\n",
       "                        <td id=\"T_912b4cd4_8585_11eb_844b_50465d740ddcrow2_col2\" class=\"data row2 col2\" >min = 1.16e-04, max = 1.27e-04</td>\n",
       "            </tr>\n",
       "    </tbody></table>"
      ],
      "text/plain": [
       "<pandas.io.formats.style.Styler at 0x1ec199135e0>"
      ]
     },
     "execution_count": 20,
     "metadata": {},
     "output_type": "execute_result"
    }
   ],
   "source": [
    "df_sigma.style"
   ]
  },
  {
   "cell_type": "markdown",
   "metadata": {},
   "source": [
    "Временные затраты:"
   ]
  },
  {
   "cell_type": "code",
   "execution_count": 21,
   "metadata": {},
   "outputs": [
    {
     "data": {
      "text/html": [
       "<style  type=\"text/css\" >\n",
       "</style><table id=\"T_912dbdaa_8585_11eb_89d6_50465d740ddc\" ><thead>    <tr>        <th class=\"blank level0\" ></th>        <th class=\"col_heading level0 col0\" >h=4.00e-04</th>        <th class=\"col_heading level0 col1\" >h=2.00e-04</th>        <th class=\"col_heading level0 col2\" >h=1.00e-04</th>    </tr></thead><tbody>\n",
       "                <tr>\n",
       "                        <th id=\"T_912dbdaa_8585_11eb_89d6_50465d740ddclevel0_row0\" class=\"row_heading level0 row0\" >0</th>\n",
       "                        <td id=\"T_912dbdaa_8585_11eb_89d6_50465d740ddcrow0_col0\" class=\"data row0 col0\" >8.330000</td>\n",
       "                        <td id=\"T_912dbdaa_8585_11eb_89d6_50465d740ddcrow0_col1\" class=\"data row0 col1\" >25.680000</td>\n",
       "                        <td id=\"T_912dbdaa_8585_11eb_89d6_50465d740ddcrow0_col2\" class=\"data row0 col2\" >119.400000</td>\n",
       "            </tr>\n",
       "            <tr>\n",
       "                        <th id=\"T_912dbdaa_8585_11eb_89d6_50465d740ddclevel0_row1\" class=\"row_heading level0 row1\" >1</th>\n",
       "                        <td id=\"T_912dbdaa_8585_11eb_89d6_50465d740ddcrow1_col0\" class=\"data row1 col0\" >40.280000</td>\n",
       "                        <td id=\"T_912dbdaa_8585_11eb_89d6_50465d740ddcrow1_col1\" class=\"data row1 col1\" >133.690000</td>\n",
       "                        <td id=\"T_912dbdaa_8585_11eb_89d6_50465d740ddcrow1_col2\" class=\"data row1 col2\" >465.470000</td>\n",
       "            </tr>\n",
       "            <tr>\n",
       "                        <th id=\"T_912dbdaa_8585_11eb_89d6_50465d740ddclevel0_row2\" class=\"row_heading level0 row2\" >2</th>\n",
       "                        <td id=\"T_912dbdaa_8585_11eb_89d6_50465d740ddcrow2_col0\" class=\"data row2 col0\" >218.870000</td>\n",
       "                        <td id=\"T_912dbdaa_8585_11eb_89d6_50465d740ddcrow2_col1\" class=\"data row2 col1\" >616.930000</td>\n",
       "                        <td id=\"T_912dbdaa_8585_11eb_89d6_50465d740ddcrow2_col2\" class=\"data row2 col2\" >1978.410000</td>\n",
       "            </tr>\n",
       "    </tbody></table>"
      ],
      "text/plain": [
       "<pandas.io.formats.style.Styler at 0x1ec19913c10>"
      ]
     },
     "execution_count": 21,
     "metadata": {},
     "output_type": "execute_result"
    }
   ],
   "source": [
    "df_time.style"
   ]
  },
  {
   "cell_type": "markdown",
   "metadata": {},
   "source": [
    "### Двухуровневый аддитивный метод Шварца:"
   ]
  },
  {
   "cell_type": "code",
   "execution_count": 22,
   "metadata": {},
   "outputs": [],
   "source": [
    "df_iters = pd.read_csv('..//results/area_01/task_02/iterations/two_level_additive.csv')\n",
    "df_sigma = pd.read_csv('..//results/area_01/task_02/sigma/two_level_additive.csv')\n",
    "df_time = pd.read_csv('..//results/area_01/task_02/time/two_level_additive.csv')"
   ]
  },
  {
   "cell_type": "markdown",
   "metadata": {},
   "source": [
    "Таблица количества итераций:"
   ]
  },
  {
   "cell_type": "code",
   "execution_count": 23,
   "metadata": {},
   "outputs": [
    {
     "data": {
      "text/html": [
       "<style  type=\"text/css\" >\n",
       "</style><table id=\"T_9134e8ea_8585_11eb_8820_50465d740ddc\" ><thead>    <tr>        <th class=\"blank level0\" ></th>        <th class=\"col_heading level0 col0\" >h=4.00e-04</th>        <th class=\"col_heading level0 col1\" >h=2.00e-04</th>        <th class=\"col_heading level0 col2\" >h=1.00e-04</th>    </tr></thead><tbody>\n",
       "                <tr>\n",
       "                        <th id=\"T_9134e8ea_8585_11eb_8820_50465d740ddclevel0_row0\" class=\"row_heading level0 row0\" >0</th>\n",
       "                        <td id=\"T_9134e8ea_8585_11eb_8820_50465d740ddcrow0_col0\" class=\"data row0 col0\" >14</td>\n",
       "                        <td id=\"T_9134e8ea_8585_11eb_8820_50465d740ddcrow0_col1\" class=\"data row0 col1\" >14</td>\n",
       "                        <td id=\"T_9134e8ea_8585_11eb_8820_50465d740ddcrow0_col2\" class=\"data row0 col2\" >14</td>\n",
       "            </tr>\n",
       "            <tr>\n",
       "                        <th id=\"T_9134e8ea_8585_11eb_8820_50465d740ddclevel0_row1\" class=\"row_heading level0 row1\" >1</th>\n",
       "                        <td id=\"T_9134e8ea_8585_11eb_8820_50465d740ddcrow1_col0\" class=\"data row1 col0\" >16</td>\n",
       "                        <td id=\"T_9134e8ea_8585_11eb_8820_50465d740ddcrow1_col1\" class=\"data row1 col1\" >16</td>\n",
       "                        <td id=\"T_9134e8ea_8585_11eb_8820_50465d740ddcrow1_col2\" class=\"data row1 col2\" >16</td>\n",
       "            </tr>\n",
       "            <tr>\n",
       "                        <th id=\"T_9134e8ea_8585_11eb_8820_50465d740ddclevel0_row2\" class=\"row_heading level0 row2\" >2</th>\n",
       "                        <td id=\"T_9134e8ea_8585_11eb_8820_50465d740ddcrow2_col0\" class=\"data row2 col0\" >22</td>\n",
       "                        <td id=\"T_9134e8ea_8585_11eb_8820_50465d740ddcrow2_col1\" class=\"data row2 col1\" >20</td>\n",
       "                        <td id=\"T_9134e8ea_8585_11eb_8820_50465d740ddcrow2_col2\" class=\"data row2 col2\" >20</td>\n",
       "            </tr>\n",
       "    </tbody></table>"
      ],
      "text/plain": [
       "<pandas.io.formats.style.Styler at 0x1ec199064f0>"
      ]
     },
     "execution_count": 23,
     "metadata": {},
     "output_type": "execute_result"
    }
   ],
   "source": [
    "df_iters.style"
   ]
  },
  {
   "cell_type": "markdown",
   "metadata": {},
   "source": [
    "Таблица разницы для осевого напряжения:"
   ]
  },
  {
   "cell_type": "code",
   "execution_count": 24,
   "metadata": {},
   "outputs": [
    {
     "data": {
      "text/html": [
       "<style  type=\"text/css\" >\n",
       "</style><table id=\"T_913732a3_8585_11eb_8943_50465d740ddc\" ><thead>    <tr>        <th class=\"blank level0\" ></th>        <th class=\"col_heading level0 col0\" >h=4.00e-04</th>        <th class=\"col_heading level0 col1\" >h=2.00e-04</th>        <th class=\"col_heading level0 col2\" >h=1.00e-04</th>    </tr></thead><tbody>\n",
       "                <tr>\n",
       "                        <th id=\"T_913732a3_8585_11eb_8943_50465d740ddclevel0_row0\" class=\"row_heading level0 row0\" >0</th>\n",
       "                        <td id=\"T_913732a3_8585_11eb_8943_50465d740ddcrow0_col0\" class=\"data row0 col0\" >min = 2.33e-05, max = 4.89e-05</td>\n",
       "                        <td id=\"T_913732a3_8585_11eb_8943_50465d740ddcrow0_col1\" class=\"data row0 col1\" >min = 3.23e-05, max = 6.18e-05</td>\n",
       "                        <td id=\"T_913732a3_8585_11eb_8943_50465d740ddcrow0_col2\" class=\"data row0 col2\" >min = 5.13e-05, max = 6.36e-05</td>\n",
       "            </tr>\n",
       "            <tr>\n",
       "                        <th id=\"T_913732a3_8585_11eb_8943_50465d740ddclevel0_row1\" class=\"row_heading level0 row1\" >1</th>\n",
       "                        <td id=\"T_913732a3_8585_11eb_8943_50465d740ddcrow1_col0\" class=\"data row1 col0\" >min = 8.42e-05, max = 8.20e-05</td>\n",
       "                        <td id=\"T_913732a3_8585_11eb_8943_50465d740ddcrow1_col1\" class=\"data row1 col1\" >min = 6.04e-05, max = 6.37e-05</td>\n",
       "                        <td id=\"T_913732a3_8585_11eb_8943_50465d740ddcrow1_col2\" class=\"data row1 col2\" >min = 6.59e-05, max = 6.28e-05</td>\n",
       "            </tr>\n",
       "            <tr>\n",
       "                        <th id=\"T_913732a3_8585_11eb_8943_50465d740ddclevel0_row2\" class=\"row_heading level0 row2\" >2</th>\n",
       "                        <td id=\"T_913732a3_8585_11eb_8943_50465d740ddcrow2_col0\" class=\"data row2 col0\" >min = 5.30e-04, max = 4.64e-04</td>\n",
       "                        <td id=\"T_913732a3_8585_11eb_8943_50465d740ddcrow2_col1\" class=\"data row2 col1\" >min = 5.71e-04, max = 3.67e-04</td>\n",
       "                        <td id=\"T_913732a3_8585_11eb_8943_50465d740ddcrow2_col2\" class=\"data row2 col2\" >min = 4.79e-04, max = 3.14e-04</td>\n",
       "            </tr>\n",
       "    </tbody></table>"
      ],
      "text/plain": [
       "<pandas.io.formats.style.Styler at 0x1ec198aee80>"
      ]
     },
     "execution_count": 24,
     "metadata": {},
     "output_type": "execute_result"
    }
   ],
   "source": [
    "df_sigma.style"
   ]
  },
  {
   "cell_type": "markdown",
   "metadata": {},
   "source": [
    "Временные затраты:"
   ]
  },
  {
   "cell_type": "code",
   "execution_count": 25,
   "metadata": {},
   "outputs": [
    {
     "data": {
      "text/html": [
       "<style  type=\"text/css\" >\n",
       "</style><table id=\"T_91397c65_8585_11eb_9fe0_50465d740ddc\" ><thead>    <tr>        <th class=\"blank level0\" ></th>        <th class=\"col_heading level0 col0\" >h=4.00e-04</th>        <th class=\"col_heading level0 col1\" >h=2.00e-04</th>        <th class=\"col_heading level0 col2\" >h=1.00e-04</th>    </tr></thead><tbody>\n",
       "                <tr>\n",
       "                        <th id=\"T_91397c65_8585_11eb_9fe0_50465d740ddclevel0_row0\" class=\"row_heading level0 row0\" >0</th>\n",
       "                        <td id=\"T_91397c65_8585_11eb_9fe0_50465d740ddcrow0_col0\" class=\"data row0 col0\" >7.120000</td>\n",
       "                        <td id=\"T_91397c65_8585_11eb_9fe0_50465d740ddcrow0_col1\" class=\"data row0 col1\" >27.030000</td>\n",
       "                        <td id=\"T_91397c65_8585_11eb_9fe0_50465d740ddcrow0_col2\" class=\"data row0 col2\" >95.890000</td>\n",
       "            </tr>\n",
       "            <tr>\n",
       "                        <th id=\"T_91397c65_8585_11eb_9fe0_50465d740ddclevel0_row1\" class=\"row_heading level0 row1\" >1</th>\n",
       "                        <td id=\"T_91397c65_8585_11eb_9fe0_50465d740ddcrow1_col0\" class=\"data row1 col0\" >8.690000</td>\n",
       "                        <td id=\"T_91397c65_8585_11eb_9fe0_50465d740ddcrow1_col1\" class=\"data row1 col1\" >31.330000</td>\n",
       "                        <td id=\"T_91397c65_8585_11eb_9fe0_50465d740ddcrow1_col2\" class=\"data row1 col2\" >116.100000</td>\n",
       "            </tr>\n",
       "            <tr>\n",
       "                        <th id=\"T_91397c65_8585_11eb_9fe0_50465d740ddclevel0_row2\" class=\"row_heading level0 row2\" >2</th>\n",
       "                        <td id=\"T_91397c65_8585_11eb_9fe0_50465d740ddcrow2_col0\" class=\"data row2 col0\" >13.010000</td>\n",
       "                        <td id=\"T_91397c65_8585_11eb_9fe0_50465d740ddcrow2_col1\" class=\"data row2 col1\" >40.620000</td>\n",
       "                        <td id=\"T_91397c65_8585_11eb_9fe0_50465d740ddcrow2_col2\" class=\"data row2 col2\" >155.280000</td>\n",
       "            </tr>\n",
       "    </tbody></table>"
      ],
      "text/plain": [
       "<pandas.io.formats.style.Styler at 0x1ec198ae460>"
      ]
     },
     "execution_count": 25,
     "metadata": {},
     "output_type": "execute_result"
    }
   ],
   "source": [
    "df_time.style"
   ]
  }
 ],
 "metadata": {
  "kernelspec": {
   "display_name": "Python 3",
   "language": "python",
   "name": "python3"
  },
  "language_info": {
   "codemirror_mode": {
    "name": "ipython",
    "version": 3
   },
   "file_extension": ".py",
   "mimetype": "text/x-python",
   "name": "python",
   "nbconvert_exporter": "python",
   "pygments_lexer": "ipython3",
   "version": "3.8.3"
  },
  "latex_envs": {
   "LaTeX_envs_menu_present": true,
   "autoclose": false,
   "autocomplete": true,
   "bibliofile": "biblio.bib",
   "cite_by": "apalike",
   "current_citInitial": 1,
   "eqLabelWithNumbers": true,
   "eqNumInitial": 1,
   "hotkeys": {
    "equation": "Ctrl-E",
    "itemize": "Ctrl-I"
   },
   "labels_anchors": false,
   "latex_user_defs": false,
   "report_style_numbering": false,
   "user_envs_cfg": false
  },
  "toc": {
   "base_numbering": 1,
   "nav_menu": {
    "height": "487px",
    "width": "400px"
   },
   "number_sections": true,
   "sideBar": true,
   "skip_h1_title": false,
   "title_cell": "Table of Contents",
   "title_sidebar": "Contents",
   "toc_cell": false,
   "toc_position": {},
   "toc_section_display": true,
   "toc_window_display": false
  }
 },
 "nbformat": 4,
 "nbformat_minor": 4
}
