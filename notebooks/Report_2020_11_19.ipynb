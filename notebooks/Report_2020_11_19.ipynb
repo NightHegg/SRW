{
 "cells": [
  {
   "cell_type": "markdown",
   "metadata": {},
   "source": [
    "# Отчёт_19_11_2020"
   ]
  },
  {
   "cell_type": "markdown",
   "metadata": {},
   "source": [
    "## Изменение главной директории (выполнять только один раз!)"
   ]
  },
  {
   "cell_type": "code",
   "execution_count": 1,
   "metadata": {},
   "outputs": [],
   "source": [
    "import sys\n",
    "import os\n",
    "os.chdir('..//') \n",
    "sys.path.append(os.path.abspath('pycode'))\n",
    "#sys.path.append(os.path.abspath('tests'))"
   ]
  },
  {
   "cell_type": "markdown",
   "metadata": {},
   "source": [
    "## Список файлов в директории"
   ]
  },
  {
   "cell_type": "code",
   "execution_count": 2,
   "metadata": {},
   "outputs": [
    {
     "name": "stdout",
     "output_type": "stream",
     "text": [
      "['tests_info.dat', 'test_1_10_2.dat', 'test_1_10_4.dat', 'test_1_10_8.dat', 'test_1_20_2.dat', 'test_1_20_4.dat', 'test_1_20_8.dat', 'test_1_40_2.dat', 'test_1_40_4.dat', 'test_1_40_8.dat', 'test_1_5_2.dat', 'test_1_5_4.dat', 'test_1_5_8.dat', 'test_2_10_2.dat', 'test_2_10_4.dat', 'test_2_10_8.dat', 'test_2_20_2.dat', 'test_2_20_4.dat', 'test_2_20_8.dat', 'test_2_40_2.dat', 'test_2_40_4.dat', 'test_2_40_8.dat', 'test_2_5_2.dat', 'test_2_5_4.dat', 'test_2_5_8.dat']\n"
     ]
    }
   ],
   "source": [
    "print(os.listdir(\"tests/\"))"
   ]
  },
  {
   "cell_type": "markdown",
   "metadata": {},
   "source": [
    "## Параметры для чтения файлов:"
   ]
  },
  {
   "cell_type": "code",
   "execution_count": 3,
   "metadata": {},
   "outputs": [],
   "source": [
    "with open(\"tests/tests_info.dat\") as f:\n",
    "    listAmntSubds = [int(x) for x in f.readline().split()]\n",
    "    listDivider = [int(x) for x in f.readline().split()]"
   ]
  },
  {
   "cell_type": "markdown",
   "metadata": {},
   "source": [
    "## Подключение необходимых библиотек"
   ]
  },
  {
   "cell_type": "code",
   "execution_count": 4,
   "metadata": {},
   "outputs": [],
   "source": [
    "import numpy as np\n",
    "import pandas as pd\n",
    "from programDisplacements import mainProgram as mp\n",
    "from programDisplacements import SchwarzAdditiveProgram as sap\n",
    "from programDisplacements import SchwarzMultiplicativeProgram as smp\n",
    "import matplotlib.pyplot as plt"
   ]
  },
  {
   "cell_type": "markdown",
   "metadata": {},
   "source": [
    "### Предоставленные задачи:"
   ]
  },
  {
   "cell_type": "markdown",
   "metadata": {},
   "source": [
    "- закрепление с трёх сторон (2 подобл., 3 подобл., 4 подобл., 25, 100, 400 точек);\n",
    "- закрепление с двух сторон (2 подобл., 3 подобл., 4 подобл., 25, 100, 400 точек);\n",
    "<div>\n",
    "<img src=\"img/tasks_Rodin.jpg\" width=\"250\"/>\n",
    "</div>"
   ]
  },
  {
   "cell_type": "markdown",
   "metadata": {},
   "source": [
    "## Первая задача:"
   ]
  },
  {
   "cell_type": "code",
   "execution_count": 5,
   "metadata": {},
   "outputs": [],
   "source": [
    "taskNum = 1"
   ]
  },
  {
   "cell_type": "markdown",
   "metadata": {},
   "source": [
    "### Получаем данные:"
   ]
  },
  {
   "cell_type": "code",
   "execution_count": 6,
   "metadata": {},
   "outputs": [],
   "source": [
    "uList_smp = []\n",
    "uList_sap = []\n",
    "itList_smp = []\n",
    "itList_sap = []\n",
    "\n",
    "for x in listAmntSubds:\n",
    "    tmp_1, tmp_2, tmp_3, tmp_4 = [], [], [], []\n",
    "    for y in listDivider:\n",
    "        u_1, *arg = mp(f\"test_{taskNum}_{y}_{x}.dat\")\n",
    "        u_2, *arg, it_1 = smp(f\"test_{taskNum}_{y}_{x}.dat\")\n",
    "        u_3, *arg, it_2 = sap(f\"test_{taskNum}_{y}_{x}.dat\")\n",
    "        tmp_1.append(np.linalg.norm(u_2 - u_1))\n",
    "        tmp_2.append(np.linalg.norm(u_3 - u_1))\n",
    "        tmp_3.append(it_1)\n",
    "        tmp_4.append(it_2)\n",
    "    uList_smp.append(tmp_1)\n",
    "    uList_sap.append(tmp_2)\n",
    "    itList_smp.append(tmp_3)\n",
    "    itList_sap.append(tmp_4)"
   ]
  },
  {
   "cell_type": "markdown",
   "metadata": {},
   "source": [
    "### Мультипликативный метод Шварца:"
   ]
  },
  {
   "cell_type": "markdown",
   "metadata": {},
   "source": [
    "##### Построение таблиц:\n",
    "Таблица ошибок для перемещений:"
   ]
  },
  {
   "cell_type": "code",
   "execution_count": 18,
   "metadata": {},
   "outputs": [
    {
     "name": "stdout",
     "output_type": "stream",
     "text": [
      "        25            100           400\n",
      "2  0.000004  9.689280e-08  1.561844e-07\n",
      "4  0.000008  1.309588e-06  9.226231e-07\n",
      "8  0.000008  1.442293e-05  6.443624e-06\n"
     ]
    }
   ],
   "source": [
    "df = pd.DataFrame(uList_smp, columns = [x**2 for x in listDivider], index = listAmntSubds)\n",
    "print(df)"
   ]
  },
  {
   "cell_type": "markdown",
   "metadata": {},
   "source": [
    "Таблица количества итераций:"
   ]
  },
  {
   "cell_type": "code",
   "execution_count": 19,
   "metadata": {},
   "outputs": [
    {
     "name": "stdout",
     "output_type": "stream",
     "text": [
      "   25   100  400\n",
      "2    3    8   10\n",
      "4    2   24   30\n",
      "8    2    6   61\n"
     ]
    }
   ],
   "source": [
    "df = pd.DataFrame(itList_smp, columns = [x**2 for x in listDivider], index = listAmntSubds)\n",
    "print(df)"
   ]
  },
  {
   "cell_type": "markdown",
   "metadata": {},
   "source": [
    "### Аддитивный метод Шварца:"
   ]
  },
  {
   "cell_type": "markdown",
   "metadata": {},
   "source": [
    "##### Построение таблиц:\n",
    "Таблица ошибок для перемещений:"
   ]
  },
  {
   "cell_type": "code",
   "execution_count": 20,
   "metadata": {},
   "outputs": [
    {
     "name": "stdout",
     "output_type": "stream",
     "text": [
      "        25            100           400\n",
      "2  0.000004  7.098792e-07  8.535299e-07\n",
      "4  0.000008  4.874233e-06  4.210420e-06\n",
      "8  0.000008  1.458814e-05  1.416690e-05\n"
     ]
    }
   ],
   "source": [
    "df = pd.DataFrame(uList_sap, columns = [x**2 for x in listDivider], index = listAmntSubds)\n",
    "print(df)"
   ]
  },
  {
   "cell_type": "markdown",
   "metadata": {},
   "source": [
    "Таблица количества итераций:"
   ]
  },
  {
   "cell_type": "code",
   "execution_count": 21,
   "metadata": {},
   "outputs": [
    {
     "name": "stdout",
     "output_type": "stream",
     "text": [
      "   25   100  400\n",
      "2    7   18   26\n",
      "4    5   26   57\n",
      "8    4   12   51\n"
     ]
    }
   ],
   "source": [
    "df = pd.DataFrame(itList_sap, columns = [x**2 for x in listDivider], index = listAmntSubds)\n",
    "print(df)"
   ]
  },
  {
   "cell_type": "markdown",
   "metadata": {},
   "source": [
    "## Вторая задача:"
   ]
  },
  {
   "cell_type": "code",
   "execution_count": 11,
   "metadata": {},
   "outputs": [],
   "source": [
    "taskNum = 2"
   ]
  },
  {
   "cell_type": "markdown",
   "metadata": {},
   "source": [
    "### Получаем данные:"
   ]
  },
  {
   "cell_type": "code",
   "execution_count": 12,
   "metadata": {},
   "outputs": [],
   "source": [
    "uList_smp = []\n",
    "uList_sap = []\n",
    "itList_smp = []\n",
    "itList_sap = []\n",
    "\n",
    "for x in listAmntSubds:\n",
    "    tmp_1, tmp_2, tmp_3, tmp_4 = [], [], [], []\n",
    "    for y in listDivider:\n",
    "        u_1, *arg = mp(f\"test_{taskNum}_{y}_{x}.dat\")\n",
    "        u_2, *arg, it_1 = smp(f\"test_{taskNum}_{y}_{x}.dat\")\n",
    "        u_3, *arg, it_2 = sap(f\"test_{taskNum}_{y}_{x}.dat\")\n",
    "        tmp_1.append(np.linalg.norm(u_2 - u_1))\n",
    "        tmp_2.append(np.linalg.norm(u_3 - u_1))\n",
    "        tmp_3.append(it_1)\n",
    "        tmp_4.append(it_2)\n",
    "    uList_smp.append(tmp_1)\n",
    "    uList_sap.append(tmp_2)\n",
    "    itList_smp.append(tmp_3)\n",
    "    itList_sap.append(tmp_4)"
   ]
  },
  {
   "cell_type": "markdown",
   "metadata": {},
   "source": [
    "### Мультипликативный метод Шварца:"
   ]
  },
  {
   "cell_type": "markdown",
   "metadata": {},
   "source": [
    "##### Построение таблиц:\n",
    "Таблица ошибок для перемещений:"
   ]
  },
  {
   "cell_type": "code",
   "execution_count": 22,
   "metadata": {},
   "outputs": [
    {
     "name": "stdout",
     "output_type": "stream",
     "text": [
      "        25            100           400\n",
      "2  0.000004  9.689280e-08  1.561844e-07\n",
      "4  0.000008  1.309588e-06  9.226231e-07\n",
      "8  0.000008  1.442293e-05  6.443624e-06\n"
     ]
    }
   ],
   "source": [
    "df = pd.DataFrame(uList_smp, columns = [x**2 for x in listDivider], index = listAmntSubds)\n",
    "print(df)"
   ]
  },
  {
   "cell_type": "markdown",
   "metadata": {},
   "source": [
    "Таблица количества итераций:"
   ]
  },
  {
   "cell_type": "code",
   "execution_count": 23,
   "metadata": {},
   "outputs": [
    {
     "name": "stdout",
     "output_type": "stream",
     "text": [
      "   25   100  400\n",
      "2    3    8   10\n",
      "4    2   24   30\n",
      "8    2    6   61\n"
     ]
    }
   ],
   "source": [
    "df = pd.DataFrame(itList_smp, columns = [x**2 for x in listDivider], index = listAmntSubds)\n",
    "print(df)"
   ]
  },
  {
   "cell_type": "markdown",
   "metadata": {},
   "source": [
    "### Аддитивный метод Шварца:"
   ]
  },
  {
   "cell_type": "markdown",
   "metadata": {},
   "source": [
    "##### Построение таблиц:\n",
    "Таблица ошибок для перемещений:"
   ]
  },
  {
   "cell_type": "code",
   "execution_count": 24,
   "metadata": {},
   "outputs": [
    {
     "name": "stdout",
     "output_type": "stream",
     "text": [
      "        25            100           400\n",
      "2  0.000004  7.098792e-07  8.535299e-07\n",
      "4  0.000008  4.874233e-06  4.210420e-06\n",
      "8  0.000008  1.458814e-05  1.416690e-05\n"
     ]
    }
   ],
   "source": [
    "df = pd.DataFrame(uList_sap, columns = [x**2 for x in listDivider], index = listAmntSubds)\n",
    "print(df)"
   ]
  },
  {
   "cell_type": "markdown",
   "metadata": {},
   "source": [
    "Таблица количества итераций:"
   ]
  },
  {
   "cell_type": "code",
   "execution_count": 25,
   "metadata": {},
   "outputs": [
    {
     "name": "stdout",
     "output_type": "stream",
     "text": [
      "   25   100  400\n",
      "2    7   18   26\n",
      "4    5   26   57\n",
      "8    4   12   51\n"
     ]
    }
   ],
   "source": [
    "df = pd.DataFrame(itList_sap, columns = [x**2 for x in listDivider], index = listAmntSubds)\n",
    "print(df)"
   ]
  },
  {
   "cell_type": "code",
   "execution_count": null,
   "metadata": {},
   "outputs": [],
   "source": []
  }
 ],
 "metadata": {
  "kernelspec": {
   "display_name": "Python 3",
   "language": "python",
   "name": "python3"
  },
  "language_info": {
   "codemirror_mode": {
    "name": "ipython",
    "version": 3
   },
   "file_extension": ".py",
   "mimetype": "text/x-python",
   "name": "python",
   "nbconvert_exporter": "python",
   "pygments_lexer": "ipython3",
   "version": "3.8.3"
  }
 },
 "nbformat": 4,
 "nbformat_minor": 4
}
